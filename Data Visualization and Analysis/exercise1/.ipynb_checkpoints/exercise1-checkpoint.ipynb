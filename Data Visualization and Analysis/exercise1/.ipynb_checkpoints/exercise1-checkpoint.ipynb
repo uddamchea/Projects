{
 "cells": [
  {
   "cell_type": "markdown",
   "id": "bb700fd4",
   "metadata": {
    "deletable": false,
    "editable": false,
    "nbgrader": {
     "cell_type": "markdown",
     "checksum": "39d084b519322e6de918a86e4ccf339b",
     "grade": false,
     "grade_id": "directions-general",
     "locked": true,
     "schema_version": 3,
     "solution": false,
     "task": false
    },
    "tags": []
   },
   "source": [
    "# General tasks and directions\n",
    "\n",
    "- Add your name, today's date, and the assignment title to the designated cell.\n",
    "- Write your answers in the cells that contain `Add your answer here.` line.\n",
    "- Write your code in the cells that contain `# Add your implementation here.` line.\n",
    "- Use autograder tests that are provided for your convenience.\n",
    "- Don't change or delete any provided code (including [cell magic](https://ipython.readthedocs.io/en/stable/interactive/magics.html) such as `%%capture output`).\n"
   ]
  },
  {
   "cell_type": "markdown",
   "id": "2df0c5a3",
   "metadata": {
    "tags": []
   },
   "source": [
    "## Add your name, today's date, and the assignment title\n",
    "\n",
    "author: Ratanak Uddam Chea\n",
    "\n",
    "date: 02/08/2023\n",
    "\n",
    "assignment: exercise1\n"
   ]
  },
  {
   "cell_type": "markdown",
   "id": "3ec4a51d-55df-417c-9207-939cf23e4561",
   "metadata": {
    "deletable": false,
    "editable": false,
    "nbgrader": {
     "cell_type": "markdown",
     "checksum": "eea6eda6094a154ee4844b2531411e0e",
     "grade": false,
     "grade_id": "intro",
     "locked": true,
     "schema_version": 3,
     "solution": false,
     "task": false
    },
    "tags": []
   },
   "source": [
    "# World\n",
    "\n",
    "## Description\n",
    "\n",
    "Extract data about countries from multiple files and store it in a `dictionary` of `namedtuple` objects.\n",
    "\n",
    "This exercise consists of several tasks:\n",
    "\n",
    "1. Read official names and various codes from *world_codes.csv* into a dictionary `world_codes_data`.\n",
    "1. Read demographic data from *world_demo.csv* into a dictionary `world_demo_data`.\n",
    "1. Read geographical data from *world_geo.csv* into a dictionary `world_geo_data`.\n",
    "1. Read government information from *world_gov.csv* into a dictionary `world_gov_data`.\n",
    "1. Read regional location *world_regions.csv* into a dictionary `world_regions_data`.\n",
    "1. Merge all the dictionaries into one big dictionary `the_world`. Note that the number of countries and territories in each of the provided files is different, so you should use *Country* value in the *world_codes.csv* as a standard name and consider UN member states **only** when merging.\n",
    "\n",
    "All data files have headers and use comma (`,`) to separate values. You *should* use `DictReader` function from the `csv` module.\n",
    "\n",
    "## References\n",
    "\n",
    "- [Lists of countries and territories - Wikipedia](https://en.wikipedia.org/wiki/Lists_of_countries_and_territories)\n",
    "- [List of ISO 3166 country codes - Wikipedia](https://en.wikipedia.org/wiki/List_of_ISO_3166_country_codes)\n",
    "- [List of countries by United Nations geoscheme - Wikipedia](https://en.wikipedia.org/wiki/List_of_countries_by_United_Nations_geoscheme)\n",
    "- [List of countries by system of government - Wikipedia](https://en.wikipedia.org/wiki/List_of_countries_by_system_of_government)\n",
    "- [List of current heads of state and government - Wikipedia](https://en.wikipedia.org/wiki/List_of_current_heads_of_state_and_government)\n",
    "- [List of countries and dependencies by area - Wikipedia](https://en.wikipedia.org/wiki/List_of_countries_and_dependencies_by_area)\n",
    "- [List of countries by population (United Nations) - Wikipedia](https://en.wikipedia.org/wiki/List_of_countries_by_population_(United_Nations))\n"
   ]
  },
  {
   "cell_type": "code",
   "execution_count": 1,
   "id": "29f799c4-a985-480e-8bff-c9f9151b6878",
   "metadata": {
    "deletable": false,
    "editable": false,
    "nbgrader": {
     "cell_type": "code",
     "checksum": "69c7d2c2c51be682d215a00db0cf620f",
     "grade": false,
     "grade_id": "imports",
     "locked": true,
     "schema_version": 3,
     "solution": false,
     "task": false
    },
    "tags": []
   },
   "outputs": [],
   "source": [
    "# Import statements\n",
    "\n",
    "import csv  # Optional but recommended\n",
    "\n",
    "from collections import namedtuple, defaultdict\n",
    "from pprint import pprint"
   ]
  },
  {
   "cell_type": "markdown",
   "id": "386484ba-65b4-4f59-a6a9-5f897ce640bd",
   "metadata": {
    "deletable": false,
    "editable": false,
    "nbgrader": {
     "cell_type": "markdown",
     "checksum": "e39e62b083c382d0c4a5c28b95b87bdc",
     "grade": false,
     "grade_id": "description-task-1",
     "locked": true,
     "schema_version": 3,
     "solution": false,
     "task": false
    },
    "tags": []
   },
   "source": [
    "## Task 1\n",
    "\n",
    "Read the data from *world_codes.csv* and store the result as a `dictionary` of dictionaries.\n",
    "\n",
    "Use country names as keys in the `world_regions_data` dictionary and country details (\"Country\", \"Alpha-2 code\", \"Alpha-3 code\", \"Internet ccTLD\", \"Numeric code\", \"Official state name\", and \"Soveraignty\") as keys of the embedded dictionary.\n",
    "\n",
    "Note that \"Numeric code\" must be stored as an integer number.\n"
   ]
  },
  {
   "cell_type": "code",
   "execution_count": 2,
   "id": "6a8cad0f-3a98-4d12-bbc9-54aed62b2efa",
   "metadata": {
    "deletable": false,
    "nbgrader": {
     "cell_type": "code",
     "checksum": "c441652e76ee4b8b68cfb7638a29797b",
     "grade": false,
     "grade_id": "solution-task-1",
     "locked": false,
     "schema_version": 3,
     "solution": true,
     "task": false
    },
    "tags": []
   },
   "outputs": [],
   "source": [
    "world_codes_data = dict()\n",
    "\n",
    "with open(\"world_codes.csv\", \"r\", encoding=\"utf-8\") as f:\n",
    "    # Add your implementation here.\n",
    "    #try and use defaultdict to skip writing condition when inserting new object into dict\n",
    "    reader = csv.DictReader(f)\n",
    "    for row in reader:\n",
    "        inner_dict = defaultdict(dict)\n",
    "        for key, value in sorted(row.items()):\n",
    "            if key == \"Numeric code\":\n",
    "                inner_dict[key] = int(value)\n",
    "            else:\n",
    "                inner_dict[key] = value\n",
    "        world_codes_data[row[\"Country\"]] = inner_dict"
   ]
  },
  {
   "cell_type": "code",
   "execution_count": 3,
   "id": "49f2b46c-cbc0-45e1-8cbc-35afd468558c",
   "metadata": {
    "deletable": false,
    "editable": false,
    "nbgrader": {
     "cell_type": "code",
     "checksum": "9ce920f0566f840aa73728b65503a54a",
     "grade": true,
     "grade_id": "test-task-1-type",
     "locked": true,
     "points": 1,
     "schema_version": 3,
     "solution": false,
     "task": false
    },
    "tags": []
   },
   "outputs": [],
   "source": [
    "assert isinstance(world_codes_data, dict)"
   ]
  },
  {
   "cell_type": "code",
   "execution_count": 4,
   "id": "50b91b09-f6dc-4072-aba6-27714ce8d940",
   "metadata": {
    "deletable": false,
    "editable": false,
    "nbgrader": {
     "cell_type": "code",
     "checksum": "66cdf89a05ef92cc83ff2e2dd6a0f850",
     "grade": true,
     "grade_id": "test-task-1-size",
     "locked": true,
     "points": 1,
     "schema_version": 3,
     "solution": false,
     "task": false
    },
    "tags": []
   },
   "outputs": [],
   "source": [
    "assert len(world_codes_data) == 249"
   ]
  },
  {
   "cell_type": "code",
   "execution_count": 5,
   "id": "c554a96e-b472-47ab-8af9-a0dacdaefbdb",
   "metadata": {
    "deletable": false,
    "editable": false,
    "nbgrader": {
     "cell_type": "code",
     "checksum": "58dbd14a43745c532f263d4fe4d128c0",
     "grade": true,
     "grade_id": "test-task-1-1",
     "locked": true,
     "points": 2,
     "schema_version": 3,
     "solution": false,
     "task": false
    },
    "tags": []
   },
   "outputs": [],
   "source": [
    "assert world_codes_data[\"United States of America\"] == {\n",
    "    'Alpha-2 code': 'US',\n",
    "    'Alpha-3 code': 'USA',\n",
    "    'Country': 'United States of America',\n",
    "    'Internet ccTLD': '.us',\n",
    "    'Numeric code': 840,\n",
    "    'Official state name': 'The United States of America',\n",
    "    'Sovereignty': 'UN member state'\n",
    "}"
   ]
  },
  {
   "cell_type": "code",
   "execution_count": 6,
   "id": "283f2568-f91e-4390-8762-311f50f29605",
   "metadata": {
    "deletable": false,
    "editable": false,
    "nbgrader": {
     "cell_type": "code",
     "checksum": "8dae29cef7353bda4504d2582cec93a3",
     "grade": true,
     "grade_id": "test-task-1-2",
     "locked": true,
     "points": 2,
     "schema_version": 3,
     "solution": false,
     "task": false
    },
    "tags": []
   },
   "outputs": [],
   "source": [
    "assert world_codes_data[\"Svalbard\"] == {\n",
    "    'Alpha-2 code': 'SJ',\n",
    "    'Alpha-3 code': 'SJM',\n",
    "    'Country': 'Svalbard',\n",
    "    'Internet ccTLD': '',\n",
    "    'Numeric code': 744,\n",
    "    'Official state name': 'Svalbard and Jan Mayen',\n",
    "    'Sovereignty': 'Norway'\n",
    "}"
   ]
  },
  {
   "cell_type": "markdown",
   "id": "5e4a2f97-f9b6-4ce1-93ff-65daf6a0baab",
   "metadata": {
    "deletable": false,
    "editable": false,
    "nbgrader": {
     "cell_type": "markdown",
     "checksum": "005e45a289895c56922ba1ee6ad4f705",
     "grade": false,
     "grade_id": "description-task-2",
     "locked": true,
     "schema_version": 3,
     "solution": false,
     "task": false
    },
    "tags": []
   },
   "source": [
    "## Task 2\n",
    "\n",
    "Read data from *world_demo.csv* and store the result as a `dictionary` of dictionaries.\n",
    "\n",
    "Use country names as keys in the `world_demo_data` dictionary and country details (\"Country\", \"Population\") as keys of the embedded dictionary.\n",
    "\n",
    "Note that \"Numeric code\" must be stored as an integer number.\n",
    "\n",
    " "
   ]
  },
  {
   "cell_type": "code",
   "execution_count": 7,
   "id": "a1f2c58c-87df-4b8b-b809-7087e430f8b1",
   "metadata": {
    "deletable": false,
    "nbgrader": {
     "cell_type": "code",
     "checksum": "06ffe6b07d10bf1f92d5e88c8e33217a",
     "grade": false,
     "grade_id": "solution-task-2",
     "locked": false,
     "schema_version": 3,
     "solution": true,
     "task": false
    },
    "tags": []
   },
   "outputs": [],
   "source": [
    "world_demo_data = dict()\n",
    "\n",
    "with open(\"world_demo.csv\", \"r\", encoding=\"utf-8\") as f:\n",
    "    # Add your implementation here.\n",
    "    reader = csv.DictReader(f)\n",
    "    for row in reader:\n",
    "        inner_dict = defaultdict(dict)\n",
    "        for key, value in sorted(row.items()):\n",
    "            if key == \"Population\":\n",
    "                inner_dict[key] = int(value.replace(\",\", \"\"))\n",
    "            else:\n",
    "                inner_dict[key] = value\n",
    "        world_demo_data[row[\"Country\"]] = inner_dict"
   ]
  },
  {
   "cell_type": "code",
   "execution_count": 8,
   "id": "ab9f54ce-c397-4762-9627-f546a55c10e8",
   "metadata": {
    "deletable": false,
    "editable": false,
    "nbgrader": {
     "cell_type": "code",
     "checksum": "3e7a28d5d76e4ade87064e40cf35c8b6",
     "grade": true,
     "grade_id": "test-task-2-type",
     "locked": true,
     "points": 1,
     "schema_version": 3,
     "solution": false,
     "task": false
    },
    "tags": []
   },
   "outputs": [],
   "source": [
    "assert isinstance(world_demo_data, dict)"
   ]
  },
  {
   "cell_type": "code",
   "execution_count": 9,
   "id": "5d8d97bd-3704-414e-b565-a8ce5bf8054f",
   "metadata": {
    "deletable": false,
    "editable": false,
    "nbgrader": {
     "cell_type": "code",
     "checksum": "857c0b4de5b596e0c0c4b0da1005f677",
     "grade": true,
     "grade_id": "test-task-2-size",
     "locked": true,
     "points": 1,
     "schema_version": 3,
     "solution": false,
     "task": false
    },
    "tags": []
   },
   "outputs": [],
   "source": [
    "assert len(world_demo_data) == 233"
   ]
  },
  {
   "cell_type": "code",
   "execution_count": 10,
   "id": "4dba434f-073b-4c06-846f-db0520b22261",
   "metadata": {
    "deletable": false,
    "editable": false,
    "nbgrader": {
     "cell_type": "code",
     "checksum": "0fbaafaec5ef2d3d76a332830472ba27",
     "grade": true,
     "grade_id": "test-task-2-1",
     "locked": true,
     "points": 2,
     "schema_version": 3,
     "solution": false,
     "task": false
    },
    "tags": []
   },
   "outputs": [],
   "source": [
    "assert world_demo_data[\"United States of America\"] == {\n",
    "    'Country': 'United States of America',\n",
    "    'Population': 329064917\n",
    "}"
   ]
  },
  {
   "cell_type": "code",
   "execution_count": 11,
   "id": "6f749b56-9e72-4d64-9b9d-0dde14f969ab",
   "metadata": {
    "deletable": false,
    "editable": false,
    "nbgrader": {
     "cell_type": "code",
     "checksum": "a92d93a1bdabc59a9d327713c9d4fba9",
     "grade": true,
     "grade_id": "test-task-2-2",
     "locked": true,
     "points": 2,
     "schema_version": 3,
     "solution": false,
     "task": false
    },
    "tags": []
   },
   "outputs": [],
   "source": [
    "assert world_demo_data[\"Vatican City\"] == {\n",
    "    'Country': 'Vatican City',\n",
    "    'Population': 799\n",
    "}"
   ]
  },
  {
   "cell_type": "markdown",
   "id": "c7dbced0-8c50-4a98-9900-9efacbc5c8a0",
   "metadata": {
    "deletable": false,
    "editable": false,
    "nbgrader": {
     "cell_type": "markdown",
     "checksum": "6239e5842d1aac4352f7a24133be8a5a",
     "grade": false,
     "grade_id": "description-task-3",
     "locked": true,
     "schema_version": 3,
     "solution": false,
     "task": false
    },
    "tags": []
   },
   "source": [
    "## Task 3\n",
    "\n",
    "Read data from *world_geo.csv* and store the result as a `dictionary` of dictionaries.\n",
    "\n",
    "Use country names as keys in the `world_geo_data` dictionary and country details (\"Country\", \"Total (km2)\", \"Land (km2)\", \"Water (km2)\") as keys of the embedded dictionary.\n",
    "\n",
    "Note that \"Total (km2)\", \"Land (km2)\", and \"Water (km2)\" must be stored as an integer numbers.\n",
    "\n",
    " "
   ]
  },
  {
   "cell_type": "code",
   "execution_count": 12,
   "id": "b25649dc-5818-44d2-ae4c-ea196ee97027",
   "metadata": {
    "deletable": false,
    "nbgrader": {
     "cell_type": "code",
     "checksum": "5a3d452b98cbd23de8ed0bcd6484e424",
     "grade": false,
     "grade_id": "solution-task-3",
     "locked": false,
     "schema_version": 3,
     "solution": true,
     "task": false
    },
    "tags": []
   },
   "outputs": [],
   "source": [
    "world_geo_data = dict()\n",
    "\n",
    "with open(\"world_geo.csv\", \"r\", encoding=\"utf-8\") as f:\n",
    "    # Add your implementation here.\n",
    "    reader = csv.DictReader(f)\n",
    "    for row in reader:\n",
    "        inner_dict = defaultdict(dict)\n",
    "        for key, value in sorted(row.items()):\n",
    "            if key == \"Land (km2)\" or key == \"Total (km2)\" or key == \"Water (km2)\":\n",
    "                if value == \"\" or value == \"-\":\n",
    "                    inner_dict[key] = value\n",
    "                else:\n",
    "                    inner_dict[key] = int(value.replace(\",\", \"\"))\n",
    "            else:\n",
    "                inner_dict[key] = value\n",
    "        world_geo_data[row[\"Country\"]] = inner_dict"
   ]
  },
  {
   "cell_type": "code",
   "execution_count": 13,
   "id": "931dc73b-3ecc-4f0d-8699-b6c57fc635bf",
   "metadata": {
    "deletable": false,
    "editable": false,
    "nbgrader": {
     "cell_type": "code",
     "checksum": "f23633f367a3bd40b019d3be4915e1f3",
     "grade": true,
     "grade_id": "test-task-3-type",
     "locked": true,
     "points": 1,
     "schema_version": 3,
     "solution": false,
     "task": false
    },
    "tags": []
   },
   "outputs": [],
   "source": [
    "assert isinstance(world_geo_data, dict)"
   ]
  },
  {
   "cell_type": "code",
   "execution_count": 14,
   "id": "afa657a7-3054-4106-9868-735fa9278921",
   "metadata": {
    "deletable": false,
    "editable": false,
    "nbgrader": {
     "cell_type": "code",
     "checksum": "0faa660ef776a18acb40e1bc765c2b39",
     "grade": true,
     "grade_id": "test-task-3-size",
     "locked": true,
     "points": 1,
     "schema_version": 3,
     "solution": false,
     "task": false
    },
    "tags": []
   },
   "outputs": [],
   "source": [
    "assert len(world_geo_data) == 261"
   ]
  },
  {
   "cell_type": "code",
   "execution_count": 15,
   "id": "d086cd0d-e8ff-4202-a0f8-b75f405014fa",
   "metadata": {
    "deletable": false,
    "editable": false,
    "nbgrader": {
     "cell_type": "code",
     "checksum": "f082a78d9d999f3ca0ffb4935bdb952d",
     "grade": true,
     "grade_id": "test-task-3-1",
     "locked": true,
     "points": 2,
     "schema_version": 3,
     "solution": false,
     "task": false
    },
    "tags": []
   },
   "outputs": [],
   "source": [
    "assert world_geo_data[\"United States of America\"] == {\n",
    "    'Country': 'United States of America',\n",
    "    'Land (km2)': 9147593,\n",
    "    'Total (km2)': 9525067,\n",
    "    'Water (km2)': 377424\n",
    "}"
   ]
  },
  {
   "cell_type": "code",
   "execution_count": 16,
   "id": "6f8774ad-dea2-44f3-b41d-1de7e87dcf6d",
   "metadata": {
    "deletable": false,
    "editable": false,
    "nbgrader": {
     "cell_type": "code",
     "checksum": "0596ece5ef9d965cfe4be4bc22e4e160",
     "grade": true,
     "grade_id": "test-task-3-2",
     "locked": true,
     "points": 2,
     "schema_version": 3,
     "solution": false,
     "task": false
    },
    "tags": []
   },
   "outputs": [],
   "source": [
    "assert world_geo_data[\"Saint Barthélemy\"] == {\n",
    "    'Country': 'Saint Barthélemy',\n",
    "    'Land (km2)': '',\n",
    "    'Total (km2)': 21,\n",
    "    'Water (km2)': ''\n",
    "}"
   ]
  },
  {
   "cell_type": "markdown",
   "id": "401dc947-e243-40ea-9704-d40e261d3dab",
   "metadata": {
    "deletable": false,
    "editable": false,
    "nbgrader": {
     "cell_type": "markdown",
     "checksum": "04b1901d464a65b206bd3d0bfdcee8ef",
     "grade": false,
     "grade_id": "description-task-4",
     "locked": true,
     "schema_version": 3,
     "solution": false,
     "task": false
    },
    "tags": []
   },
   "source": [
    "## Task 4\n",
    "\n",
    "Read data from *world_gov.csv* and store the result as a `dictionary` of dictionaries.\n",
    "\n",
    "Use country names as keys in the `world_gov_data` dictionary and country details (\"Country\", \"Constitutional form\", \"Head of state\", \"Capital\") as keys of the embedded dictionary.\n",
    " "
   ]
  },
  {
   "cell_type": "code",
   "execution_count": 17,
   "id": "6c2349cd-ddd1-4228-b08b-558e14e14b5a",
   "metadata": {
    "deletable": false,
    "nbgrader": {
     "cell_type": "code",
     "checksum": "afedeb08612a575d3101830c97cefde2",
     "grade": false,
     "grade_id": "solution-task-4",
     "locked": false,
     "schema_version": 3,
     "solution": true,
     "task": false
    },
    "tags": []
   },
   "outputs": [],
   "source": [
    "world_gov_data = dict()\n",
    "\n",
    "with open(\"world_gov.csv\", \"r\", encoding=\"utf-8\") as f:\n",
    "    # Add your implementation here.\n",
    "    reader = csv.DictReader(f)\n",
    "    for row in reader:\n",
    "        inner_dict = defaultdict(dict)\n",
    "        for key, value in sorted(row.items()):\n",
    "            inner_dict[key] = value\n",
    "        world_gov_data[row[\"Country\"]] = inner_dict"
   ]
  },
  {
   "cell_type": "code",
   "execution_count": 18,
   "id": "07deb356-b810-4bab-b811-f9cb96eb390c",
   "metadata": {
    "deletable": false,
    "editable": false,
    "nbgrader": {
     "cell_type": "code",
     "checksum": "c1bba58fbbc778390dffacd505570413",
     "grade": true,
     "grade_id": "test-task-4-type",
     "locked": true,
     "points": 1,
     "schema_version": 3,
     "solution": false,
     "task": false
    },
    "tags": []
   },
   "outputs": [],
   "source": [
    "assert isinstance(world_gov_data, dict)"
   ]
  },
  {
   "cell_type": "code",
   "execution_count": 19,
   "id": "b1bb304b-f9d9-4f6e-9686-0a07c3921b3b",
   "metadata": {
    "deletable": false,
    "editable": false,
    "nbgrader": {
     "cell_type": "code",
     "checksum": "a01567f63eb373b92f854122a215b470",
     "grade": true,
     "grade_id": "test-task-4-size",
     "locked": true,
     "points": 1,
     "schema_version": 3,
     "solution": false,
     "task": false
    },
    "tags": []
   },
   "outputs": [],
   "source": [
    "assert len(world_gov_data) == 195"
   ]
  },
  {
   "cell_type": "code",
   "execution_count": 20,
   "id": "12444d08-8a66-4524-b393-50fe72642924",
   "metadata": {
    "deletable": false,
    "editable": false,
    "nbgrader": {
     "cell_type": "code",
     "checksum": "0635a11b3559bb53c48b2f1e284fe53a",
     "grade": true,
     "grade_id": "test-task-4-1",
     "locked": true,
     "points": 2,
     "schema_version": 3,
     "solution": false,
     "task": false
    },
    "tags": []
   },
   "outputs": [],
   "source": [
    "assert world_gov_data[\"United States of America\"] == {\n",
    "    'Capital': 'Washington D.C.',\n",
    "    'Constitutional form': 'Republic',\n",
    "    'Country': 'United States of America',\n",
    "    'Head of state': 'Joe Biden'\n",
    "}"
   ]
  },
  {
   "cell_type": "code",
   "execution_count": 21,
   "id": "0a786d0d-15aa-49ad-b376-9454d00b2ab1",
   "metadata": {
    "deletable": false,
    "editable": false,
    "nbgrader": {
     "cell_type": "code",
     "checksum": "d09817a5fd9b4166f24ba0ea9cd477fa",
     "grade": true,
     "grade_id": "test-task-4-2",
     "locked": true,
     "points": 2,
     "schema_version": 3,
     "solution": false,
     "task": false
    },
    "tags": []
   },
   "outputs": [],
   "source": [
    "assert world_gov_data[\"Cape Verde\"] == {\n",
    "    'Capital': 'Praia',\n",
    "    'Constitutional form': 'Republic',\n",
    "    'Country': 'Cape Verde',\n",
    "    'Head of state': 'José Maria Neves'\n",
    "}"
   ]
  },
  {
   "cell_type": "markdown",
   "id": "887784f6",
   "metadata": {
    "deletable": false,
    "editable": false,
    "nbgrader": {
     "cell_type": "markdown",
     "checksum": "3762bdd770b6b570109be518efea65a5",
     "grade": false,
     "grade_id": "description-task-5",
     "locked": true,
     "schema_version": 3,
     "solution": false,
     "task": false
    },
    "tags": []
   },
   "source": [
    "## Task 5\n",
    "\n",
    "Read data from *world_regions.csv* and store the result as a `dictionary` of dictionaries.\n",
    "\n",
    "Use country names as keys in the `world_regions_data` dictionary and country details (\"Country\", \"Region\", \"Continent\") as keys of the embedded dictionary.\n",
    " "
   ]
  },
  {
   "cell_type": "code",
   "execution_count": 22,
   "id": "a3d705d6",
   "metadata": {
    "deletable": false,
    "nbgrader": {
     "cell_type": "code",
     "checksum": "5ff787baa32955811dff0790f1d3151a",
     "grade": false,
     "grade_id": "solution-task-5",
     "locked": false,
     "schema_version": 3,
     "solution": true,
     "task": false
    },
    "tags": []
   },
   "outputs": [],
   "source": [
    "world_regions_data = dict()\n",
    "\n",
    "with open(\"world_regions.csv\", \"r\", encoding=\"utf-8\") as f:\n",
    "    # Add your implementation here.\n",
    "    reader = csv.DictReader(f)\n",
    "    for row in reader:\n",
    "        inner_dict = defaultdict(dict)\n",
    "        for key, value in sorted(row.items()):\n",
    "            inner_dict[key] = value\n",
    "        world_regions_data[row[\"Country\"]] = inner_dict"
   ]
  },
  {
   "cell_type": "code",
   "execution_count": 23,
   "id": "76aadd2d-99a5-4a20-b2c8-34265a104c86",
   "metadata": {
    "deletable": false,
    "editable": false,
    "nbgrader": {
     "cell_type": "code",
     "checksum": "d85b6607d694d2b96d81704fae4a9f64",
     "grade": true,
     "grade_id": "test-task-5-type",
     "locked": true,
     "points": 1,
     "schema_version": 3,
     "solution": false,
     "task": false
    },
    "tags": []
   },
   "outputs": [],
   "source": [
    "assert isinstance(world_regions_data, dict)"
   ]
  },
  {
   "cell_type": "code",
   "execution_count": 24,
   "id": "43a025dd-4d06-4f6a-b073-65c11cef3c4b",
   "metadata": {
    "deletable": false,
    "editable": false,
    "nbgrader": {
     "cell_type": "code",
     "checksum": "f9273a28b56d31a9687a306960cb297d",
     "grade": true,
     "grade_id": "test-task-5-size",
     "locked": true,
     "points": 1,
     "schema_version": 3,
     "solution": false,
     "task": false
    },
    "tags": []
   },
   "outputs": [],
   "source": [
    "assert len(world_regions_data) == 247"
   ]
  },
  {
   "cell_type": "code",
   "execution_count": 25,
   "id": "4e781a9a-68df-4d78-8552-6d3f2c728b00",
   "metadata": {
    "deletable": false,
    "editable": false,
    "nbgrader": {
     "cell_type": "code",
     "checksum": "42bc7b3cea16e4128680e05aca48b4ae",
     "grade": true,
     "grade_id": "test-task-5-1",
     "locked": true,
     "points": 2,
     "schema_version": 3,
     "solution": false,
     "task": false
    },
    "tags": []
   },
   "outputs": [],
   "source": [
    "assert world_regions_data[\"United States of America\"] == {\n",
    "    'Continent': 'North America',\n",
    "    'Country': 'United States of America',\n",
    "    'Region': 'Northern America'\n",
    "}"
   ]
  },
  {
   "cell_type": "markdown",
   "id": "39db044f-da99-4fdb-b976-43592cbde92f",
   "metadata": {
    "deletable": false,
    "editable": false,
    "nbgrader": {
     "cell_type": "markdown",
     "checksum": "e3779ca5eea604d14109e127d29e4404",
     "grade": false,
     "grade_id": "description-task-6",
     "locked": true,
     "schema_version": 3,
     "solution": false,
     "task": false
    },
    "tags": []
   },
   "source": [
    "## Taks 6\n",
    "\n",
    "Store all the **UN member states** data as a single dictionary of `namedtuple` objects, `the_world`.\n",
    "\n",
    "The must be the following relation between the previously gathered country properties and attributes of the named tuple `Country`:\n",
    "\n",
    "- \"Country\": \"name\"\n",
    "- \"Official state name\": \"official_name\"\n",
    "- \"Sovereignty\": \"sovereignty\"\n",
    "- \"Constitutional form\": \"constitutional_form\"\n",
    "- \"Head of state\": \"head_of_state\"\n",
    "- \"Population\",\n",
    "- \"Capital\": \"capital\"\n",
    "- \"Region\" : \"region\"\n",
    "- \"Continent\": \"continent\"\n",
    "- \"Land (km2)\": \"land_area\"\n",
    "- \"Water (km2)\": \"water_area\"\n",
    "- \"Total (km2)\": \"total_area\"\n",
    "- \"Alpha-2 code\": \"alpha2_code\"\n",
    "- \"Alpha-3 code\": \"alpha3_code\",\n",
    "- \"Numeric code\": \"numeric_code\"\n",
    "- \"Internet ccTLD\": \"ccTLD\"\n",
    "\n",
    "Any missing value or an empty string must be replaced with `None` in the named tuple.\n",
    "\n",
    "Note that the names of some countries differ between data files (e.g. *Cabo Verde* vs *Cape Verde*), so you must use country names found in the *world_codes.csv* as the dictionary keys.\n"
   ]
  },
  {
   "cell_type": "code",
   "execution_count": 26,
   "id": "6c78507a-448d-4301-a807-89da79c6a5d5",
   "metadata": {
    "deletable": false,
    "editable": false,
    "nbgrader": {
     "cell_type": "code",
     "checksum": "fcba3ecfaaeca8d8e45fb9444a8d86fc",
     "grade": true,
     "grade_id": "test-task-5-2",
     "locked": true,
     "points": 2,
     "schema_version": 3,
     "solution": false,
     "task": false
    },
    "tags": []
   },
   "outputs": [],
   "source": [
    "assert world_regions_data[\"Tokelau\"] == {\n",
    "    'Continent': 'Oceania',\n",
    "    'Country': 'Tokelau',\n",
    "    'Region': 'Polynesia'\n",
    "}"
   ]
  },
  {
   "cell_type": "code",
   "execution_count": 27,
   "id": "54682362-b715-4fd5-b439-8ac7d257b0ad",
   "metadata": {
    "deletable": false,
    "editable": false,
    "nbgrader": {
     "cell_type": "code",
     "checksum": "8aff555565cd42ba753f238222a947b7",
     "grade": false,
     "grade_id": "def-namedtuple",
     "locked": true,
     "schema_version": 3,
     "solution": false,
     "task": false
    },
    "tags": []
   },
   "outputs": [],
   "source": [
    "# named tuple Country has 16 attributes\n",
    "\n",
    "Country = namedtuple(\"Country\", [\n",
    "    \"name\",\n",
    "    \"official_name\",\n",
    "    \"sovereignty\",\n",
    "    \"constitutional_form\",\n",
    "    \"head_of_state\",\n",
    "    \"population\",\n",
    "    \"capital\",\n",
    "    \"region\",\n",
    "    \"continent\",\n",
    "    \"landarea\",\n",
    "    \"water_area\",\n",
    "    \"total_area\",\n",
    "    \"alpha2_code\",\n",
    "    \"alpha3_code\",\n",
    "    \"numeric_code\",\n",
    "    \"ccTLD\",\n",
    "])\n"
   ]
  },
  {
   "cell_type": "code",
   "execution_count": 165,
   "id": "af7483a3-1561-41c9-9546-01d01b63a854",
   "metadata": {
    "deletable": false,
    "nbgrader": {
     "cell_type": "code",
     "checksum": "80a02fa78be580f7627b608fe2413ff2",
     "grade": false,
     "grade_id": "solution-task-6",
     "locked": false,
     "schema_version": 3,
     "solution": true,
     "task": false
    },
    "tags": []
   },
   "outputs": [],
   "source": [
    "the_world = dict()\n",
    "\n",
    "# Add your implementation here.\n",
    "for country, info in world_codes_data.items():\n",
    "    if info[\"Sovereignty\"] == \"UN member state\":\n",
    "        gov_data = world_gov_data.get(country, {})\n",
    "        demo_data = world_demo_data.get(country, {})\n",
    "        regions_data = world_regions_data.get(country, {})\n",
    "        geo_data = world_geo_data.get(country, {})\n",
    "        \n",
    "        the_world[country] = Country(\n",
    "            name=country,\n",
    "            official_name=info.get(\"Official state name\"),\n",
    "            sovereignty=info.get(\"Sovereignty\"),\n",
    "            constitutional_form=gov_data.get(\"Constitutional form\"),\n",
    "            head_of_state=gov_data.get(\"Head of state\"),\n",
    "            population=demo_data.get(\"Population\"),\n",
    "            capital=gov_data.get(\"Capital\"),\n",
    "            region=regions_data.get(\"Region\"),\n",
    "            continent=regions_data.get(\"Continent\"),\n",
    "            landarea=geo_data.get(\"Land (km2)\"),\n",
    "            water_area=geo_data.get(\"Water (km2)\"),\n",
    "            total_area=geo_data.get(\"Total (km2)\"),\n",
    "            alpha2_code=info.get(\"Alpha-2 code\"),\n",
    "            alpha3_code=info.get(\"Alpha-3 code\"),\n",
    "            numeric_code=info.get(\"Numeric code\"),\n",
    "            ccTLD=info.get(\"Internet ccTLD\"),\n",
    "        )"
   ]
  },
  {
   "cell_type": "code",
   "execution_count": 166,
   "id": "7b828056-6628-4306-bfa9-0da077e51313",
   "metadata": {
    "deletable": false,
    "editable": false,
    "nbgrader": {
     "cell_type": "code",
     "checksum": "2a0f9715d010342b473a981514d9bce2",
     "grade": true,
     "grade_id": "test-task-6-size",
     "locked": true,
     "points": 2,
     "schema_version": 3,
     "solution": false,
     "task": false
    },
    "tags": []
   },
   "outputs": [],
   "source": [
    "assert len(the_world) == 193"
   ]
  },
  {
   "cell_type": "code",
   "execution_count": 167,
   "id": "a058c309-63cb-4ade-8b92-4b62ad5579e9",
   "metadata": {
    "deletable": false,
    "editable": false,
    "nbgrader": {
     "cell_type": "code",
     "checksum": "9adbf77f817da7bb72e37403119f04db",
     "grade": true,
     "grade_id": "test-task-6-1",
     "locked": true,
     "points": 2,
     "schema_version": 3,
     "solution": false,
     "task": false
    },
    "tags": []
   },
   "outputs": [],
   "source": [
    "assert the_world[\"Cabo Verde\"] == Country(\n",
    "    name='Cabo Verde',\n",
    "    official_name='The Republic of Cabo Verde',\n",
    "    sovereignty='UN member state',\n",
    "    constitutional_form=None,\n",
    "    head_of_state=None,\n",
    "    population=None,\n",
    "    capital=None,\n",
    "    region='Western Africa',\n",
    "    continent='Africa',\n",
    "    landarea=None,\n",
    "    water_area=None,\n",
    "    total_area=None,\n",
    "    alpha2_code='CV',\n",
    "    alpha3_code='CPV',\n",
    "    numeric_code=132,\n",
    "    ccTLD='.cv'\n",
    ")"
   ]
  },
  {
   "cell_type": "code",
   "execution_count": 168,
   "id": "6e8ea8a7-c14a-49df-8d15-24131b89d5dc",
   "metadata": {
    "deletable": false,
    "editable": false,
    "nbgrader": {
     "cell_type": "code",
     "checksum": "b23ba1b3458e9c8b62e091c262395df3",
     "grade": true,
     "grade_id": "test-task-6-2",
     "locked": true,
     "points": 2,
     "schema_version": 3,
     "solution": false,
     "task": false
    },
    "tags": []
   },
   "outputs": [],
   "source": [
    "assert the_world[\"Congo\"] == Country(\n",
    "    name='Congo',\n",
    "    official_name='The Republic of the Congo',\n",
    "    sovereignty='UN member state',\n",
    "    constitutional_form=None,\n",
    "    head_of_state=None,\n",
    "    population=5380508,\n",
    "    capital=None,\n",
    "    region=None,\n",
    "    continent=None,\n",
    "    landarea=341500,\n",
    "    water_area=500,\n",
    "    total_area=342000,\n",
    "    alpha2_code='CG',\n",
    "    alpha3_code='COG',\n",
    "    numeric_code=178,\n",
    "    ccTLD='.cg'\n",
    ")"
   ]
  },
  {
   "cell_type": "code",
   "execution_count": 170,
   "id": "be37277f-f459-4195-8be1-31d307c896cc",
   "metadata": {
    "deletable": false,
    "editable": false,
    "nbgrader": {
     "cell_type": "code",
     "checksum": "dee1b7beef30a1b498a4b8ceb4484de2",
     "grade": true,
     "grade_id": "test-task-6-3",
     "locked": true,
     "points": 2,
     "schema_version": 3,
     "solution": false,
     "task": false
    },
    "tags": []
   },
   "outputs": [],
   "source": [
    "assert the_world[\"Côte d'Ivoire\"] == Country(\n",
    "    name=\"Côte d'Ivoire\",\n",
    "    official_name=\"The Republic of Côte d'Ivoire\",\n",
    "    sovereignty='UN member state',\n",
    "    constitutional_form='Republic',\n",
    "    head_of_state='Alassane Ouattara',\n",
    "    population=None,\n",
    "    capital='Yamoussoukro',\n",
    "    region='Western Africa',\n",
    "    continent='Africa',\n",
    "    landarea=None,\n",
    "    water_area=None,\n",
    "    total_area=None,\n",
    "    alpha2_code='CI',\n",
    "    alpha3_code='CIV',\n",
    "    numeric_code=384,\n",
    "    ccTLD='.ci'\n",
    ")"
   ]
  },
  {
   "cell_type": "code",
   "execution_count": 171,
   "id": "eef8b84b-d524-47af-a526-41aca897ec85",
   "metadata": {
    "deletable": false,
    "editable": false,
    "nbgrader": {
     "cell_type": "code",
     "checksum": "31917a34e8b4aa3b07f6217e19820d28",
     "grade": true,
     "grade_id": "test-task-6-4",
     "locked": true,
     "points": 2,
     "schema_version": 3,
     "solution": false,
     "task": false
    },
    "tags": []
   },
   "outputs": [],
   "source": [
    "assert the_world[\"Democratic Republic of the Congo\"] == Country(\n",
    "    name='Democratic Republic of the Congo',\n",
    "    official_name='The Democratic Republic of the Congo',\n",
    "    sovereignty='UN member state',\n",
    "    constitutional_form='Republic',\n",
    "    head_of_state='Félix Tshisekedi',\n",
    "    population=86790567,\n",
    "    capital='Kinshasa',\n",
    "    region='Middle Africa',\n",
    "    continent='Africa',\n",
    "    landarea=None,\n",
    "    water_area=None,\n",
    "    total_area=None,\n",
    "    alpha2_code='CD',\n",
    "    alpha3_code='COD',\n",
    "    numeric_code=180,\n",
    "    ccTLD='.cd'\n",
    ")"
   ]
  },
  {
   "cell_type": "code",
   "execution_count": 172,
   "id": "5afad6da-5ee8-4cb6-85ec-e5ed02e96207",
   "metadata": {
    "deletable": false,
    "editable": false,
    "nbgrader": {
     "cell_type": "code",
     "checksum": "055f54dfd18adf7773968de45d92d4e1",
     "grade": true,
     "grade_id": "test-task-6-5",
     "locked": true,
     "points": 2,
     "schema_version": 3,
     "solution": false,
     "task": false
    },
    "tags": []
   },
   "outputs": [],
   "source": [
    "assert the_world[\"Republic of Korea\"] == Country(\n",
    "    name='Republic of Korea',\n",
    "    official_name='The Republic of Korea',\n",
    "    sovereignty='UN member state',\n",
    "    constitutional_form='Republic',\n",
    "    head_of_state='Moon Jae-in',\n",
    "    population=None,\n",
    "    capital='Seoul',\n",
    "    region='Eastern Asia',\n",
    "    continent='Asia',\n",
    "    landarea=None,\n",
    "    water_area=None,\n",
    "    total_area=None,\n",
    "    alpha2_code='KR',\n",
    "    alpha3_code='KOR',\n",
    "    numeric_code=410,\n",
    "    ccTLD='.kr'\n",
    ")"
   ]
  },
  {
   "cell_type": "code",
   "execution_count": 173,
   "id": "6baa65f5-3f3d-4d8b-ad44-d151ba8791f3",
   "metadata": {
    "deletable": false,
    "editable": false,
    "nbgrader": {
     "cell_type": "code",
     "checksum": "8d915b0dfdff4eae44bdd60843464432",
     "grade": true,
     "grade_id": "test-task-6-6",
     "locked": true,
     "points": 2,
     "schema_version": 3,
     "solution": false,
     "task": false
    },
    "tags": []
   },
   "outputs": [],
   "source": [
    "assert the_world[\"Timor-Leste\"] == Country(\n",
    "    name='Timor-Leste',\n",
    "    official_name='The Democratic Republic of Timor-Leste',\n",
    "    sovereignty='UN member state',\n",
    "    constitutional_form='Republic',\n",
    "    head_of_state='Francisco Guterres',\n",
    "    population=1293119,\n",
    "    capital='Dili',\n",
    "    region='South-eastern Asia',\n",
    "    continent='Asia',\n",
    "    landarea=None,\n",
    "    water_area=None,\n",
    "    total_area=None,\n",
    "    alpha2_code='TL',\n",
    "    alpha3_code='TLS',\n",
    "    numeric_code=626,\n",
    "    ccTLD='.tl'\n",
    ")"
   ]
  },
  {
   "cell_type": "code",
   "execution_count": 174,
   "id": "2e9073c5-af06-40b3-acce-0d169f2f7be3",
   "metadata": {
    "deletable": false,
    "editable": false,
    "nbgrader": {
     "cell_type": "code",
     "checksum": "5db65d0a2e9f4974be66d4a7e667866e",
     "grade": true,
     "grade_id": "test-task-6-7",
     "locked": true,
     "points": 2,
     "schema_version": 3,
     "solution": false,
     "task": false
    },
    "tags": []
   },
   "outputs": [],
   "source": [
    "assert the_world[\"United Kingdom of Great Britain and Northern Ireland\"] == Country(\n",
    "    name='United Kingdom of Great Britain and Northern Ireland',\n",
    "    official_name='The United Kingdom of Great Britain and Northern Ireland',\n",
    "    sovereignty='UN member state',\n",
    "    constitutional_form=None,\n",
    "    head_of_state=None,\n",
    "    population=None,\n",
    "    capital=None,\n",
    "    region=None,\n",
    "    continent=None,\n",
    "    landarea=None,\n",
    "    water_area=None,\n",
    "    total_area=None,\n",
    "    alpha2_code='GB',\n",
    "    alpha3_code='GBR',\n",
    "    numeric_code=826,\n",
    "    ccTLD='.uk'\n",
    ")\n"
   ]
  },
  {
   "cell_type": "code",
   "execution_count": 175,
   "id": "9abc072e-0f85-435c-b28b-fe3dd8c53816",
   "metadata": {
    "deletable": false,
    "editable": false,
    "nbgrader": {
     "cell_type": "code",
     "checksum": "16379ca3bfcf5b2a67f1d52065a902d9",
     "grade": true,
     "grade_id": "test-task-6-8",
     "locked": true,
     "points": 2,
     "schema_version": 3,
     "solution": false,
     "task": false
    },
    "tags": []
   },
   "outputs": [],
   "source": [
    "assert the_world[\"United States of America\"] == Country(\n",
    "    name='United States of America',\n",
    "    official_name='The United States of America',\n",
    "    sovereignty='UN member state',\n",
    "    constitutional_form='Republic',\n",
    "    head_of_state='Joe Biden',\n",
    "    population=329064917,\n",
    "    capital='Washington D.C.',\n",
    "    region='Northern America',\n",
    "    continent='North America',\n",
    "    landarea=9147593,\n",
    "    water_area=377424,\n",
    "    total_area=9525067,\n",
    "    alpha2_code='US',\n",
    "    alpha3_code='USA',\n",
    "    numeric_code=840,\n",
    "    ccTLD='.us'\n",
    ")"
   ]
  },
  {
   "cell_type": "code",
   "execution_count": 176,
   "id": "9744aa08-443e-455f-8bd8-33a3dd2156da",
   "metadata": {
    "deletable": false,
    "editable": false,
    "nbgrader": {
     "cell_type": "code",
     "checksum": "5ccf0f6facae1c15be1ffaeb9a699828",
     "grade": true,
     "grade_id": "test-task-6-9",
     "locked": true,
     "points": 2,
     "schema_version": 3,
     "solution": false,
     "task": false
    },
    "tags": []
   },
   "outputs": [],
   "source": [
    "assert the_world[\"Viet Nam\"] == Country(\n",
    "    name='Viet Nam',\n",
    "    official_name='The Socialist Republic of Viet Nam',\n",
    "    sovereignty='UN member state',\n",
    "    constitutional_form=None,\n",
    "    head_of_state=None,\n",
    "    population=None,\n",
    "    capital=None,\n",
    "    region=None,\n",
    "    continent=None,\n",
    "    landarea=None,\n",
    "    water_area=None,\n",
    "    total_area=None,\n",
    "    alpha2_code='VN',\n",
    "    alpha3_code='VNM',\n",
    "    numeric_code=704,\n",
    "    ccTLD='.vn'\n",
    ")"
   ]
  },
  {
   "cell_type": "markdown",
   "id": "94ae07a8-0964-4927-b0fa-6738a446e2af",
   "metadata": {
    "deletable": false,
    "editable": false,
    "nbgrader": {
     "cell_type": "markdown",
     "checksum": "4a2bf4aba47ed2aad2b7a1ac9fb422b1",
     "grade": false,
     "grade_id": "done",
     "locked": true,
     "schema_version": 3,
     "solution": false,
     "task": false
    },
    "tags": []
   },
   "source": [
    "Done!"
   ]
  },
  {
   "cell_type": "markdown",
   "id": "1cfd1a9e",
   "metadata": {
    "deletable": false,
    "editable": false,
    "nbgrader": {
     "cell_type": "markdown",
     "checksum": "905c6481fc0a62cc67f3fb217487d5d6",
     "grade": false,
     "grade_id": "checklist",
     "locked": true,
     "schema_version": 3,
     "solution": false,
     "task": false
    },
    "tags": []
   },
   "source": [
    "## Submission Checklist\n",
    "\n",
    "- [ ] Your name, today's date, and the assignment title in the designated cell.\n",
    "- [ ] Your answers in the designated cells (if required).\n",
    "- [ ] Your code runs and produces the expected output.\n",
    "- [ ] The validity of your code is verified by autograders (if provided).\n",
    "- [ ] Restart the kernel and run all cells (in the menubar, select *Kernel*, then *Restart Kernel and Run All Cells*).\n",
    "- [ ] Save the notebook.\n",
    "- [ ] Submit the assignment.\n"
   ]
  }
 ],
 "metadata": {
  "kernelspec": {
   "display_name": "DS320 (Python3.10)",
   "language": "python",
   "name": "ds320"
  },
  "language_info": {
   "codemirror_mode": {
    "name": "ipython",
    "version": 3
   },
   "file_extension": ".py",
   "mimetype": "text/x-python",
   "name": "python",
   "nbconvert_exporter": "python",
   "pygments_lexer": "ipython3",
   "version": "3.9.12"
  }
 },
 "nbformat": 4,
 "nbformat_minor": 5
}
