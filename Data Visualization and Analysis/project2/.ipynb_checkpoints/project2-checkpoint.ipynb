{
 "cells": [
  {
   "cell_type": "markdown",
   "id": "7c6a0014",
   "metadata": {
    "deletable": false,
    "editable": false,
    "nbgrader": {
     "cell_type": "markdown",
     "checksum": "39d084b519322e6de918a86e4ccf339b",
     "grade": false,
     "grade_id": "directions-general",
     "locked": true,
     "schema_version": 3,
     "solution": false,
     "task": false
    },
    "tags": []
   },
   "source": [
    "# General tasks and directions\n",
    "\n",
    "- Add your name, today's date, and the assignment title to the designated cell.\n",
    "- Write your answers in the cells that contain `Add your answer here.` line.\n",
    "- Write your code in the cells that contain `# Add your implementation here.` line.\n",
    "- Use autograder tests that are provided for your convenience.\n",
    "- Don't change or delete any provided code (including [cell magic](https://ipython.readthedocs.io/en/stable/interactive/magics.html) such as `%%capture output`).\n"
   ]
  },
  {
   "cell_type": "markdown",
   "id": "5283cabf",
   "metadata": {
    "tags": []
   },
   "source": [
    "## Add your name, today's date, and the assignment title\n",
    "\n",
    "author: Uddam Chea\n",
    "\n",
    "date: 03/02/2023\n",
    "\n",
    "assignment: project2\n"
   ]
  },
  {
   "cell_type": "markdown",
   "id": "a724cbb3-5e2e-40d7-ad66-7a2ed72f3de5",
   "metadata": {
    "deletable": false,
    "editable": false,
    "nbgrader": {
     "cell_type": "markdown",
     "checksum": "37eb55eb521746f8905bf1ca7b09fb41",
     "grade": false,
     "grade_id": "intro",
     "locked": true,
     "schema_version": 3,
     "solution": false,
     "task": false
    },
    "tags": []
   },
   "source": [
    "# Project 2\n",
    "\n",
    "*Using `pandas` to work with data in various formats*.\n",
    "\n",
    "This assignment is individual and you agree to submit your own work.\n",
    "\n",
    "The type of the output produced by your solution is not specified and you must infer it from the provided test.\n",
    "It could be an `int`, a `string`, a `Series`, or a `DataFrame` but never the output of a `print` function.\n"
   ]
  },
  {
   "cell_type": "code",
   "execution_count": 1,
   "id": "0e0fb0a7",
   "metadata": {
    "deletable": false,
    "editable": false,
    "nbgrader": {
     "cell_type": "code",
     "checksum": "38bedda3e01b40035870b7456938e897",
     "grade": false,
     "grade_id": "intro-imports",
     "locked": true,
     "schema_version": 3,
     "solution": false,
     "task": false
    },
    "tags": []
   },
   "outputs": [],
   "source": [
    "%config Completer.use_jedi = False\n",
    "\n",
    "import json\n",
    "import numpy as np\n",
    "import pandas as pd\n",
    "import requests\n",
    "import sqlalchemy as sqla\n",
    "import sqlite3\n",
    "\n",
    "from pandas import DataFrame\n",
    "from pprint import pprint\n",
    "\n",
    "np.set_printoptions(precision=2, suppress=True, linewidth=120)\n",
    "\n",
    "total_points = 0\n",
    "task_points = 4"
   ]
  },
  {
   "cell_type": "markdown",
   "id": "f1059237-3de1-4585-b2d4-9b9f88de9811",
   "metadata": {
    "deletable": false,
    "editable": false,
    "nbgrader": {
     "cell_type": "markdown",
     "checksum": "9ce8506590d519c543b5e7f1cbdff259",
     "grade": false,
     "grade_id": "description-task-1",
     "locked": true,
     "schema_version": 3,
     "solution": false,
     "task": false
    },
    "tags": []
   },
   "source": [
    "## Task 1\n",
    "\n",
    "Working with Excel files.\n",
    "\n",
    "Read the data from the provided file and answer the specific questions about the world."
   ]
  },
  {
   "cell_type": "markdown",
   "id": "b829bafa-f2db-447b-8d5e-eb04a97dc856",
   "metadata": {
    "deletable": false,
    "editable": false,
    "nbgrader": {
     "cell_type": "markdown",
     "checksum": "e3bc012d76cf30a7e176f828ec6a6c1b",
     "grade": false,
     "grade_id": "description-task-1-1",
     "locked": true,
     "schema_version": 3,
     "solution": false,
     "task": false
    },
    "tags": []
   },
   "source": [
    "### Reading xlsx\n",
    "\n",
    "Read the geographical data of the world countries from sheet *geo* of the file *world.xlsx* into a `DataFrame` `df_world_geo`.\n",
    "Convert values in the columns *Total (km2)*, *Land (km2)*, and *Water (km2)* to numeric.\n",
    "\n",
    "Read the regions of the world countries from sheet *regions* of the file *world.xlsx* into a `DataFrame` `df_world_regions`."
   ]
  },
  {
   "cell_type": "code",
   "execution_count": 2,
   "id": "e7c69336-0761-4461-b261-bc6f8887bd8e",
   "metadata": {
    "deletable": false,
    "nbgrader": {
     "cell_type": "code",
     "checksum": "dd6318f880d6de813b17775c794365de",
     "grade": false,
     "grade_id": "solution-task-1-1",
     "locked": false,
     "schema_version": 3,
     "solution": true,
     "task": false
    },
    "tags": []
   },
   "outputs": [],
   "source": [
    "# Add your implementation here.\n",
    "df_world_geo = pd.read_excel(\"world.xlsx\", sheet_name=\"geo\")\n",
    "df_world_regions = pd.read_excel(\"world.xlsx\", sheet_name=\"regions\")\n",
    "\n",
    "col_to_change_dtype = [\"Total (km2)\", \"Land (km2)\", \"Water (km2)\"]\n",
    "\n",
    "for i in col_to_change_dtype:\n",
    "    df_world_geo[i] = pd.to_numeric(df_world_geo[i].str.replace(\",\", \"\"), errors = \"coerce\")"
   ]
  },
  {
   "cell_type": "code",
   "execution_count": 3,
   "id": "8c0d9250-f764-4665-9a93-37b7155896e6",
   "metadata": {
    "deletable": false,
    "editable": false,
    "nbgrader": {
     "cell_type": "code",
     "checksum": "0d725d2a4da733843ad0e3bebd5b2d8b",
     "grade": true,
     "grade_id": "test-task-1-1",
     "locked": true,
     "points": 4,
     "schema_version": 3,
     "solution": false,
     "task": false
    },
    "tags": []
   },
   "outputs": [],
   "source": [
    "assert df_world_geo.shape == (261, 4)\n",
    "assert df_world_regions.shape == (247, 3)\n",
    "total_points += task_points"
   ]
  },
  {
   "cell_type": "code",
   "execution_count": 4,
   "id": "1f87bbd8-a894-4f85-81fb-0f90e085baa3",
   "metadata": {},
   "outputs": [
    {
     "data": {
      "text/html": [
       "<div>\n",
       "<style scoped>\n",
       "    .dataframe tbody tr th:only-of-type {\n",
       "        vertical-align: middle;\n",
       "    }\n",
       "\n",
       "    .dataframe tbody tr th {\n",
       "        vertical-align: top;\n",
       "    }\n",
       "\n",
       "    .dataframe thead th {\n",
       "        text-align: right;\n",
       "    }\n",
       "</style>\n",
       "<table border=\"1\" class=\"dataframe\">\n",
       "  <thead>\n",
       "    <tr style=\"text-align: right;\">\n",
       "      <th></th>\n",
       "      <th>Country</th>\n",
       "      <th>Total (km2)</th>\n",
       "      <th>Land (km2)</th>\n",
       "      <th>Water (km2)</th>\n",
       "    </tr>\n",
       "  </thead>\n",
       "  <tbody>\n",
       "    <tr>\n",
       "      <th>0</th>\n",
       "      <td>Abkhazia</td>\n",
       "      <td>8660</td>\n",
       "      <td>NaN</td>\n",
       "      <td>NaN</td>\n",
       "    </tr>\n",
       "    <tr>\n",
       "      <th>1</th>\n",
       "      <td>Afghanistan</td>\n",
       "      <td>652864</td>\n",
       "      <td>652864.0</td>\n",
       "      <td>0.0</td>\n",
       "    </tr>\n",
       "    <tr>\n",
       "      <th>2</th>\n",
       "      <td>Akrotiri and Dhekelia</td>\n",
       "      <td>254</td>\n",
       "      <td>NaN</td>\n",
       "      <td>NaN</td>\n",
       "    </tr>\n",
       "    <tr>\n",
       "      <th>3</th>\n",
       "      <td>Åland</td>\n",
       "      <td>1580</td>\n",
       "      <td>NaN</td>\n",
       "      <td>NaN</td>\n",
       "    </tr>\n",
       "    <tr>\n",
       "      <th>4</th>\n",
       "      <td>Albania</td>\n",
       "      <td>28748</td>\n",
       "      <td>27398.0</td>\n",
       "      <td>1350.0</td>\n",
       "    </tr>\n",
       "  </tbody>\n",
       "</table>\n",
       "</div>"
      ],
      "text/plain": [
       "                 Country  Total (km2)  Land (km2)  Water (km2)\n",
       "0               Abkhazia         8660         NaN          NaN\n",
       "1            Afghanistan       652864    652864.0          0.0\n",
       "2  Akrotiri and Dhekelia          254         NaN          NaN\n",
       "3                  Åland         1580         NaN          NaN\n",
       "4                Albania        28748     27398.0       1350.0"
      ]
     },
     "execution_count": 4,
     "metadata": {},
     "output_type": "execute_result"
    }
   ],
   "source": [
    "df_world_geo.head()"
   ]
  },
  {
   "cell_type": "markdown",
   "id": "e96af663-24ed-4914-b3f1-403b70c40939",
   "metadata": {
    "deletable": false,
    "editable": false,
    "nbgrader": {
     "cell_type": "markdown",
     "checksum": "6dc33f53929f9fa330d0c5e6904ab291",
     "grade": false,
     "grade_id": "description-task-1-2",
     "locked": true,
     "schema_version": 3,
     "solution": false,
     "task": false
    },
    "tags": []
   },
   "source": [
    "### What country has the largest water area?\n",
    "\n",
    "This question is based on the geographical data."
   ]
  },
  {
   "cell_type": "code",
   "execution_count": 5,
   "id": "6a4242ab-365e-400a-8339-e01a0ceaaf2e",
   "metadata": {
    "deletable": false,
    "nbgrader": {
     "cell_type": "code",
     "checksum": "954fe83f0765625787f7279024a6b3f2",
     "grade": false,
     "grade_id": "solution-task-1-2",
     "locked": false,
     "schema_version": 3,
     "solution": true,
     "task": false
    },
    "tags": []
   },
   "outputs": [
    {
     "data": {
      "text/plain": [
       "'Canada'"
      ]
     },
     "execution_count": 5,
     "metadata": {},
     "output_type": "execute_result"
    }
   ],
   "source": [
    "# Add your implementation here.\n",
    "df_world_geo.loc[df_world_geo[\"Water (km2)\"].idxmax()].Country"
   ]
  },
  {
   "cell_type": "code",
   "execution_count": 6,
   "id": "ed5fdd6d-e735-45c4-b72f-c202732e1b4d",
   "metadata": {
    "deletable": false,
    "editable": false,
    "nbgrader": {
     "cell_type": "code",
     "checksum": "1cdccaba1b39cab550ba5eb16e16e228",
     "grade": true,
     "grade_id": "test-task-1-2",
     "locked": true,
     "points": 4,
     "schema_version": 3,
     "solution": false,
     "task": false
    },
    "tags": []
   },
   "outputs": [],
   "source": [
    "assert _ == \"Canada\"\n",
    "total_points += task_points"
   ]
  },
  {
   "cell_type": "markdown",
   "id": "c2871efc-87cb-4595-9e2f-aa164c7eda76",
   "metadata": {
    "deletable": false,
    "editable": false,
    "nbgrader": {
     "cell_type": "markdown",
     "checksum": "2bc9aa8c8da288b0e90ebb2e764da9b5",
     "grade": false,
     "grade_id": "description-task-1-3",
     "locked": true,
     "schema_version": 3,
     "solution": false,
     "task": false
    },
    "tags": []
   },
   "source": [
    "### What is the smallest country that has more water than land?\n",
    "\n",
    "This question is based on the geographical data."
   ]
  },
  {
   "cell_type": "code",
   "execution_count": 7,
   "id": "21239553-28da-488d-993b-b47d469e37a2",
   "metadata": {
    "deletable": false,
    "nbgrader": {
     "cell_type": "code",
     "checksum": "9706f5263515144cff4e3677cfce4211",
     "grade": false,
     "grade_id": "solution-task-1-3",
     "locked": false,
     "schema_version": 3,
     "solution": true,
     "task": false
    },
    "tags": []
   },
   "outputs": [
    {
     "data": {
      "text/plain": [
       "Country        Clipperton Island\n",
       "Total (km2)                    6\n",
       "Land (km2)                   2.0\n",
       "Water (km2)                  4.0\n",
       "Name: 53, dtype: object"
      ]
     },
     "execution_count": 7,
     "metadata": {},
     "output_type": "execute_result"
    }
   ],
   "source": [
    "# Add your implementation here.\n",
    "df_world_geo.loc[df_world_geo[df_world_geo[\"Land (km2)\"] < df_world_geo[\"Water (km2)\"]][\"Total (km2)\"].idxmin()]"
   ]
  },
  {
   "cell_type": "code",
   "execution_count": 8,
   "id": "37abb303-dd82-4474-948c-caadd223cfc7",
   "metadata": {
    "deletable": false,
    "editable": false,
    "nbgrader": {
     "cell_type": "code",
     "checksum": "8791add924f4dfc764dee7abaa449420",
     "grade": true,
     "grade_id": "test-task-1-3",
     "locked": true,
     "points": 4,
     "schema_version": 3,
     "solution": false,
     "task": false
    },
    "tags": []
   },
   "outputs": [],
   "source": [
    "assert _.Country == \"Clipperton Island\"\n",
    "total_points += task_points"
   ]
  },
  {
   "cell_type": "markdown",
   "id": "721d5245-a325-4e91-8019-bb2334383245",
   "metadata": {
    "deletable": false,
    "editable": false,
    "nbgrader": {
     "cell_type": "markdown",
     "checksum": "ff747d1a6b1d53a48dbff2288f069ad6",
     "grade": false,
     "grade_id": "description-task-1-4",
     "locked": true,
     "schema_version": 3,
     "solution": false,
     "task": false
    },
    "tags": []
   },
   "source": [
    "### What country in the *Caribbean* region has the longest name?\n",
    "\n",
    "This question is based on the regions data."
   ]
  },
  {
   "cell_type": "code",
   "execution_count": 9,
   "id": "ce5c343c-1856-4bf4-a692-8cd6cb9b73dc",
   "metadata": {
    "deletable": false,
    "nbgrader": {
     "cell_type": "code",
     "checksum": "3345bf5b4dbfc89de176732030843894",
     "grade": false,
     "grade_id": "solution-task-1-4",
     "locked": false,
     "schema_version": 3,
     "solution": true,
     "task": false
    },
    "tags": []
   },
   "outputs": [
    {
     "data": {
      "text/plain": [
       "Country      Saint Vincent and the Grenadines\n",
       "Region                              Caribbean\n",
       "Continent                       North America\n",
       "Name: 190, dtype: object"
      ]
     },
     "execution_count": 9,
     "metadata": {},
     "output_type": "execute_result"
    }
   ],
   "source": [
    "# Add your implementation here.\n",
    "df_world_regions.loc[df_world_regions[df_world_regions[\"Region\"] == \"Caribbean\"].Country.str.len().idxmax()]"
   ]
  },
  {
   "cell_type": "code",
   "execution_count": 10,
   "id": "66f09bcb-7078-4a79-9c51-66a4c838fd59",
   "metadata": {
    "deletable": false,
    "editable": false,
    "nbgrader": {
     "cell_type": "code",
     "checksum": "e923299f7f3f833aee4ce91e47577540",
     "grade": true,
     "grade_id": "test-task-1-4",
     "locked": true,
     "points": 4,
     "schema_version": 3,
     "solution": false,
     "task": false
    },
    "tags": []
   },
   "outputs": [],
   "source": [
    "assert _.Country == \"Saint Vincent and the Grenadines\"\n",
    "total_points += task_points"
   ]
  },
  {
   "cell_type": "markdown",
   "id": "656b8129-5d1d-4ea3-adb1-f4ceecfd5cce",
   "metadata": {
    "deletable": false,
    "editable": false,
    "nbgrader": {
     "cell_type": "markdown",
     "checksum": "add0f3d657e86e417cac29d4b3d2d3a4",
     "grade": false,
     "grade_id": "description-task-1-5",
     "locked": true,
     "schema_version": 3,
     "solution": false,
     "task": false
    },
    "tags": []
   },
   "source": [
    "### What continent has the most countries?\n",
    "\n",
    "This question is based on the regions data."
   ]
  },
  {
   "cell_type": "code",
   "execution_count": 11,
   "id": "adf1ce60-69d5-4e11-bf44-018871790c63",
   "metadata": {
    "deletable": false,
    "nbgrader": {
     "cell_type": "code",
     "checksum": "a0247e1ad54980d14d4231a0fee5d0de",
     "grade": false,
     "grade_id": "solution-task-1-5",
     "locked": false,
     "schema_version": 3,
     "solution": true,
     "task": false
    },
    "tags": []
   },
   "outputs": [
    {
     "data": {
      "text/plain": [
       "'Africa'"
      ]
     },
     "execution_count": 11,
     "metadata": {},
     "output_type": "execute_result"
    }
   ],
   "source": [
    "# Add your implementation here.\n",
    "df_world_regions.groupby('Continent')['Country'].nunique().idxmax()"
   ]
  },
  {
   "cell_type": "code",
   "execution_count": 12,
   "id": "ea5e0591-7dfc-430b-a49a-1cb68299b9b5",
   "metadata": {
    "deletable": false,
    "editable": false,
    "nbgrader": {
     "cell_type": "code",
     "checksum": "925870a92132ab848144e3e922c5e5f7",
     "grade": true,
     "grade_id": "test-task-1-5",
     "locked": true,
     "points": 4,
     "schema_version": 3,
     "solution": false,
     "task": false
    },
    "tags": []
   },
   "outputs": [],
   "source": [
    "assert _ == \"Africa\"\n",
    "total_points += task_points"
   ]
  },
  {
   "cell_type": "markdown",
   "id": "421be16b-ffc4-451f-9095-4ceeb5ec6436",
   "metadata": {
    "deletable": false,
    "editable": false,
    "nbgrader": {
     "cell_type": "markdown",
     "checksum": "41ac73bbcecac64c6a083b9147d3aa2a",
     "grade": false,
     "grade_id": "description-task-2",
     "locked": true,
     "schema_version": 3,
     "solution": false,
     "task": false
    },
    "tags": []
   },
   "source": [
    "## Task 2\n",
    "\n",
    "Working with a database.\n",
    "\n",
    "Read the data from the provided file and answer the specific questions about the world."
   ]
  },
  {
   "cell_type": "markdown",
   "id": "45d9964f-61e4-40d6-bdd3-971677f3dd04",
   "metadata": {
    "deletable": false,
    "editable": false,
    "nbgrader": {
     "cell_type": "markdown",
     "checksum": "933054d85ec5bdb5843dbe672b2619d0",
     "grade": false,
     "grade_id": "description-task-2-1",
     "locked": true,
     "schema_version": 3,
     "solution": false,
     "task": false
    },
    "tags": []
   },
   "source": [
    "### Reading from a database\n",
    "\n",
    "Read the codes of the world countries from the table *codes* of the database *world.sqlite* into a `DataFrame` `df_world_codes`.\n",
    "\n",
    "Read the government data from the table *gov* of the database *world.sqlite* into a `DataFrame` `df_world_gov`."
   ]
  },
  {
   "cell_type": "code",
   "execution_count": 13,
   "id": "7f56d262-9277-49d0-820c-7502726cede5",
   "metadata": {
    "deletable": false,
    "nbgrader": {
     "cell_type": "code",
     "checksum": "54a0babb585eb09041f994ab6cf3cdb0",
     "grade": false,
     "grade_id": "solution-task-2",
     "locked": false,
     "schema_version": 3,
     "solution": true,
     "task": false
    },
    "tags": []
   },
   "outputs": [],
   "source": [
    "# Add your implementation here.\n",
    "conn = sqlite3.connect('world.sqlite3')\n",
    "df_world_codes = pd.read_sql('SELECT * FROM codes;', conn)\n",
    "df_world_gov = pd.read_sql('SELECT * FROM gov;', conn)\n",
    "conn.close()"
   ]
  },
  {
   "cell_type": "code",
   "execution_count": 14,
   "id": "11daa5cf-1e5d-4657-99da-c8aca13108fc",
   "metadata": {
    "deletable": false,
    "editable": false,
    "nbgrader": {
     "cell_type": "code",
     "checksum": "01a41010e73c1b0ffd1bacb19ac5f413",
     "grade": true,
     "grade_id": "test-task-2-1",
     "locked": true,
     "points": 4,
     "schema_version": 3,
     "solution": false,
     "task": false
    },
    "tags": []
   },
   "outputs": [],
   "source": [
    "assert df_world_codes.shape == (249, 7)\n",
    "assert df_world_gov.shape == (195, 4)\n",
    "total_points += task_points"
   ]
  },
  {
   "cell_type": "markdown",
   "id": "1fb0346f-31df-4c0c-bafb-f5b02d0f20ed",
   "metadata": {
    "deletable": false,
    "editable": false,
    "nbgrader": {
     "cell_type": "markdown",
     "checksum": "14dd92ab9670dd9315fa855529e76e2d",
     "grade": false,
     "grade_id": "description-task-2-2",
     "locked": true,
     "schema_version": 3,
     "solution": false,
     "task": false
    },
    "tags": []
   },
   "source": [
    "### How many UN member states have the same short and official names?\n",
    "\n",
    "This question is based on the codes data."
   ]
  },
  {
   "cell_type": "code",
   "execution_count": 15,
   "id": "497bd523-f3ac-479f-be17-03a2b7a69d9f",
   "metadata": {},
   "outputs": [
    {
     "data": {
      "text/plain": [
       "Index(['Country', 'Official state name', 'Sovereignty', 'Alpha-2 code',\n",
       "       'Alpha-3 code', 'Numeric code', 'Internet ccTLD'],\n",
       "      dtype='object')"
      ]
     },
     "execution_count": 15,
     "metadata": {},
     "output_type": "execute_result"
    }
   ],
   "source": [
    "df_world_codes.columns"
   ]
  },
  {
   "cell_type": "code",
   "execution_count": 16,
   "id": "380d483c-b793-406c-b9c6-4dafaf11dd8c",
   "metadata": {},
   "outputs": [
    {
     "data": {
      "text/html": [
       "<div>\n",
       "<style scoped>\n",
       "    .dataframe tbody tr th:only-of-type {\n",
       "        vertical-align: middle;\n",
       "    }\n",
       "\n",
       "    .dataframe tbody tr th {\n",
       "        vertical-align: top;\n",
       "    }\n",
       "\n",
       "    .dataframe thead th {\n",
       "        text-align: right;\n",
       "    }\n",
       "</style>\n",
       "<table border=\"1\" class=\"dataframe\">\n",
       "  <thead>\n",
       "    <tr style=\"text-align: right;\">\n",
       "      <th></th>\n",
       "      <th>Country</th>\n",
       "      <th>Official state name</th>\n",
       "      <th>Sovereignty</th>\n",
       "      <th>Alpha-2 code</th>\n",
       "      <th>Alpha-3 code</th>\n",
       "      <th>Numeric code</th>\n",
       "      <th>Internet ccTLD</th>\n",
       "    </tr>\n",
       "  </thead>\n",
       "  <tbody>\n",
       "    <tr>\n",
       "      <th>0</th>\n",
       "      <td>Afghanistan</td>\n",
       "      <td>The Islamic Republic of Afghanistan</td>\n",
       "      <td>UN member state</td>\n",
       "      <td>AF</td>\n",
       "      <td>AFG</td>\n",
       "      <td>4</td>\n",
       "      <td>.af</td>\n",
       "    </tr>\n",
       "    <tr>\n",
       "      <th>1</th>\n",
       "      <td>Åland Islands</td>\n",
       "      <td>Åland</td>\n",
       "      <td>Finland</td>\n",
       "      <td>AX</td>\n",
       "      <td>ALA</td>\n",
       "      <td>248</td>\n",
       "      <td>.ax</td>\n",
       "    </tr>\n",
       "    <tr>\n",
       "      <th>2</th>\n",
       "      <td>Albania</td>\n",
       "      <td>The Republic of Albania</td>\n",
       "      <td>UN member state</td>\n",
       "      <td>AL</td>\n",
       "      <td>ALB</td>\n",
       "      <td>8</td>\n",
       "      <td>.al</td>\n",
       "    </tr>\n",
       "  </tbody>\n",
       "</table>\n",
       "</div>"
      ],
      "text/plain": [
       "         Country                  Official state name      Sovereignty  \\\n",
       "0    Afghanistan  The Islamic Republic of Afghanistan  UN member state   \n",
       "1  Åland Islands                                Åland          Finland   \n",
       "2        Albania              The Republic of Albania  UN member state   \n",
       "\n",
       "  Alpha-2 code Alpha-3 code  Numeric code Internet ccTLD  \n",
       "0           AF          AFG             4            .af  \n",
       "1           AX          ALA           248            .ax  \n",
       "2           AL          ALB             8            .al  "
      ]
     },
     "execution_count": 16,
     "metadata": {},
     "output_type": "execute_result"
    }
   ],
   "source": [
    "df_world_codes.head(3)"
   ]
  },
  {
   "cell_type": "code",
   "execution_count": 17,
   "id": "0e0ef9c9-59e2-48dc-8832-54927057e396",
   "metadata": {
    "deletable": false,
    "nbgrader": {
     "cell_type": "code",
     "checksum": "7792869746a3dc7fa37b0fd0c7931e38",
     "grade": false,
     "grade_id": "solution-task-2-2",
     "locked": false,
     "schema_version": 3,
     "solution": true,
     "task": false
    },
    "tags": []
   },
   "outputs": [
    {
     "data": {
      "text/plain": [
       "24"
      ]
     },
     "execution_count": 17,
     "metadata": {},
     "output_type": "execute_result"
    }
   ],
   "source": [
    "# Add your implementation here.\n",
    "len(df_world_codes[(df_world_codes[\"Sovereignty\"] == \"UN member state\") & (df_world_codes['Official state name'] == df_world_codes[\"Country\"])])"
   ]
  },
  {
   "cell_type": "code",
   "execution_count": 18,
   "id": "0a972829-49a2-4d69-8023-86496470d4dd",
   "metadata": {
    "deletable": false,
    "editable": false,
    "nbgrader": {
     "cell_type": "code",
     "checksum": "e15d8e416aa164d26bde2ce8140bf842",
     "grade": true,
     "grade_id": "test-task-2-2",
     "locked": true,
     "points": 4,
     "schema_version": 3,
     "solution": false,
     "task": false
    },
    "tags": []
   },
   "outputs": [],
   "source": [
    "assert _ == 24\n",
    "total_points += task_points"
   ]
  },
  {
   "cell_type": "markdown",
   "id": "cb161193-45bc-470c-a2ef-e1503cc3572d",
   "metadata": {
    "deletable": false,
    "editable": false,
    "nbgrader": {
     "cell_type": "markdown",
     "checksum": "a2700ffd4440a5d7a5b8151e9d84bbfd",
     "grade": false,
     "grade_id": "description-task-2-3",
     "locked": true,
     "schema_version": 3,
     "solution": false,
     "task": false
    },
    "tags": []
   },
   "source": [
    "### What countries have Internet top-level domain that is a double-letter?\n",
    "\n",
    "This question is based on the codes data."
   ]
  },
  {
   "cell_type": "code",
   "execution_count": 19,
   "id": "9fc2dce0-7b95-442e-aab4-138741f33ad0",
   "metadata": {
    "deletable": false,
    "nbgrader": {
     "cell_type": "code",
     "checksum": "e959c1ba883f406b3f3812e90031f879",
     "grade": false,
     "grade_id": "solution-task-2-3",
     "locked": false,
     "schema_version": 3,
     "solution": true,
     "task": false
    },
    "tags": []
   },
   "outputs": [
    {
     "data": {
      "text/html": [
       "<div>\n",
       "<style scoped>\n",
       "    .dataframe tbody tr th:only-of-type {\n",
       "        vertical-align: middle;\n",
       "    }\n",
       "\n",
       "    .dataframe tbody tr th {\n",
       "        vertical-align: top;\n",
       "    }\n",
       "\n",
       "    .dataframe thead th {\n",
       "        text-align: right;\n",
       "    }\n",
       "</style>\n",
       "<table border=\"1\" class=\"dataframe\">\n",
       "  <thead>\n",
       "    <tr style=\"text-align: right;\">\n",
       "      <th></th>\n",
       "      <th>Country</th>\n",
       "      <th>Official state name</th>\n",
       "      <th>Sovereignty</th>\n",
       "      <th>Alpha-2 code</th>\n",
       "      <th>Alpha-3 code</th>\n",
       "      <th>Numeric code</th>\n",
       "      <th>Internet ccTLD</th>\n",
       "    </tr>\n",
       "  </thead>\n",
       "  <tbody>\n",
       "    <tr>\n",
       "      <th>0</th>\n",
       "      <td>Afghanistan</td>\n",
       "      <td>The Islamic Republic of Afghanistan</td>\n",
       "      <td>UN member state</td>\n",
       "      <td>AF</td>\n",
       "      <td>AFG</td>\n",
       "      <td>4</td>\n",
       "      <td>.af</td>\n",
       "    </tr>\n",
       "    <tr>\n",
       "      <th>1</th>\n",
       "      <td>Åland Islands</td>\n",
       "      <td>Åland</td>\n",
       "      <td>Finland</td>\n",
       "      <td>AX</td>\n",
       "      <td>ALA</td>\n",
       "      <td>248</td>\n",
       "      <td>.ax</td>\n",
       "    </tr>\n",
       "    <tr>\n",
       "      <th>2</th>\n",
       "      <td>Albania</td>\n",
       "      <td>The Republic of Albania</td>\n",
       "      <td>UN member state</td>\n",
       "      <td>AL</td>\n",
       "      <td>ALB</td>\n",
       "      <td>8</td>\n",
       "      <td>.al</td>\n",
       "    </tr>\n",
       "  </tbody>\n",
       "</table>\n",
       "</div>"
      ],
      "text/plain": [
       "         Country                  Official state name      Sovereignty  \\\n",
       "0    Afghanistan  The Islamic Republic of Afghanistan  UN member state   \n",
       "1  Åland Islands                                Åland          Finland   \n",
       "2        Albania              The Republic of Albania  UN member state   \n",
       "\n",
       "  Alpha-2 code Alpha-3 code  Numeric code Internet ccTLD  \n",
       "0           AF          AFG             4            .af  \n",
       "1           AX          ALA           248            .ax  \n",
       "2           AL          ALB             8            .al  "
      ]
     },
     "execution_count": 19,
     "metadata": {},
     "output_type": "execute_result"
    }
   ],
   "source": [
    "# Add your implementation here.\n",
    "df_world_codes.head(3)"
   ]
  },
  {
   "cell_type": "code",
   "execution_count": 20,
   "id": "e913d417-37eb-490c-b16f-fc25641c570a",
   "metadata": {},
   "outputs": [
    {
     "data": {
      "text/html": [
       "<div>\n",
       "<style scoped>\n",
       "    .dataframe tbody tr th:only-of-type {\n",
       "        vertical-align: middle;\n",
       "    }\n",
       "\n",
       "    .dataframe tbody tr th {\n",
       "        vertical-align: top;\n",
       "    }\n",
       "\n",
       "    .dataframe thead th {\n",
       "        text-align: right;\n",
       "    }\n",
       "</style>\n",
       "<table border=\"1\" class=\"dataframe\">\n",
       "  <thead>\n",
       "    <tr style=\"text-align: right;\">\n",
       "      <th></th>\n",
       "      <th>Country</th>\n",
       "      <th>Official state name</th>\n",
       "      <th>Sovereignty</th>\n",
       "      <th>Alpha-2 code</th>\n",
       "      <th>Alpha-3 code</th>\n",
       "      <th>Numeric code</th>\n",
       "      <th>Internet ccTLD</th>\n",
       "    </tr>\n",
       "  </thead>\n",
       "  <tbody>\n",
       "    <tr>\n",
       "      <th>19</th>\n",
       "      <td>Barbados</td>\n",
       "      <td>Barbados</td>\n",
       "      <td>UN member state</td>\n",
       "      <td>BB</td>\n",
       "      <td>BRB</td>\n",
       "      <td>52</td>\n",
       "      <td>.bb</td>\n",
       "    </tr>\n",
       "    <tr>\n",
       "      <th>47</th>\n",
       "      <td>Cocos (Keeling) Islands</td>\n",
       "      <td>The Territory of Cocos (Keeling) Islands</td>\n",
       "      <td>Australia</td>\n",
       "      <td>CC</td>\n",
       "      <td>CCK</td>\n",
       "      <td>166</td>\n",
       "      <td>.cc</td>\n",
       "    </tr>\n",
       "    <tr>\n",
       "      <th>69</th>\n",
       "      <td>Estonia</td>\n",
       "      <td>The Republic of Estonia</td>\n",
       "      <td>UN member state</td>\n",
       "      <td>EE</td>\n",
       "      <td>EST</td>\n",
       "      <td>233</td>\n",
       "      <td>.ee</td>\n",
       "    </tr>\n",
       "    <tr>\n",
       "      <th>92</th>\n",
       "      <td>Guernsey</td>\n",
       "      <td>The Bailiwick of Guernsey</td>\n",
       "      <td>British Crown</td>\n",
       "      <td>GG</td>\n",
       "      <td>GGY</td>\n",
       "      <td>831</td>\n",
       "      <td>.gg</td>\n",
       "    </tr>\n",
       "    <tr>\n",
       "      <th>153</th>\n",
       "      <td>Myanmar</td>\n",
       "      <td>The Republic of the Union of Myanmar</td>\n",
       "      <td>UN member state</td>\n",
       "      <td>MM</td>\n",
       "      <td>MMR</td>\n",
       "      <td>104</td>\n",
       "      <td>.mm</td>\n",
       "    </tr>\n",
       "    <tr>\n",
       "      <th>208</th>\n",
       "      <td>South Sudan</td>\n",
       "      <td>The Republic of South Sudan</td>\n",
       "      <td>UN member state</td>\n",
       "      <td>SS</td>\n",
       "      <td>SSD</td>\n",
       "      <td>728</td>\n",
       "      <td>.ss</td>\n",
       "    </tr>\n",
       "    <tr>\n",
       "      <th>225</th>\n",
       "      <td>Trinidad and Tobago</td>\n",
       "      <td>The Republic of Trinidad and Tobago</td>\n",
       "      <td>UN member state</td>\n",
       "      <td>TT</td>\n",
       "      <td>TTO</td>\n",
       "      <td>780</td>\n",
       "      <td>.tt</td>\n",
       "    </tr>\n",
       "  </tbody>\n",
       "</table>\n",
       "</div>"
      ],
      "text/plain": [
       "                     Country                       Official state name  \\\n",
       "19                  Barbados                                  Barbados   \n",
       "47   Cocos (Keeling) Islands  The Territory of Cocos (Keeling) Islands   \n",
       "69                   Estonia                   The Republic of Estonia   \n",
       "92                  Guernsey                 The Bailiwick of Guernsey   \n",
       "153                  Myanmar      The Republic of the Union of Myanmar   \n",
       "208              South Sudan               The Republic of South Sudan   \n",
       "225      Trinidad and Tobago       The Republic of Trinidad and Tobago   \n",
       "\n",
       "         Sovereignty Alpha-2 code Alpha-3 code  Numeric code Internet ccTLD  \n",
       "19   UN member state           BB          BRB            52            .bb  \n",
       "47         Australia           CC          CCK           166            .cc  \n",
       "69   UN member state           EE          EST           233            .ee  \n",
       "92     British Crown           GG          GGY           831            .gg  \n",
       "153  UN member state           MM          MMR           104            .mm  \n",
       "208  UN member state           SS          SSD           728            .ss  \n",
       "225  UN member state           TT          TTO           780            .tt  "
      ]
     },
     "execution_count": 20,
     "metadata": {},
     "output_type": "execute_result"
    }
   ],
   "source": [
    "df_world_codes[df_world_codes[\"Internet ccTLD\"].fillna('').str.match(r'\\.\\w*(\\w)\\1')]"
   ]
  },
  {
   "cell_type": "code",
   "execution_count": 21,
   "id": "6b036aad-0bef-4714-9253-5a8e33821700",
   "metadata": {
    "deletable": false,
    "editable": false,
    "nbgrader": {
     "cell_type": "code",
     "checksum": "d87b34259230a2cbfec85f40a5df1167",
     "grade": true,
     "grade_id": "test-task-2-3",
     "locked": true,
     "points": 4,
     "schema_version": 3,
     "solution": false,
     "task": false
    },
    "tags": []
   },
   "outputs": [],
   "source": [
    "assert list(_.Country) == [\"Barbados\",\n",
    "                           \"Cocos (Keeling) Islands\",\n",
    "                           \"Estonia\",\n",
    "                           \"Guernsey\",\n",
    "                           \"Myanmar\",\n",
    "                           \"South Sudan\",\n",
    "                           \"Trinidad and Tobago\"]\n",
    "total_points += task_points"
   ]
  },
  {
   "cell_type": "markdown",
   "id": "1f1c0009-db4b-4c59-b0b1-60926581bcc9",
   "metadata": {
    "deletable": false,
    "editable": false,
    "nbgrader": {
     "cell_type": "markdown",
     "checksum": "22144ce8b9edf24edfa8d6c42bd6c9e3",
     "grade": false,
     "grade_id": "description-task-2-4",
     "locked": true,
     "schema_version": 3,
     "solution": false,
     "task": false
    },
    "tags": []
   },
   "source": [
    "### How many monarchies are there in the world?\n",
    "\n",
    "This question is based on the government data."
   ]
  },
  {
   "cell_type": "code",
   "execution_count": 22,
   "id": "2c707958-0bf8-411e-9168-c832c9e251e9",
   "metadata": {
    "deletable": false,
    "nbgrader": {
     "cell_type": "code",
     "checksum": "fa80df57111bab31072f5239e70cb63f",
     "grade": false,
     "grade_id": "solution-task-2-4",
     "locked": false,
     "schema_version": 3,
     "solution": true,
     "task": false
    },
    "tags": []
   },
   "outputs": [
    {
     "data": {
      "text/plain": [
       "43"
      ]
     },
     "execution_count": 22,
     "metadata": {},
     "output_type": "execute_result"
    }
   ],
   "source": [
    "# Add your implementation here.\n",
    "df_world_gov[df_world_gov[\"Constitutional form\"].str.contains(\"monarchy\", case=False)].shape[0]"
   ]
  },
  {
   "cell_type": "code",
   "execution_count": 23,
   "id": "d3fd6c92-64a2-44cd-8178-3b994cf0b187",
   "metadata": {
    "deletable": false,
    "editable": false,
    "nbgrader": {
     "cell_type": "code",
     "checksum": "af49908d630791e150d921e33198bd13",
     "grade": true,
     "grade_id": "test-task-2-4",
     "locked": true,
     "points": 4,
     "schema_version": 3,
     "solution": false,
     "task": false
    },
    "tags": []
   },
   "outputs": [],
   "source": [
    "assert _ == 43\n",
    "total_points += task_points"
   ]
  },
  {
   "cell_type": "markdown",
   "id": "daae0060-5f7a-49f7-b5b0-3a8467e249ef",
   "metadata": {
    "deletable": false,
    "editable": false,
    "nbgrader": {
     "cell_type": "markdown",
     "checksum": "b9f1763f97e984e6b3b49523a58056e7",
     "grade": false,
     "grade_id": "description-task-2-5",
     "locked": true,
     "schema_version": 3,
     "solution": false,
     "task": false
    },
    "tags": []
   },
   "source": [
    "### Capitals of what countries contain three or more words?\n",
    "\n",
    "This question is based on the government data."
   ]
  },
  {
   "cell_type": "code",
   "execution_count": 24,
   "id": "171e973d-5cea-419f-b890-ae7a81e39948",
   "metadata": {
    "deletable": false,
    "nbgrader": {
     "cell_type": "code",
     "checksum": "e27b7c9d8637d740ef7380ea75111085",
     "grade": false,
     "grade_id": "solution-task-2-5",
     "locked": false,
     "schema_version": 3,
     "solution": true,
     "task": false
    },
    "tags": []
   },
   "outputs": [
    {
     "data": {
      "text/html": [
       "<div>\n",
       "<style scoped>\n",
       "    .dataframe tbody tr th:only-of-type {\n",
       "        vertical-align: middle;\n",
       "    }\n",
       "\n",
       "    .dataframe tbody tr th {\n",
       "        vertical-align: top;\n",
       "    }\n",
       "\n",
       "    .dataframe thead th {\n",
       "        text-align: right;\n",
       "    }\n",
       "</style>\n",
       "<table border=\"1\" class=\"dataframe\">\n",
       "  <thead>\n",
       "    <tr style=\"text-align: right;\">\n",
       "      <th></th>\n",
       "      <th>Country</th>\n",
       "      <th>Constitutional form</th>\n",
       "      <th>Head of state</th>\n",
       "      <th>Capital</th>\n",
       "    </tr>\n",
       "  </thead>\n",
       "  <tbody>\n",
       "    <tr>\n",
       "      <th>3</th>\n",
       "      <td>Andorra</td>\n",
       "      <td>Constitutional monarchy</td>\n",
       "      <td>Xavier Espot Zamora</td>\n",
       "      <td>Andorra la Vella</td>\n",
       "    </tr>\n",
       "    <tr>\n",
       "      <th>24</th>\n",
       "      <td>Brunei</td>\n",
       "      <td>Absolute monarchy</td>\n",
       "      <td>Sultan and Hassanal Bolkiah</td>\n",
       "      <td>Bandar Seri Begawan</td>\n",
       "    </tr>\n",
       "    <tr>\n",
       "      <th>165</th>\n",
       "      <td>Sri Lanka</td>\n",
       "      <td>Republic</td>\n",
       "      <td>Gotabaya Rajapaksa</td>\n",
       "      <td>Sri Jayawardenapura Kotte</td>\n",
       "    </tr>\n",
       "    <tr>\n",
       "      <th>176</th>\n",
       "      <td>Trinidad and Tobago</td>\n",
       "      <td>Republic</td>\n",
       "      <td>Keith Rowley</td>\n",
       "      <td>Port of Spain</td>\n",
       "    </tr>\n",
       "  </tbody>\n",
       "</table>\n",
       "</div>"
      ],
      "text/plain": [
       "                 Country      Constitutional form  \\\n",
       "3                Andorra  Constitutional monarchy   \n",
       "24                Brunei        Absolute monarchy   \n",
       "165            Sri Lanka                 Republic   \n",
       "176  Trinidad and Tobago                 Republic   \n",
       "\n",
       "                   Head of state                    Capital  \n",
       "3            Xavier Espot Zamora           Andorra la Vella  \n",
       "24   Sultan and Hassanal Bolkiah        Bandar Seri Begawan  \n",
       "165           Gotabaya Rajapaksa  Sri Jayawardenapura Kotte  \n",
       "176                 Keith Rowley              Port of Spain  "
      ]
     },
     "execution_count": 24,
     "metadata": {},
     "output_type": "execute_result"
    }
   ],
   "source": [
    "# Add your implementation here.\n",
    "df_world_gov[df_world_gov[\"Capital\"].str.count(\" \") >= 2]"
   ]
  },
  {
   "cell_type": "code",
   "execution_count": 25,
   "id": "c2a31de1-8daf-454c-9bca-ea85d09d0446",
   "metadata": {
    "deletable": false,
    "editable": false,
    "nbgrader": {
     "cell_type": "code",
     "checksum": "c523231572c074fed61d1dfd5d796381",
     "grade": true,
     "grade_id": "test-task-2-5",
     "locked": true,
     "points": 4,
     "schema_version": 3,
     "solution": false,
     "task": false
    },
    "tags": []
   },
   "outputs": [],
   "source": [
    "assert list(_.Country) == [\"Andorra\", \"Brunei\", \"Sri Lanka\", \"Trinidad and Tobago\"]\n",
    "total_points += task_points"
   ]
  },
  {
   "cell_type": "markdown",
   "id": "3f536200-4e59-4678-98b4-971c58495696",
   "metadata": {
    "deletable": false,
    "editable": false,
    "nbgrader": {
     "cell_type": "markdown",
     "checksum": "6ecf9139596818846459f4e8908a7567",
     "grade": false,
     "grade_id": "description-task-3",
     "locked": true,
     "schema_version": 3,
     "solution": false,
     "task": false
    },
    "tags": []
   },
   "source": [
    "## Task 3\n",
    "\n",
    "Working with HTML.\n",
    "\n",
    "Read the data from the provided file and answer the specific questions about the world."
   ]
  },
  {
   "cell_type": "markdown",
   "id": "a793bdaf-191f-4f42-9424-4efb6ca09d92",
   "metadata": {
    "deletable": false,
    "editable": false,
    "nbgrader": {
     "cell_type": "markdown",
     "checksum": "61f5636e8e052bd164b62a9b7731389b",
     "grade": false,
     "grade_id": "description-task-3-1",
     "locked": true,
     "schema_version": 3,
     "solution": false,
     "task": false
    },
    "tags": []
   },
   "source": [
    "### Reading the HTML\n",
    "\n",
    "Read the demographical data of the world countries from the file *world.html* into a `DataFrame` `df_world_demo`."
   ]
  },
  {
   "cell_type": "code",
   "execution_count": 26,
   "id": "5a58991c-9445-4693-bb8f-d3ba6fbc90b6",
   "metadata": {
    "deletable": false,
    "nbgrader": {
     "cell_type": "code",
     "checksum": "4906055d6426b207b9b5a3d7f0c1e45a",
     "grade": false,
     "grade_id": "solution-task-3-1",
     "locked": false,
     "schema_version": 3,
     "solution": true,
     "task": false
    },
    "tags": []
   },
   "outputs": [],
   "source": [
    "# Add your implementation here.\n",
    "df_world_demo = pd.read_html(\"world.html\")[0]"
   ]
  },
  {
   "cell_type": "code",
   "execution_count": 27,
   "id": "d1675229-56ed-403c-835f-d34d6dccd3ed",
   "metadata": {
    "deletable": false,
    "editable": false,
    "nbgrader": {
     "cell_type": "code",
     "checksum": "a683096ea9931382f2315014efaf1fa8",
     "grade": true,
     "grade_id": "test-task-3-1",
     "locked": true,
     "points": 4,
     "schema_version": 3,
     "solution": false,
     "task": false
    },
    "tags": []
   },
   "outputs": [],
   "source": [
    "assert df_world_demo.shape == (233, 2)\n",
    "total_points += task_points"
   ]
  },
  {
   "cell_type": "markdown",
   "id": "e4d998e7-9b11-44d9-9f27-6bc5967cb22b",
   "metadata": {
    "deletable": false,
    "editable": false,
    "nbgrader": {
     "cell_type": "markdown",
     "checksum": "b0f5937b86f48b3b40438f90ae262eca",
     "grade": false,
     "grade_id": "description-task-3-2",
     "locked": true,
     "schema_version": 3,
     "solution": false,
     "task": false
    },
    "tags": []
   },
   "source": [
    "### What are the three most populated countries?\n",
    "\n",
    "This question is based on the demographic data."
   ]
  },
  {
   "cell_type": "code",
   "execution_count": 28,
   "id": "a944f9e3-b646-4c79-9d1c-16a36d74ca81",
   "metadata": {
    "deletable": false,
    "nbgrader": {
     "cell_type": "code",
     "checksum": "ff130741bd942df9c2aa89e8ccdf1cec",
     "grade": false,
     "grade_id": "solution-task-3-2",
     "locked": false,
     "schema_version": 3,
     "solution": true,
     "task": false
    },
    "tags": []
   },
   "outputs": [
    {
     "data": {
      "text/html": [
       "<div>\n",
       "<style scoped>\n",
       "    .dataframe tbody tr th:only-of-type {\n",
       "        vertical-align: middle;\n",
       "    }\n",
       "\n",
       "    .dataframe tbody tr th {\n",
       "        vertical-align: top;\n",
       "    }\n",
       "\n",
       "    .dataframe thead th {\n",
       "        text-align: right;\n",
       "    }\n",
       "</style>\n",
       "<table border=\"1\" class=\"dataframe\">\n",
       "  <thead>\n",
       "    <tr style=\"text-align: right;\">\n",
       "      <th></th>\n",
       "      <th>Country</th>\n",
       "      <th>Population</th>\n",
       "    </tr>\n",
       "  </thead>\n",
       "  <tbody>\n",
       "    <tr>\n",
       "      <th>43</th>\n",
       "      <td>China</td>\n",
       "      <td>1433783686</td>\n",
       "    </tr>\n",
       "    <tr>\n",
       "      <th>96</th>\n",
       "      <td>India</td>\n",
       "      <td>1366417754</td>\n",
       "    </tr>\n",
       "    <tr>\n",
       "      <th>221</th>\n",
       "      <td>United States of America</td>\n",
       "      <td>329064917</td>\n",
       "    </tr>\n",
       "  </tbody>\n",
       "</table>\n",
       "</div>"
      ],
      "text/plain": [
       "                      Country  Population\n",
       "43                      China  1433783686\n",
       "96                      India  1366417754\n",
       "221  United States of America   329064917"
      ]
     },
     "execution_count": 28,
     "metadata": {},
     "output_type": "execute_result"
    }
   ],
   "source": [
    "# Add your implementation here.\n",
    "df_world_demo.sort_values(by='Population', ascending=False).head(3)"
   ]
  },
  {
   "cell_type": "code",
   "execution_count": 29,
   "id": "7d6ef2ba-1815-4014-97c0-b320b8fa263f",
   "metadata": {
    "deletable": false,
    "editable": false,
    "nbgrader": {
     "cell_type": "code",
     "checksum": "a31416139f92b852d5636d09aae9bf12",
     "grade": true,
     "grade_id": "test-task-3-2",
     "locked": true,
     "points": 4,
     "schema_version": 3,
     "solution": false,
     "task": false
    },
    "tags": []
   },
   "outputs": [],
   "source": [
    "assert list(_.Country) == [\"China\", \"India\", \"United States of America\"]\n",
    "total_points += task_points"
   ]
  },
  {
   "cell_type": "markdown",
   "id": "abb060e6-6f31-457d-b89e-b58cc46723c8",
   "metadata": {
    "deletable": false,
    "editable": false,
    "nbgrader": {
     "cell_type": "markdown",
     "checksum": "8c43770a6419e0782d8893044a5fc293",
     "grade": false,
     "grade_id": "description-task-3-3",
     "locked": true,
     "schema_version": 3,
     "solution": false,
     "task": false
    },
    "tags": []
   },
   "source": [
    "### What is the least populated country?\n",
    "\n",
    "This question is based on the demographic data."
   ]
  },
  {
   "cell_type": "code",
   "execution_count": 30,
   "id": "c8b1aefb-1a24-4148-9249-b38b4c59804e",
   "metadata": {
    "deletable": false,
    "nbgrader": {
     "cell_type": "code",
     "checksum": "f23820e5f21615b4f9c880d6c98b2006",
     "grade": false,
     "grade_id": "solution-task-3-3",
     "locked": false,
     "schema_version": 3,
     "solution": true,
     "task": false
    },
    "tags": []
   },
   "outputs": [
    {
     "data": {
      "text/plain": [
       "'Vatican City'"
      ]
     },
     "execution_count": 30,
     "metadata": {},
     "output_type": "execute_result"
    }
   ],
   "source": [
    "# Add your implementation here.\n",
    "df_world_demo.loc[df_world_demo.Population.idxmin()].Country"
   ]
  },
  {
   "cell_type": "code",
   "execution_count": 31,
   "id": "0e283cc6-efc0-43d0-a6b7-7e6d0f1e4631",
   "metadata": {
    "deletable": false,
    "editable": false,
    "nbgrader": {
     "cell_type": "code",
     "checksum": "6a91f8c8ffc38bbfef311567a275a872",
     "grade": true,
     "grade_id": "test-task-3-3",
     "locked": true,
     "points": 4,
     "schema_version": 3,
     "solution": false,
     "task": false
    },
    "tags": []
   },
   "outputs": [],
   "source": [
    "assert _ == \"Vatican City\"\n",
    "total_points += task_points"
   ]
  },
  {
   "cell_type": "markdown",
   "id": "ae39ae4b-1b59-4a0d-832d-b456012e704f",
   "metadata": {
    "deletable": false,
    "editable": false,
    "nbgrader": {
     "cell_type": "markdown",
     "checksum": "1eb96a43a7e89b35c2eb9a16a7836158",
     "grade": false,
     "grade_id": "description-task-3-4",
     "locked": true,
     "schema_version": 3,
     "solution": false,
     "task": false
    },
    "tags": []
   },
   "source": [
    "### What countries have more than 200,000,000 people?\n",
    "\n",
    "This question is based on the demographic data."
   ]
  },
  {
   "cell_type": "code",
   "execution_count": 32,
   "id": "a27d40e4-1aaf-47bd-a5f7-e6fee44434ee",
   "metadata": {
    "deletable": false,
    "nbgrader": {
     "cell_type": "code",
     "checksum": "7294af6543aecd52ff2e38e4796564e7",
     "grade": false,
     "grade_id": "solution-task-3-4",
     "locked": false,
     "schema_version": 3,
     "solution": true,
     "task": false
    },
    "tags": []
   },
   "outputs": [
    {
     "data": {
      "text/html": [
       "<div>\n",
       "<style scoped>\n",
       "    .dataframe tbody tr th:only-of-type {\n",
       "        vertical-align: middle;\n",
       "    }\n",
       "\n",
       "    .dataframe tbody tr th {\n",
       "        vertical-align: top;\n",
       "    }\n",
       "\n",
       "    .dataframe thead th {\n",
       "        text-align: right;\n",
       "    }\n",
       "</style>\n",
       "<table border=\"1\" class=\"dataframe\">\n",
       "  <thead>\n",
       "    <tr style=\"text-align: right;\">\n",
       "      <th></th>\n",
       "      <th>Country</th>\n",
       "      <th>Population</th>\n",
       "    </tr>\n",
       "  </thead>\n",
       "  <tbody>\n",
       "    <tr>\n",
       "      <th>27</th>\n",
       "      <td>Brazil</td>\n",
       "      <td>211049527</td>\n",
       "    </tr>\n",
       "    <tr>\n",
       "      <th>43</th>\n",
       "      <td>China</td>\n",
       "      <td>1433783686</td>\n",
       "    </tr>\n",
       "    <tr>\n",
       "      <th>96</th>\n",
       "      <td>India</td>\n",
       "      <td>1366417754</td>\n",
       "    </tr>\n",
       "    <tr>\n",
       "      <th>97</th>\n",
       "      <td>Indonesia</td>\n",
       "      <td>270625568</td>\n",
       "    </tr>\n",
       "    <tr>\n",
       "      <th>152</th>\n",
       "      <td>Nigeria</td>\n",
       "      <td>200963599</td>\n",
       "    </tr>\n",
       "    <tr>\n",
       "      <th>159</th>\n",
       "      <td>Pakistan</td>\n",
       "      <td>216565318</td>\n",
       "    </tr>\n",
       "    <tr>\n",
       "      <th>221</th>\n",
       "      <td>United States of America</td>\n",
       "      <td>329064917</td>\n",
       "    </tr>\n",
       "  </tbody>\n",
       "</table>\n",
       "</div>"
      ],
      "text/plain": [
       "                      Country  Population\n",
       "27                     Brazil   211049527\n",
       "43                      China  1433783686\n",
       "96                      India  1366417754\n",
       "97                  Indonesia   270625568\n",
       "152                   Nigeria   200963599\n",
       "159                  Pakistan   216565318\n",
       "221  United States of America   329064917"
      ]
     },
     "execution_count": 32,
     "metadata": {},
     "output_type": "execute_result"
    }
   ],
   "source": [
    "# Add your implementation here.\n",
    "df_world_demo[df_world_demo[\"Population\"] > 200000000]"
   ]
  },
  {
   "cell_type": "code",
   "execution_count": 33,
   "id": "2095f633-a89a-4b8a-975e-259c85962203",
   "metadata": {
    "deletable": false,
    "editable": false,
    "nbgrader": {
     "cell_type": "code",
     "checksum": "da5c6408cabd61c9a82b8c75930e564f",
     "grade": true,
     "grade_id": "test-task-3-4",
     "locked": true,
     "points": 4,
     "schema_version": 3,
     "solution": false,
     "task": false
    },
    "tags": []
   },
   "outputs": [],
   "source": [
    "assert list(_.Country) == [\"Brazil\",\n",
    "                           \"China\",\n",
    "                           \"India\",\n",
    "                           \"Indonesia\",\n",
    "                           \"Nigeria\",\n",
    "                           \"Pakistan\",\n",
    "                           \"United States of America\"]\n",
    "total_points += task_points"
   ]
  },
  {
   "cell_type": "markdown",
   "id": "4b723a26-a4e9-4509-91a4-e6dfef2720a5",
   "metadata": {
    "deletable": false,
    "editable": false,
    "nbgrader": {
     "cell_type": "markdown",
     "checksum": "7b4e001127ff11e66d6fde749f6c21f6",
     "grade": false,
     "grade_id": "description-task-3-5",
     "locked": true,
     "schema_version": 3,
     "solution": false,
     "task": false
    },
    "tags": []
   },
   "source": [
    "### What countries have between 10,000 and 20,000 people? Order them by population, from largest to smallest.\n",
    "\n",
    "This question is based on the demographic data."
   ]
  },
  {
   "cell_type": "code",
   "execution_count": 34,
   "id": "98152dd7-4a2a-4ecd-a90b-a8774ffcd721",
   "metadata": {
    "deletable": false,
    "nbgrader": {
     "cell_type": "code",
     "checksum": "0841ef32754a01f8ce6f3b8be1a293e4",
     "grade": false,
     "grade_id": "solution-task-3-5",
     "locked": false,
     "schema_version": 3,
     "solution": true,
     "task": false
    },
    "tags": []
   },
   "outputs": [
    {
     "data": {
      "text/html": [
       "<div>\n",
       "<style scoped>\n",
       "    .dataframe tbody tr th:only-of-type {\n",
       "        vertical-align: middle;\n",
       "    }\n",
       "\n",
       "    .dataframe tbody tr th {\n",
       "        vertical-align: top;\n",
       "    }\n",
       "\n",
       "    .dataframe thead th {\n",
       "        text-align: right;\n",
       "    }\n",
       "</style>\n",
       "<table border=\"1\" class=\"dataframe\">\n",
       "  <thead>\n",
       "    <tr style=\"text-align: right;\">\n",
       "      <th></th>\n",
       "      <th>Country</th>\n",
       "      <th>Population</th>\n",
       "    </tr>\n",
       "  </thead>\n",
       "  <tbody>\n",
       "    <tr>\n",
       "      <th>160</th>\n",
       "      <td>Palau</td>\n",
       "      <td>18008</td>\n",
       "    </tr>\n",
       "    <tr>\n",
       "      <th>47</th>\n",
       "      <td>Cook Islands</td>\n",
       "      <td>17548</td>\n",
       "    </tr>\n",
       "    <tr>\n",
       "      <th>6</th>\n",
       "      <td>Anguilla</td>\n",
       "      <td>14869</td>\n",
       "    </tr>\n",
       "    <tr>\n",
       "      <th>216</th>\n",
       "      <td>Tuvalu</td>\n",
       "      <td>11646</td>\n",
       "    </tr>\n",
       "    <tr>\n",
       "      <th>228</th>\n",
       "      <td>Wallis and Futuna</td>\n",
       "      <td>11432</td>\n",
       "    </tr>\n",
       "    <tr>\n",
       "      <th>145</th>\n",
       "      <td>Nauru</td>\n",
       "      <td>10756</td>\n",
       "    </tr>\n",
       "  </tbody>\n",
       "</table>\n",
       "</div>"
      ],
      "text/plain": [
       "               Country  Population\n",
       "160              Palau       18008\n",
       "47        Cook Islands       17548\n",
       "6             Anguilla       14869\n",
       "216             Tuvalu       11646\n",
       "228  Wallis and Futuna       11432\n",
       "145              Nauru       10756"
      ]
     },
     "execution_count": 34,
     "metadata": {},
     "output_type": "execute_result"
    }
   ],
   "source": [
    "# Add your implementation here.\n",
    "df_world_demo[(10000 < df_world_demo[\"Population\"]) & (df_world_demo[\"Population\"] < 20000)].sort_values(by='Population', ascending=False)"
   ]
  },
  {
   "cell_type": "code",
   "execution_count": 35,
   "id": "1f0a0b02-d12f-4325-8de8-253453519b5b",
   "metadata": {
    "deletable": false,
    "editable": false,
    "nbgrader": {
     "cell_type": "code",
     "checksum": "f6af7d51783ecd36b8ae285597fae169",
     "grade": true,
     "grade_id": "test-task-3-5",
     "locked": true,
     "points": 4,
     "schema_version": 3,
     "solution": false,
     "task": false
    },
    "tags": []
   },
   "outputs": [],
   "source": [
    "assert list(_.Country) == [\"Palau\", \"Cook Islands\", \"Anguilla\", \"Tuvalu\", \"Wallis and Futuna\", \"Nauru\"]\n",
    "total_points += task_points"
   ]
  },
  {
   "cell_type": "markdown",
   "id": "5dd07946-65de-4bb8-80ed-49bffa2fa87c",
   "metadata": {
    "deletable": false,
    "editable": false,
    "nbgrader": {
     "cell_type": "markdown",
     "checksum": "4a26da88194058ffde355f03c258d7df",
     "grade": false,
     "grade_id": "description-task-4",
     "locked": true,
     "schema_version": 3,
     "solution": false,
     "task": false
    },
    "tags": []
   },
   "source": [
    "## Task 4\n",
    "\n",
    "Working with APIs.\n",
    "\n",
    "Retrieve data as `JSON` from the specified API and answer the specific questions about the world."
   ]
  },
  {
   "cell_type": "markdown",
   "id": "1e333ab7-53a4-4925-b48a-cf684603a0cc",
   "metadata": {
    "deletable": false,
    "editable": false,
    "nbgrader": {
     "cell_type": "markdown",
     "checksum": "4904f8f41642163ffcc3d4e2d7c1f182",
     "grade": false,
     "grade_id": "description-task-4-1",
     "locked": true,
     "schema_version": 3,
     "solution": false,
     "task": false
    },
    "tags": []
   },
   "source": [
    "### Retrieve data\n",
    "\n",
    "Retrieve various data about the world countries from [REST Countries](https://restcountries.com/#api-endpoints-v3-name) into a `DataFrame` `df_world_misc`.\n",
    "\n",
    "You should *flatten* or *normalize* the retrieved `JSON`."
   ]
  },
  {
   "cell_type": "code",
   "execution_count": 36,
   "id": "51e2bf6e-53f0-474d-818d-860e83ce050b",
   "metadata": {
    "deletable": false,
    "nbgrader": {
     "cell_type": "code",
     "checksum": "c69c70a77e44b938208d25e6f104b15a",
     "grade": false,
     "grade_id": "solution-task-4-1",
     "locked": false,
     "schema_version": 3,
     "solution": true,
     "task": false
    },
    "tags": []
   },
   "outputs": [],
   "source": [
    "# Add your implementation here.\n",
    "df_world_misc = pd.json_normalize(requests.get(\"https://restcountries.com/v3.1/all\").json())"
   ]
  },
  {
   "cell_type": "code",
   "execution_count": 37,
   "id": "588b460b-4d0f-4380-9232-b4337991e73c",
   "metadata": {
    "deletable": false,
    "editable": false,
    "nbgrader": {
     "cell_type": "code",
     "checksum": "6922d831787a52f090bbc73b3ecb451d",
     "grade": true,
     "grade_id": "test-task-4-1",
     "locked": true,
     "points": 4,
     "schema_version": 3,
     "solution": false,
     "task": false
    },
    "tags": []
   },
   "outputs": [],
   "source": [
    "assert df_world_misc.shape == (250, 892)\n",
    "total_points += task_points"
   ]
  },
  {
   "cell_type": "markdown",
   "id": "2409f7be-b40d-4600-996f-c58b0c4b43fe",
   "metadata": {
    "deletable": false,
    "editable": false,
    "nbgrader": {
     "cell_type": "markdown",
     "checksum": "1ba48e02233382a5cbd3785f9e23f037",
     "grade": false,
     "grade_id": "description-task-4-2",
     "locked": true,
     "schema_version": 3,
     "solution": false,
     "task": false
    },
    "tags": []
   },
   "source": [
    "### What is the common name of the country with the most neighbors?\n",
    "\n",
    "This question is based on the data retrieved from API."
   ]
  },
  {
   "cell_type": "code",
   "execution_count": 38,
   "id": "a514cbb4-3480-46ba-8b12-15f63b201148",
   "metadata": {
    "deletable": false,
    "nbgrader": {
     "cell_type": "code",
     "checksum": "c77d23b97cda06b0d3081b359b177a30",
     "grade": false,
     "grade_id": "solution-task-4-2",
     "locked": false,
     "schema_version": 3,
     "solution": true,
     "task": false
    },
    "tags": []
   },
   "outputs": [
    {
     "data": {
      "text/plain": [
       "'China'"
      ]
     },
     "execution_count": 38,
     "metadata": {},
     "output_type": "execute_result"
    }
   ],
   "source": [
    "# Add your implementation here.\n",
    "df_world_misc.loc[df_world_misc[\"borders\"].str.len().idxmax()][\"name.common\"]"
   ]
  },
  {
   "cell_type": "code",
   "execution_count": 39,
   "id": "dece6b57-d6ce-4315-aade-09aaadb0a26a",
   "metadata": {
    "deletable": false,
    "editable": false,
    "nbgrader": {
     "cell_type": "code",
     "checksum": "8a74458b6bfb28c76db1ded0d0f7e04a",
     "grade": true,
     "grade_id": "test-task-4-2",
     "locked": true,
     "points": 4,
     "schema_version": 3,
     "solution": false,
     "task": false
    },
    "tags": []
   },
   "outputs": [],
   "source": [
    "assert _ == \"China\"\n",
    "total_points += task_points"
   ]
  },
  {
   "cell_type": "markdown",
   "id": "b3048909-487f-4301-a5f4-428d28f77e89",
   "metadata": {
    "deletable": false,
    "editable": false,
    "nbgrader": {
     "cell_type": "markdown",
     "checksum": "a1bcbd1f8a28e4345841eafa81941b55",
     "grade": false,
     "grade_id": "description-task-4-3",
     "locked": true,
     "schema_version": 3,
     "solution": false,
     "task": false
    },
    "tags": []
   },
   "source": [
    "### What is the official name of the country with the most capitals?\n",
    "\n",
    "This question is based on the data retrieved from API."
   ]
  },
  {
   "cell_type": "code",
   "execution_count": 40,
   "id": "cd06d5e0-e263-47f7-b068-484f55a1e3df",
   "metadata": {
    "deletable": false,
    "nbgrader": {
     "cell_type": "code",
     "checksum": "15ac0533d58d087b2d38a443775b9ec4",
     "grade": false,
     "grade_id": "solution-task-4-3",
     "locked": false,
     "schema_version": 3,
     "solution": true,
     "task": false
    },
    "tags": []
   },
   "outputs": [
    {
     "data": {
      "text/plain": [
       "'Republic of South Africa'"
      ]
     },
     "execution_count": 40,
     "metadata": {},
     "output_type": "execute_result"
    }
   ],
   "source": [
    "# Add your implementation here.\n",
    "df_world_misc.loc[df_world_misc[\"capital\"].str.len().idxmax()][\"name.official\"]"
   ]
  },
  {
   "cell_type": "code",
   "execution_count": 41,
   "id": "f6e02bfd-d864-4883-bc5e-cd5659e49f79",
   "metadata": {
    "deletable": false,
    "editable": false,
    "nbgrader": {
     "cell_type": "code",
     "checksum": "07ef8ee6d115bbe7158d9dab3fe03399",
     "grade": true,
     "grade_id": "test-task-4-3",
     "locked": true,
     "points": 4,
     "schema_version": 3,
     "solution": false,
     "task": false
    },
    "tags": []
   },
   "outputs": [],
   "source": [
    "assert _ == \"Republic of South Africa\"\n",
    "total_points += task_points"
   ]
  },
  {
   "cell_type": "markdown",
   "id": "8b0e41b9-f41c-4aa7-9993-266457bf4163",
   "metadata": {
    "deletable": false,
    "editable": false,
    "nbgrader": {
     "cell_type": "markdown",
     "checksum": "42dccc0562c1a1495480c47bc9e236b0",
     "grade": false,
     "grade_id": "description-task-4-4",
     "locked": true,
     "schema_version": 3,
     "solution": false,
     "task": false
    },
    "tags": []
   },
   "source": [
    "### What 3 countries had the highest Gini index in 2019?\n",
    "\n",
    "This question is based on the data retrieved from API."
   ]
  },
  {
   "cell_type": "code",
   "execution_count": 42,
   "id": "01dc9d01-e70a-4ca1-9b59-786d98ecd4f7",
   "metadata": {
    "deletable": false,
    "nbgrader": {
     "cell_type": "code",
     "checksum": "5c2a2276f2b0e812a5c30be730b2a338",
     "grade": false,
     "grade_id": "solution-task-4-4",
     "locked": false,
     "schema_version": 3,
     "solution": true,
     "task": false
    },
    "tags": []
   },
   "outputs": [
    {
     "data": {
      "text/html": [
       "<div>\n",
       "<style scoped>\n",
       "    .dataframe tbody tr th:only-of-type {\n",
       "        vertical-align: middle;\n",
       "    }\n",
       "\n",
       "    .dataframe tbody tr th {\n",
       "        vertical-align: top;\n",
       "    }\n",
       "\n",
       "    .dataframe thead th {\n",
       "        text-align: right;\n",
       "    }\n",
       "</style>\n",
       "<table border=\"1\" class=\"dataframe\">\n",
       "  <thead>\n",
       "    <tr style=\"text-align: right;\">\n",
       "      <th></th>\n",
       "      <th>tld</th>\n",
       "      <th>cca2</th>\n",
       "      <th>ccn3</th>\n",
       "      <th>cca3</th>\n",
       "      <th>cioc</th>\n",
       "      <th>independent</th>\n",
       "      <th>status</th>\n",
       "      <th>unMember</th>\n",
       "      <th>capital</th>\n",
       "      <th>altSpellings</th>\n",
       "      <th>...</th>\n",
       "      <th>currencies.CDF.name</th>\n",
       "      <th>currencies.CDF.symbol</th>\n",
       "      <th>languages.lua</th>\n",
       "      <th>currencies.PEN.name</th>\n",
       "      <th>currencies.PEN.symbol</th>\n",
       "      <th>name.nativeName.nrf.official</th>\n",
       "      <th>name.nativeName.nrf.common</th>\n",
       "      <th>currencies.JEP.name</th>\n",
       "      <th>currencies.JEP.symbol</th>\n",
       "      <th>languages.nrf</th>\n",
       "    </tr>\n",
       "  </thead>\n",
       "  <tbody>\n",
       "    <tr>\n",
       "      <th>237</th>\n",
       "      <td>[.br]</td>\n",
       "      <td>BR</td>\n",
       "      <td>076</td>\n",
       "      <td>BRA</td>\n",
       "      <td>BRA</td>\n",
       "      <td>True</td>\n",
       "      <td>officially-assigned</td>\n",
       "      <td>True</td>\n",
       "      <td>[Brasília]</td>\n",
       "      <td>[BR, Brasil, Federative Republic of Brazil, Re...</td>\n",
       "      <td>...</td>\n",
       "      <td>NaN</td>\n",
       "      <td>NaN</td>\n",
       "      <td>NaN</td>\n",
       "      <td>NaN</td>\n",
       "      <td>NaN</td>\n",
       "      <td>NaN</td>\n",
       "      <td>NaN</td>\n",
       "      <td>NaN</td>\n",
       "      <td>NaN</td>\n",
       "      <td>NaN</td>\n",
       "    </tr>\n",
       "    <tr>\n",
       "      <th>139</th>\n",
       "      <td>[.co]</td>\n",
       "      <td>CO</td>\n",
       "      <td>170</td>\n",
       "      <td>COL</td>\n",
       "      <td>COL</td>\n",
       "      <td>True</td>\n",
       "      <td>officially-assigned</td>\n",
       "      <td>True</td>\n",
       "      <td>[Bogotá]</td>\n",
       "      <td>[CO, Republic of Colombia, República de Colombia]</td>\n",
       "      <td>...</td>\n",
       "      <td>NaN</td>\n",
       "      <td>NaN</td>\n",
       "      <td>NaN</td>\n",
       "      <td>NaN</td>\n",
       "      <td>NaN</td>\n",
       "      <td>NaN</td>\n",
       "      <td>NaN</td>\n",
       "      <td>NaN</td>\n",
       "      <td>NaN</td>\n",
       "      <td>NaN</td>\n",
       "    </tr>\n",
       "    <tr>\n",
       "      <th>71</th>\n",
       "      <td>[.zw]</td>\n",
       "      <td>ZW</td>\n",
       "      <td>716</td>\n",
       "      <td>ZWE</td>\n",
       "      <td>ZIM</td>\n",
       "      <td>True</td>\n",
       "      <td>officially-assigned</td>\n",
       "      <td>True</td>\n",
       "      <td>[Harare]</td>\n",
       "      <td>[ZW, Republic of Zimbabwe]</td>\n",
       "      <td>...</td>\n",
       "      <td>NaN</td>\n",
       "      <td>NaN</td>\n",
       "      <td>NaN</td>\n",
       "      <td>NaN</td>\n",
       "      <td>NaN</td>\n",
       "      <td>NaN</td>\n",
       "      <td>NaN</td>\n",
       "      <td>NaN</td>\n",
       "      <td>NaN</td>\n",
       "      <td>NaN</td>\n",
       "    </tr>\n",
       "  </tbody>\n",
       "</table>\n",
       "<p>3 rows × 892 columns</p>\n",
       "</div>"
      ],
      "text/plain": [
       "       tld cca2 ccn3 cca3 cioc independent               status  unMember  \\\n",
       "237  [.br]   BR  076  BRA  BRA        True  officially-assigned      True   \n",
       "139  [.co]   CO  170  COL  COL        True  officially-assigned      True   \n",
       "71   [.zw]   ZW  716  ZWE  ZIM        True  officially-assigned      True   \n",
       "\n",
       "        capital                                       altSpellings  ...  \\\n",
       "237  [Brasília]  [BR, Brasil, Federative Republic of Brazil, Re...  ...   \n",
       "139    [Bogotá]  [CO, Republic of Colombia, República de Colombia]  ...   \n",
       "71     [Harare]                         [ZW, Republic of Zimbabwe]  ...   \n",
       "\n",
       "    currencies.CDF.name currencies.CDF.symbol languages.lua  \\\n",
       "237                 NaN                   NaN           NaN   \n",
       "139                 NaN                   NaN           NaN   \n",
       "71                  NaN                   NaN           NaN   \n",
       "\n",
       "     currencies.PEN.name  currencies.PEN.symbol name.nativeName.nrf.official  \\\n",
       "237                  NaN                    NaN                          NaN   \n",
       "139                  NaN                    NaN                          NaN   \n",
       "71                   NaN                    NaN                          NaN   \n",
       "\n",
       "     name.nativeName.nrf.common currencies.JEP.name currencies.JEP.symbol  \\\n",
       "237                         NaN                 NaN                   NaN   \n",
       "139                         NaN                 NaN                   NaN   \n",
       "71                          NaN                 NaN                   NaN   \n",
       "\n",
       "    languages.nrf  \n",
       "237           NaN  \n",
       "139           NaN  \n",
       "71            NaN  \n",
       "\n",
       "[3 rows x 892 columns]"
      ]
     },
     "execution_count": 42,
     "metadata": {},
     "output_type": "execute_result"
    }
   ],
   "source": [
    "# Add your implementation here.\n",
    "df_world_misc.sort_values(by=\"gini.2019\", ascending=False).head(3)"
   ]
  },
  {
   "cell_type": "code",
   "execution_count": 43,
   "id": "d23e6e91-837a-404b-848b-0cd1875c6a6f",
   "metadata": {
    "deletable": false,
    "editable": false,
    "nbgrader": {
     "cell_type": "code",
     "checksum": "e8e7ffd7231625e9995f20b2f4828076",
     "grade": true,
     "grade_id": "test-task-4-4",
     "locked": true,
     "points": 4,
     "schema_version": 3,
     "solution": false,
     "task": false
    },
    "tags": []
   },
   "outputs": [],
   "source": [
    "assert list(_[\"name.common\"]) == [\"Brazil\", \"Colombia\", \"Zimbabwe\"]\n",
    "total_points += task_points"
   ]
  },
  {
   "cell_type": "markdown",
   "id": "8f35cc24-f141-456e-a4dd-9735d69e40e6",
   "metadata": {
    "deletable": false,
    "editable": false,
    "nbgrader": {
     "cell_type": "markdown",
     "checksum": "58a06e2f0b70ed19eeb4670b03aa3a36",
     "grade": false,
     "grade_id": "description-task-4-5",
     "locked": true,
     "schema_version": 3,
     "solution": false,
     "task": false
    },
    "tags": []
   },
   "source": [
    "### What is the official name of the 2nd largest country with a single timezone?\n",
    "\n",
    "This question is based on the data retrieved from API."
   ]
  },
  {
   "cell_type": "code",
   "execution_count": 44,
   "id": "4fc54f0a-934e-4cf1-b5e6-4159e2b5bf13",
   "metadata": {
    "deletable": false,
    "nbgrader": {
     "cell_type": "code",
     "checksum": "c45ddbac4b1b2dd3574d5bde98fe366a",
     "grade": false,
     "grade_id": "solution-task-4-5",
     "locked": false,
     "schema_version": 3,
     "solution": true,
     "task": false
    },
    "tags": []
   },
   "outputs": [
    {
     "data": {
      "text/plain": [
       "'Republic of India'"
      ]
     },
     "execution_count": 44,
     "metadata": {},
     "output_type": "execute_result"
    }
   ],
   "source": [
    "# Add your implementation here.\n",
    "df_world_misc[df_world_misc[\"timezones\"].str.len() == 1].sort_values('area', ascending=False).iloc[1][\"name.official\"]"
   ]
  },
  {
   "cell_type": "code",
   "execution_count": 45,
   "id": "49195028-c9f4-47bb-9580-fe6f70e563fa",
   "metadata": {
    "deletable": false,
    "editable": false,
    "nbgrader": {
     "cell_type": "code",
     "checksum": "b81f2a31adfe569af42421ed0af84d19",
     "grade": true,
     "grade_id": "test-task-4-5",
     "locked": true,
     "points": 4,
     "schema_version": 3,
     "solution": false,
     "task": false
    },
    "tags": []
   },
   "outputs": [],
   "source": [
    "assert _ == \"Republic of India\"\n",
    "total_points += task_points"
   ]
  },
  {
   "cell_type": "markdown",
   "id": "cd9c9ca5-e96a-4f48-86d7-8b7ee9c9af7d",
   "metadata": {
    "deletable": false,
    "editable": false,
    "nbgrader": {
     "cell_type": "markdown",
     "checksum": "482824f56e4b291b129dc65f2f5803ee",
     "grade": false,
     "grade_id": "description-task-5",
     "locked": true,
     "schema_version": 3,
     "solution": false,
     "task": false
    },
    "tags": []
   },
   "source": [
    "## Task 5\n",
    "\n",
    "Assemble the data from all the sources into a single `DataFrame`.\n"
   ]
  },
  {
   "cell_type": "markdown",
   "id": "9476bced-8b38-43b2-aece-428645032c25",
   "metadata": {
    "deletable": false,
    "editable": false,
    "nbgrader": {
     "cell_type": "markdown",
     "checksum": "266d655e4db192ebc68ea43351fa0ffb",
     "grade": false,
     "grade_id": "description-task-5-1",
     "locked": true,
     "schema_version": 3,
     "solution": false,
     "task": false
    },
    "tags": []
   },
   "source": [
    "### All together now!\n",
    "\n",
    "Create a single `DataFrame` `df_world` with all the data and save it as *world.csv*.\n",
    "\n",
    "This is an open-ended task without tests but some general requirements for the resultig `DataFrame`:\n",
    "\n",
    "- number of rows in the resulting dataframe must be between 180 and 320\n",
    "- there must be at least 12 columns with data from the provided files (*xlsx*, *sqlite3*, and *html*)\n",
    "- numeric data must be stored as numbers\n",
    "- *csv* file must be valid"
   ]
  },
  {
   "cell_type": "code",
   "execution_count": 46,
   "id": "7e9bf602-eb73-4690-bfcc-80201b209346",
   "metadata": {
    "deletable": false,
    "nbgrader": {
     "cell_type": "code",
     "checksum": "23bc61ec811ff42a2680b22dcf7ef954",
     "grade": true,
     "grade_id": "solution-task-5-1",
     "locked": false,
     "points": 20,
     "schema_version": 3,
     "solution": true,
     "task": false
    },
    "tags": []
   },
   "outputs": [],
   "source": [
    "# Add your implementation here.\n",
    "df_world = pd.DataFrame(pd.concat([df_world_geo, df_world_regions, df_world_codes, df_world_gov], axis=1))\n",
    "df_world.to_csv(\"world.csv\", index=False)"
   ]
  },
  {
   "cell_type": "code",
   "execution_count": 47,
   "id": "e477c3e1-0f16-4480-b1fc-95ec30f5500f",
   "metadata": {},
   "outputs": [
    {
     "data": {
      "text/plain": [
       "(261, 18)"
      ]
     },
     "execution_count": 47,
     "metadata": {},
     "output_type": "execute_result"
    }
   ],
   "source": [
    "df_world.shape"
   ]
  },
  {
   "cell_type": "code",
   "execution_count": 48,
   "id": "4817c150-af3c-4d98-b408-704b83961ffa",
   "metadata": {
    "deletable": false,
    "editable": false,
    "nbgrader": {
     "cell_type": "code",
     "checksum": "52892f12b4277a049fb3ea1242f0a811",
     "grade": false,
     "grade_id": "coda-points",
     "locked": true,
     "schema_version": 3,
     "solution": false,
     "task": false
    },
    "tags": []
   },
   "outputs": [
    {
     "name": "stdout",
     "output_type": "stream",
     "text": [
      "Total points: 80/80. 20 points are manually assigned.\n"
     ]
    }
   ],
   "source": [
    "print(f\"Total points: {total_points}/80. 20 points are manually assigned.\")"
   ]
  },
  {
   "cell_type": "markdown",
   "id": "1b4d13f8",
   "metadata": {
    "deletable": false,
    "editable": false,
    "nbgrader": {
     "cell_type": "markdown",
     "checksum": "905c6481fc0a62cc67f3fb217487d5d6",
     "grade": false,
     "grade_id": "checklist",
     "locked": true,
     "schema_version": 3,
     "solution": false,
     "task": false
    },
    "tags": []
   },
   "source": [
    "## Submission Checklist\n",
    "\n",
    "- [ ] Your name, today's date, and the assignment title in the designated cell.\n",
    "- [ ] Your answers in the designated cells (if required).\n",
    "- [ ] Your code runs and produces the expected output.\n",
    "- [ ] The validity of your code is verified by autograders (if provided).\n",
    "- [ ] Restart the kernel and run all cells (in the menubar, select *Kernel*, then *Restart Kernel and Run All Cells*).\n",
    "- [ ] Save the notebook.\n",
    "- [ ] Submit the assignment.\n"
   ]
  }
 ],
 "metadata": {
  "kernelspec": {
   "display_name": "DS320 (Python3.10)",
   "language": "python",
   "name": "ds320"
  },
  "language_info": {
   "codemirror_mode": {
    "name": "ipython",
    "version": 3
   },
   "file_extension": ".py",
   "mimetype": "text/x-python",
   "name": "python",
   "nbconvert_exporter": "python",
   "pygments_lexer": "ipython3",
   "version": "3.10.8"
  },
  "toc-autonumbering": false
 },
 "nbformat": 4,
 "nbformat_minor": 5
}
