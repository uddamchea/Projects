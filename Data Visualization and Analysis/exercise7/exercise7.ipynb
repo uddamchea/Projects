{
 "cells": [
  {
   "cell_type": "markdown",
   "id": "378fa102",
   "metadata": {
    "deletable": false,
    "editable": false,
    "jp-MarkdownHeadingCollapsed": true,
    "nbgrader": {
     "cell_type": "markdown",
     "checksum": "39d084b519322e6de918a86e4ccf339b",
     "grade": false,
     "grade_id": "directions-general",
     "locked": true,
     "schema_version": 3,
     "solution": false,
     "task": false
    },
    "tags": []
   },
   "source": [
    "# General tasks and directions\n",
    "\n",
    "- Add your name, today's date, and the assignment title to the designated cell.\n",
    "- Write your answers in the cells that contain `Add your answer here.` line.\n",
    "- Write your code in the cells that contain `# Add your implementation here.` line.\n",
    "- Use autograder tests that are provided for your convenience.\n",
    "- Don't change or delete any provided code (including [cell magic](https://ipython.readthedocs.io/en/stable/interactive/magics.html) such as `%%capture output`).\n"
   ]
  },
  {
   "cell_type": "markdown",
   "id": "8c4a3394",
   "metadata": {
    "tags": []
   },
   "source": [
    "## Add your name, today's date, and the assignment title\n",
    "\n",
    "author: Ratanak Uddam Chea\n",
    "\n",
    "date: 04/27/23\n",
    "\n",
    "assignment: exercise7\n"
   ]
  },
  {
   "cell_type": "markdown",
   "id": "a724cbb3-5e2e-40d7-ad66-7a2ed72f3de5",
   "metadata": {
    "deletable": false,
    "editable": false,
    "nbgrader": {
     "cell_type": "markdown",
     "checksum": "e7c8e423a86a5879db87d35dd14af5d4",
     "grade": false,
     "grade_id": "intro",
     "locked": true,
     "schema_version": 3,
     "solution": false,
     "task": false
    },
    "tags": []
   },
   "source": [
    "# Exercise\n",
    "\n",
    "*Data manipulation and visualization*\n",
    "\n",
    "This assignment is individual and you agree to submit your own work.\n"
   ]
  },
  {
   "cell_type": "code",
   "execution_count": 1,
   "id": "0e0fb0a7",
   "metadata": {
    "deletable": false,
    "editable": false,
    "nbgrader": {
     "cell_type": "code",
     "checksum": "136c3a175eea4739e1b91f775f454891",
     "grade": false,
     "grade_id": "intro-imports",
     "locked": true,
     "schema_version": 3,
     "solution": false,
     "task": false
    },
    "tags": []
   },
   "outputs": [],
   "source": [
    "import numpy as np\n",
    "import pandas as pd\n",
    "import matplotlib.pyplot as plt\n",
    "import seaborn as sns\n",
    "import plotly.express as px\n",
    "\n",
    "from pandas import Series, DataFrame\n"
   ]
  },
  {
   "cell_type": "markdown",
   "id": "edd04d35-c698-41c7-a859-b66155c25d08",
   "metadata": {
    "deletable": false,
    "editable": false,
    "nbgrader": {
     "cell_type": "markdown",
     "checksum": "e0036385c0eb8da7d098c2bafd60cd2d",
     "grade": false,
     "grade_id": "description-task-1",
     "locked": true,
     "schema_version": 3,
     "solution": false,
     "task": false
    },
    "tags": []
   },
   "source": [
    "## Task 1\n",
    "\n",
    "Read the provided *1962_2006_walmart_store_openings.csv* into a `DataFrame` using `storenum` as index.\n",
    "\n",
    "Convert all column names to lowercase."
   ]
  },
  {
   "cell_type": "code",
   "execution_count": 2,
   "id": "e7c69336-0761-4461-b261-bc6f8887bd8e",
   "metadata": {
    "deletable": false,
    "nbgrader": {
     "cell_type": "code",
     "checksum": "acf39d8d1e57654ff4c1a1b769ee4dc0",
     "grade": true,
     "grade_id": "solution-task-1",
     "locked": false,
     "points": 10,
     "schema_version": 3,
     "solution": true,
     "task": false
    },
    "tags": []
   },
   "outputs": [],
   "source": [
    "# Add your implementation here.\n",
    "\n",
    "#read df\n",
    "df = pd.read_csv(\"1962_2006_walmart_store_openings.csv\")\n",
    "\n",
    "#storenum as index\n",
    "df.set_index(\"storenum\", inplace=True)\n",
    "\n",
    "#convert all column names to lowercase\n",
    "df.columns = df.columns.str.lower()"
   ]
  },
  {
   "cell_type": "code",
   "execution_count": 3,
   "id": "ed5fdd6d-e735-45c4-b72f-c202732e1b4d",
   "metadata": {
    "deletable": false,
    "editable": false,
    "nbgrader": {
     "cell_type": "code",
     "checksum": "ac8448a210bb92b42ffbebbfa8c07ba2",
     "grade": false,
     "grade_id": "test-task-1",
     "locked": true,
     "schema_version": 3,
     "solution": false,
     "task": false
    },
    "tags": []
   },
   "outputs": [
    {
     "name": "stdout",
     "output_type": "stream",
     "text": [
      "<class 'pandas.core.frame.DataFrame'>\n",
      "Int64Index: 2992 entries, 1 to 5193\n",
      "Data columns (total 15 columns):\n",
      " #   Column      Non-Null Count  Dtype  \n",
      "---  ------      --------------  -----  \n",
      " 0   opendate    2992 non-null   object \n",
      " 1   date_super  1946 non-null   object \n",
      " 2   conversion  1946 non-null   float64\n",
      " 3   st          2992 non-null   int64  \n",
      " 4   county      2992 non-null   int64  \n",
      " 5   streetaddr  2992 non-null   object \n",
      " 6   strcity     2992 non-null   object \n",
      " 7   strstate    2992 non-null   object \n",
      " 8   zipcode     2992 non-null   int64  \n",
      " 9   type_store  2992 non-null   object \n",
      " 10  lat         2992 non-null   float64\n",
      " 11  lon         2992 non-null   float64\n",
      " 12  month       2992 non-null   int64  \n",
      " 13  day         2992 non-null   int64  \n",
      " 14  year        2992 non-null   int64  \n",
      "dtypes: float64(3), int64(6), object(6)\n",
      "memory usage: 374.0+ KB\n"
     ]
    }
   ],
   "source": [
    "df.info()"
   ]
  },
  {
   "cell_type": "markdown",
   "id": "e3bc4d05-857b-4197-88f5-555c2ecb4445",
   "metadata": {
    "deletable": false,
    "editable": false,
    "nbgrader": {
     "cell_type": "markdown",
     "checksum": "cf62a580e936ce93313efac8d7378679",
     "grade": false,
     "grade_id": "description-task-2",
     "locked": true,
     "schema_version": 3,
     "solution": false,
     "task": false
    },
    "tags": []
   },
   "source": [
    "## Task 2\n",
    "\n",
    "Set data types of the columns as follows:\n",
    "\n",
    "- `opendate`: date\n",
    "- `date_super`: date\n",
    "- `conversion`: boolean\n",
    "- `st`: integer\n",
    "- `county`: integer\n",
    "- `streetaddr`: string\n",
    "- `strcity`: string\n",
    "- `strstate`: string\n",
    "- `zipcode`: integer\n",
    "- `type_store`: string\n",
    "- `lat`: float\n",
    "- `lon`: float\n",
    "- `month`: integer\n",
    "- `day`: integer\n",
    "- `year`: integer"
   ]
  },
  {
   "cell_type": "code",
   "execution_count": 4,
   "id": "7f56d262-9277-49d0-820c-7502726cede5",
   "metadata": {
    "deletable": false,
    "nbgrader": {
     "cell_type": "code",
     "checksum": "b304cfcff3242287aaba80da77097efc",
     "grade": true,
     "grade_id": "solution-task-2",
     "locked": false,
     "points": 10,
     "schema_version": 3,
     "solution": true,
     "task": false
    },
    "tags": []
   },
   "outputs": [],
   "source": [
    "# Add your implementation here.\n",
    "df.conversion = df.conversion.astype(\"bool\")\n",
    "df.st = df.st.astype(\"int64\")\n",
    "df.county = df.county.astype(\"int64\")\n",
    "df.streetaddr = df.streetaddr.astype(\"string\")\n",
    "df.strcity = df.strcity.astype(\"string\")\n",
    "df.strstate = df.strstate.astype(\"string\")\n",
    "df.zipcode = df.zipcode.astype(\"int64\")\n",
    "df.type_store = df.type_store.astype(\"string\")\n",
    "df.lat = df.lat.astype(\"float\")\n",
    "df.lon = df.lon.astype(\"float\")\n",
    "df.month = df.month.astype(\"int64\")\n",
    "df.day = df.day.astype(\"int64\")\n",
    "df.year = df.year.astype(\"int64\")\n",
    "\n",
    "\n",
    "df.opendate = df.opendate.astype(\"datetime64[ns]\")\n",
    "df.date_super = df.date_super.astype(\"datetime64[ns]\")\n",
    "\n",
    "\n",
    "#from stackoverflow\n",
    "# import datetime\n",
    "# def fix_date(x):\n",
    "#     if x.year > 1969:\n",
    "#         year = x.year - 100\n",
    "#     else:\n",
    "#         year = x.year\n",
    "#     return datetime.date(year,x.month,x.day)\n",
    "\n",
    "# df.opendate = df.opendate.apply(fix_date)\n",
    "# df.date_super = df.date_super.apply(fix_date)"
   ]
  },
  {
   "cell_type": "code",
   "execution_count": 5,
   "id": "11daa5cf-1e5d-4657-99da-c8aca13108fc",
   "metadata": {
    "deletable": false,
    "editable": false,
    "nbgrader": {
     "cell_type": "code",
     "checksum": "a503615a30ce4fad018124632e134430",
     "grade": false,
     "grade_id": "test-task-2",
     "locked": true,
     "schema_version": 3,
     "solution": false,
     "task": false
    },
    "tags": []
   },
   "outputs": [
    {
     "name": "stdout",
     "output_type": "stream",
     "text": [
      "<class 'pandas.core.frame.DataFrame'>\n",
      "Int64Index: 2992 entries, 1 to 5193\n",
      "Data columns (total 15 columns):\n",
      " #   Column      Non-Null Count  Dtype         \n",
      "---  ------      --------------  -----         \n",
      " 0   opendate    2992 non-null   datetime64[ns]\n",
      " 1   date_super  1946 non-null   datetime64[ns]\n",
      " 2   conversion  2992 non-null   bool          \n",
      " 3   st          2992 non-null   int64         \n",
      " 4   county      2992 non-null   int64         \n",
      " 5   streetaddr  2992 non-null   string        \n",
      " 6   strcity     2992 non-null   string        \n",
      " 7   strstate    2992 non-null   string        \n",
      " 8   zipcode     2992 non-null   int64         \n",
      " 9   type_store  2992 non-null   string        \n",
      " 10  lat         2992 non-null   float64       \n",
      " 11  lon         2992 non-null   float64       \n",
      " 12  month       2992 non-null   int64         \n",
      " 13  day         2992 non-null   int64         \n",
      " 14  year        2992 non-null   int64         \n",
      "dtypes: bool(1), datetime64[ns](2), float64(2), int64(6), string(4)\n",
      "memory usage: 353.5 KB\n"
     ]
    }
   ],
   "source": [
    "df.info()"
   ]
  },
  {
   "cell_type": "markdown",
   "id": "cc610aaa-1c0c-47b4-8515-8a88178845ed",
   "metadata": {
    "deletable": false,
    "editable": false,
    "nbgrader": {
     "cell_type": "markdown",
     "checksum": "a6984370ed9cc22d8493e0a2532fac87",
     "grade": false,
     "grade_id": "description-task-3",
     "locked": true,
     "schema_version": 3,
     "solution": false,
     "task": false
    },
    "tags": []
   },
   "source": [
    "## Task 3\n",
    "\n",
    "Create a new column, `fips`, that stores the FIPS county code as a result of concatenation of the `st` and `county` values."
   ]
  },
  {
   "cell_type": "code",
   "execution_count": 6,
   "id": "5a58991c-9445-4693-bb8f-d3ba6fbc90b6",
   "metadata": {
    "deletable": false,
    "nbgrader": {
     "cell_type": "code",
     "checksum": "991d9855a1f14ffd1f562a99c053eaaa",
     "grade": true,
     "grade_id": "solution-task-3",
     "locked": false,
     "points": 10,
     "schema_version": 3,
     "solution": true,
     "task": false
    },
    "tags": []
   },
   "outputs": [],
   "source": [
    "# Add your implementation here.\n",
    "df[\"fips\"] = df.st.astype(str).str.zfill(2) + df.county.astype(str).str.zfill(3)"
   ]
  },
  {
   "cell_type": "code",
   "execution_count": 7,
   "id": "d1675229-56ed-403c-835f-d34d6dccd3ed",
   "metadata": {
    "deletable": false,
    "editable": false,
    "nbgrader": {
     "cell_type": "code",
     "checksum": "6b9fb023dfde109d925fad80ad3d0056",
     "grade": false,
     "grade_id": "test-task-3",
     "locked": true,
     "schema_version": 3,
     "solution": false,
     "task": false
    },
    "tags": []
   },
   "outputs": [
    {
     "data": {
      "text/plain": [
       "storenum\n",
       "1       05007\n",
       "2       05009\n",
       "4       05007\n",
       "8       05029\n",
       "7       05119\n",
       "        ...  \n",
       "5403    17019\n",
       "3347    12105\n",
       "5485    17031\n",
       "3425    48201\n",
       "5193    06065\n",
       "Name: fips, Length: 2992, dtype: object"
      ]
     },
     "execution_count": 7,
     "metadata": {},
     "output_type": "execute_result"
    }
   ],
   "source": [
    "df.fips"
   ]
  },
  {
   "cell_type": "markdown",
   "id": "41b90df2-060f-4c67-bbaa-d5ab9a65508e",
   "metadata": {
    "deletable": false,
    "editable": false,
    "nbgrader": {
     "cell_type": "markdown",
     "checksum": "0f3e501266edee1ba574bb57fa3c41ae",
     "grade": false,
     "grade_id": "description-task-4",
     "locked": true,
     "schema_version": 3,
     "solution": false,
     "task": false
    },
    "tags": []
   },
   "source": [
    "## Task 4\n",
    "\n",
    "Plot any column(s) from the `DataFrame` using its *opendate* property as `DatetimeIndex`.\n",
    "\n",
    "Hint: You may resample the data if you like."
   ]
  },
  {
   "cell_type": "code",
   "execution_count": 13,
   "id": "df02de9b-4e3b-4a2a-b40f-0cd3781f94ad",
   "metadata": {
    "deletable": false,
    "nbgrader": {
     "cell_type": "code",
     "checksum": "de4ec507457f8342e8995ed2cd862deb",
     "grade": true,
     "grade_id": "solution-task-4",
     "locked": false,
     "points": 10,
     "schema_version": 3,
     "solution": true,
     "task": false
    },
    "tags": []
   },
   "outputs": [
    {
     "data": {
      "text/plain": [
       "<AxesSubplot:xlabel='storenum'>"
      ]
     },
     "execution_count": 13,
     "metadata": {},
     "output_type": "execute_result"
    },
    {
     "data": {
      "image/png": "[encoded data removed]",
      "text/plain": [
       "<Figure size 640x480 with 1 Axes>"
      ]
     },
     "metadata": {},
     "output_type": "display_data"
    }
   ],
   "source": [
    "# Add your implementation here.\n",
    "df.year.plot()"
   ]
  },
  {
   "cell_type": "markdown",
   "id": "cd9c9ca5-e96a-4f48-86d7-8b7ee9c9af7d",
   "metadata": {
    "deletable": false,
    "editable": false,
    "nbgrader": {
     "cell_type": "markdown",
     "checksum": "ebffa0604bfde47676cc53a336a32149",
     "grade": false,
     "grade_id": "description-task-5",
     "locked": true,
     "schema_version": 3,
     "solution": false,
     "task": false
    },
    "tags": []
   },
   "source": [
    "## Task 5\n",
    "\n",
    "Plot current number of stores (ignoring their supercenter status) by state on the map.\n",
    "\n",
    "Hint: Texas should have the most stores with 315; Alaska, Hawaii, and New England states should have 0; Iowa should have 55."
   ]
  },
  {
   "cell_type": "code",
   "execution_count": 14,
   "id": "6f61f334-7962-4e6d-8c4b-494e9f12ca5d",
   "metadata": {},
   "outputs": [
    {
     "data": {
      "text/html": [
       "<div>\n",
       "<style scoped>\n",
       "    .dataframe tbody tr th:only-of-type {\n",
       "        vertical-align: middle;\n",
       "    }\n",
       "\n",
       "    .dataframe tbody tr th {\n",
       "        vertical-align: top;\n",
       "    }\n",
       "\n",
       "    .dataframe thead th {\n",
       "        text-align: right;\n",
       "    }\n",
       "</style>\n",
       "<table border=\"1\" class=\"dataframe\">\n",
       "  <thead>\n",
       "    <tr style=\"text-align: right;\">\n",
       "      <th></th>\n",
       "      <th>opendate</th>\n",
       "      <th>date_super</th>\n",
       "      <th>conversion</th>\n",
       "      <th>st</th>\n",
       "      <th>county</th>\n",
       "      <th>streetaddr</th>\n",
       "      <th>strcity</th>\n",
       "      <th>strstate</th>\n",
       "      <th>zipcode</th>\n",
       "      <th>type_store</th>\n",
       "      <th>lat</th>\n",
       "      <th>lon</th>\n",
       "      <th>month</th>\n",
       "      <th>day</th>\n",
       "      <th>year</th>\n",
       "      <th>fips</th>\n",
       "    </tr>\n",
       "    <tr>\n",
       "      <th>storenum</th>\n",
       "      <th></th>\n",
       "      <th></th>\n",
       "      <th></th>\n",
       "      <th></th>\n",
       "      <th></th>\n",
       "      <th></th>\n",
       "      <th></th>\n",
       "      <th></th>\n",
       "      <th></th>\n",
       "      <th></th>\n",
       "      <th></th>\n",
       "      <th></th>\n",
       "      <th></th>\n",
       "      <th></th>\n",
       "      <th></th>\n",
       "      <th></th>\n",
       "    </tr>\n",
       "  </thead>\n",
       "  <tbody>\n",
       "    <tr>\n",
       "      <th>1</th>\n",
       "      <td>2062-07-01</td>\n",
       "      <td>1997-03-01</td>\n",
       "      <td>True</td>\n",
       "      <td>5</td>\n",
       "      <td>7</td>\n",
       "      <td>2110 WEST WALNUT</td>\n",
       "      <td>Rogers</td>\n",
       "      <td>AR</td>\n",
       "      <td>72756</td>\n",
       "      <td>Supercenter</td>\n",
       "      <td>36.342235</td>\n",
       "      <td>-94.07141</td>\n",
       "      <td>7</td>\n",
       "      <td>1</td>\n",
       "      <td>1962</td>\n",
       "      <td>05007</td>\n",
       "    </tr>\n",
       "    <tr>\n",
       "      <th>2</th>\n",
       "      <td>2064-08-01</td>\n",
       "      <td>1996-03-01</td>\n",
       "      <td>True</td>\n",
       "      <td>5</td>\n",
       "      <td>9</td>\n",
       "      <td>1417 HWY 62/65 N</td>\n",
       "      <td>Harrison</td>\n",
       "      <td>AR</td>\n",
       "      <td>72601</td>\n",
       "      <td>Supercenter</td>\n",
       "      <td>36.236984</td>\n",
       "      <td>-93.09345</td>\n",
       "      <td>8</td>\n",
       "      <td>1</td>\n",
       "      <td>1964</td>\n",
       "      <td>05009</td>\n",
       "    </tr>\n",
       "    <tr>\n",
       "      <th>4</th>\n",
       "      <td>2065-08-01</td>\n",
       "      <td>2002-03-01</td>\n",
       "      <td>True</td>\n",
       "      <td>5</td>\n",
       "      <td>7</td>\n",
       "      <td>2901 HWY 412 EAST</td>\n",
       "      <td>Siloam Springs</td>\n",
       "      <td>AR</td>\n",
       "      <td>72761</td>\n",
       "      <td>Supercenter</td>\n",
       "      <td>36.179905</td>\n",
       "      <td>-94.50208</td>\n",
       "      <td>8</td>\n",
       "      <td>1</td>\n",
       "      <td>1965</td>\n",
       "      <td>05007</td>\n",
       "    </tr>\n",
       "    <tr>\n",
       "      <th>8</th>\n",
       "      <td>2067-10-01</td>\n",
       "      <td>1993-03-01</td>\n",
       "      <td>True</td>\n",
       "      <td>5</td>\n",
       "      <td>29</td>\n",
       "      <td>1621 NORTH BUSINESS 9</td>\n",
       "      <td>Morrilton</td>\n",
       "      <td>AR</td>\n",
       "      <td>72110</td>\n",
       "      <td>Supercenter</td>\n",
       "      <td>35.156491</td>\n",
       "      <td>-92.75858</td>\n",
       "      <td>10</td>\n",
       "      <td>1</td>\n",
       "      <td>1967</td>\n",
       "      <td>05029</td>\n",
       "    </tr>\n",
       "    <tr>\n",
       "      <th>7</th>\n",
       "      <td>2067-10-01</td>\n",
       "      <td>NaT</td>\n",
       "      <td>True</td>\n",
       "      <td>5</td>\n",
       "      <td>119</td>\n",
       "      <td>3801 CAMP ROBINSON RD.</td>\n",
       "      <td>North Little Rock</td>\n",
       "      <td>AR</td>\n",
       "      <td>72118</td>\n",
       "      <td>Wal-Mart</td>\n",
       "      <td>34.813269</td>\n",
       "      <td>-92.30229</td>\n",
       "      <td>10</td>\n",
       "      <td>1</td>\n",
       "      <td>1967</td>\n",
       "      <td>05119</td>\n",
       "    </tr>\n",
       "  </tbody>\n",
       "</table>\n",
       "</div>"
      ],
      "text/plain": [
       "           opendate date_super  conversion  st  county  \\\n",
       "storenum                                                 \n",
       "1        2062-07-01 1997-03-01        True   5       7   \n",
       "2        2064-08-01 1996-03-01        True   5       9   \n",
       "4        2065-08-01 2002-03-01        True   5       7   \n",
       "8        2067-10-01 1993-03-01        True   5      29   \n",
       "7        2067-10-01        NaT        True   5     119   \n",
       "\n",
       "                      streetaddr            strcity strstate  zipcode  \\\n",
       "storenum                                                                \n",
       "1               2110 WEST WALNUT             Rogers       AR    72756   \n",
       "2               1417 HWY 62/65 N           Harrison       AR    72601   \n",
       "4              2901 HWY 412 EAST     Siloam Springs       AR    72761   \n",
       "8          1621 NORTH BUSINESS 9          Morrilton       AR    72110   \n",
       "7         3801 CAMP ROBINSON RD.  North Little Rock       AR    72118   \n",
       "\n",
       "           type_store        lat       lon  month  day  year   fips  \n",
       "storenum                                                             \n",
       "1         Supercenter  36.342235 -94.07141      7    1  1962  05007  \n",
       "2         Supercenter  36.236984 -93.09345      8    1  1964  05009  \n",
       "4         Supercenter  36.179905 -94.50208      8    1  1965  05007  \n",
       "8         Supercenter  35.156491 -92.75858     10    1  1967  05029  \n",
       "7            Wal-Mart  34.813269 -92.30229     10    1  1967  05119  "
      ]
     },
     "execution_count": 14,
     "metadata": {},
     "output_type": "execute_result"
    }
   ],
   "source": [
    "df.head()"
   ]
  },
  {
   "cell_type": "code",
   "execution_count": 18,
   "id": "add937e2-0d68-4dcb-8dc4-d75168f5f3ee",
   "metadata": {
    "deletable": false,
    "nbgrader": {
     "cell_type": "code",
     "checksum": "2c4338443c91b9756da91e05947ecc31",
     "grade": true,
     "grade_id": "solution-task-5",
     "locked": false,
     "points": 10,
     "schema_version": 3,
     "solution": true,
     "task": false
    },
    "tags": []
   },
   "outputs": [
    {
     "ename": "ValueError",
     "evalue": "Value of 'color' is not the name of a column in 'data_frame'. Expected one of ['opendate', 'date_super', 'conversion', 'st', 'county', 'streetaddr', 'strcity', 'strstate', 'zipcode', 'type_store', 'lat', 'lon', 'month', 'day', 'year', 'fips'] but received: storenum",
     "output_type": "error",
     "traceback": [
      "\u001b[0;31m---------------------------------------------------------------------------\u001b[0m",
      "\u001b[0;31mValueError\u001b[0m                                Traceback (most recent call last)",
      "Cell \u001b[0;32mIn[18], line 2\u001b[0m\n\u001b[1;32m      1\u001b[0m \u001b[38;5;66;03m# Add your implementation here.\u001b[39;00m\n\u001b[0;32m----> 2\u001b[0m fig \u001b[38;5;241m=\u001b[39m \u001b[43mpx\u001b[49m\u001b[38;5;241;43m.\u001b[39;49m\u001b[43mchoropleth\u001b[49m\u001b[43m(\u001b[49m\u001b[43mdf\u001b[49m\u001b[43m,\u001b[49m\u001b[43m \u001b[49m\u001b[43mlocations\u001b[49m\u001b[38;5;241;43m=\u001b[39;49m\u001b[38;5;124;43m\"\u001b[39;49m\u001b[38;5;124;43mfips\u001b[39;49m\u001b[38;5;124;43m\"\u001b[39;49m\u001b[43m,\u001b[49m\u001b[43m \u001b[49m\u001b[43mcolor\u001b[49m\u001b[38;5;241;43m=\u001b[39;49m\u001b[38;5;124;43m\"\u001b[39;49m\u001b[38;5;124;43mstorenum\u001b[39;49m\u001b[38;5;124;43m\"\u001b[39;49m\u001b[43m,\u001b[49m\n\u001b[1;32m      3\u001b[0m \u001b[43m                    \u001b[49m\u001b[43mprojection\u001b[49m\u001b[38;5;241;43m=\u001b[39;49m\u001b[38;5;124;43m\"\u001b[39;49m\u001b[38;5;124;43malbers usa\u001b[39;49m\u001b[38;5;124;43m\"\u001b[39;49m\u001b[43m,\u001b[49m\u001b[43m \u001b[49m\u001b[43mlocationmode\u001b[49m\u001b[38;5;241;43m=\u001b[39;49m\u001b[38;5;124;43m\"\u001b[39;49m\u001b[38;5;124;43mUSA-states\u001b[39;49m\u001b[38;5;124;43m\"\u001b[39;49m\u001b[43m,\u001b[49m\n\u001b[1;32m      4\u001b[0m \u001b[43m                    \u001b[49m\u001b[43mcolor_continuous_scale\u001b[49m\u001b[38;5;241;43m=\u001b[39;49m\u001b[43mpx\u001b[49m\u001b[38;5;241;43m.\u001b[39;49m\u001b[43mcolors\u001b[49m\u001b[38;5;241;43m.\u001b[39;49m\u001b[43mqualitative\u001b[49m\u001b[38;5;241;43m.\u001b[39;49m\u001b[43mSafe\u001b[49m\u001b[43m)\u001b[49m\n\u001b[1;32m      5\u001b[0m fig\u001b[38;5;241m.\u001b[39mshow()\n",
      "File \u001b[0;32m~/.local/lib/python3.10/site-packages/plotly/express/_chart_types.py:1077\u001b[0m, in \u001b[0;36mchoropleth\u001b[0;34m(data_frame, lat, lon, locations, locationmode, geojson, featureidkey, color, facet_row, facet_col, facet_col_wrap, facet_row_spacing, facet_col_spacing, hover_name, hover_data, custom_data, animation_frame, animation_group, category_orders, labels, color_discrete_sequence, color_discrete_map, color_continuous_scale, range_color, color_continuous_midpoint, projection, scope, center, fitbounds, basemap_visible, title, template, width, height)\u001b[0m\n\u001b[1;32m   1037\u001b[0m \u001b[38;5;28;01mdef\u001b[39;00m \u001b[38;5;21mchoropleth\u001b[39m(\n\u001b[1;32m   1038\u001b[0m     data_frame\u001b[38;5;241m=\u001b[39m\u001b[38;5;28;01mNone\u001b[39;00m,\n\u001b[1;32m   1039\u001b[0m     lat\u001b[38;5;241m=\u001b[39m\u001b[38;5;28;01mNone\u001b[39;00m,\n\u001b[0;32m   (...)\u001b[0m\n\u001b[1;32m   1071\u001b[0m     height\u001b[38;5;241m=\u001b[39m\u001b[38;5;28;01mNone\u001b[39;00m,\n\u001b[1;32m   1072\u001b[0m ):\n\u001b[1;32m   1073\u001b[0m \u001b[38;5;250m    \u001b[39m\u001b[38;5;124;03m\"\"\"\u001b[39;00m\n\u001b[1;32m   1074\u001b[0m \u001b[38;5;124;03m    In a choropleth map, each row of `data_frame` is represented by a\u001b[39;00m\n\u001b[1;32m   1075\u001b[0m \u001b[38;5;124;03m    colored region mark on a map.\u001b[39;00m\n\u001b[1;32m   1076\u001b[0m \u001b[38;5;124;03m    \"\"\"\u001b[39;00m\n\u001b[0;32m-> 1077\u001b[0m     \u001b[38;5;28;01mreturn\u001b[39;00m \u001b[43mmake_figure\u001b[49m\u001b[43m(\u001b[49m\n\u001b[1;32m   1078\u001b[0m \u001b[43m        \u001b[49m\u001b[43margs\u001b[49m\u001b[38;5;241;43m=\u001b[39;49m\u001b[38;5;28;43mlocals\u001b[39;49m\u001b[43m(\u001b[49m\u001b[43m)\u001b[49m\u001b[43m,\u001b[49m\n\u001b[1;32m   1079\u001b[0m \u001b[43m        \u001b[49m\u001b[43mconstructor\u001b[49m\u001b[38;5;241;43m=\u001b[39;49m\u001b[43mgo\u001b[49m\u001b[38;5;241;43m.\u001b[39;49m\u001b[43mChoropleth\u001b[49m\u001b[43m,\u001b[49m\n\u001b[1;32m   1080\u001b[0m \u001b[43m        \u001b[49m\u001b[43mtrace_patch\u001b[49m\u001b[38;5;241;43m=\u001b[39;49m\u001b[38;5;28;43mdict\u001b[39;49m\u001b[43m(\u001b[49m\u001b[43mlocationmode\u001b[49m\u001b[38;5;241;43m=\u001b[39;49m\u001b[43mlocationmode\u001b[49m\u001b[43m)\u001b[49m\u001b[43m,\u001b[49m\n\u001b[1;32m   1081\u001b[0m \u001b[43m    \u001b[49m\u001b[43m)\u001b[49m\n",
      "File \u001b[0;32m~/.local/lib/python3.10/site-packages/plotly/express/_core.py:1945\u001b[0m, in \u001b[0;36mmake_figure\u001b[0;34m(args, constructor, trace_patch, layout_patch)\u001b[0m\n\u001b[1;32m   1942\u001b[0m layout_patch \u001b[38;5;241m=\u001b[39m layout_patch \u001b[38;5;129;01mor\u001b[39;00m {}\n\u001b[1;32m   1943\u001b[0m apply_default_cascade(args)\n\u001b[0;32m-> 1945\u001b[0m args \u001b[38;5;241m=\u001b[39m \u001b[43mbuild_dataframe\u001b[49m\u001b[43m(\u001b[49m\u001b[43margs\u001b[49m\u001b[43m,\u001b[49m\u001b[43m \u001b[49m\u001b[43mconstructor\u001b[49m\u001b[43m)\u001b[49m\n\u001b[1;32m   1946\u001b[0m \u001b[38;5;28;01mif\u001b[39;00m constructor \u001b[38;5;129;01min\u001b[39;00m [go\u001b[38;5;241m.\u001b[39mTreemap, go\u001b[38;5;241m.\u001b[39mSunburst, go\u001b[38;5;241m.\u001b[39mIcicle] \u001b[38;5;129;01mand\u001b[39;00m args[\u001b[38;5;124m\"\u001b[39m\u001b[38;5;124mpath\u001b[39m\u001b[38;5;124m\"\u001b[39m] \u001b[38;5;129;01mis\u001b[39;00m \u001b[38;5;129;01mnot\u001b[39;00m \u001b[38;5;28;01mNone\u001b[39;00m:\n\u001b[1;32m   1947\u001b[0m     args \u001b[38;5;241m=\u001b[39m process_dataframe_hierarchy(args)\n",
      "File \u001b[0;32m~/.local/lib/python3.10/site-packages/plotly/express/_core.py:1405\u001b[0m, in \u001b[0;36mbuild_dataframe\u001b[0;34m(args, constructor)\u001b[0m\n\u001b[1;32m   1402\u001b[0m     args[\u001b[38;5;124m\"\u001b[39m\u001b[38;5;124mcolor\u001b[39m\u001b[38;5;124m\"\u001b[39m] \u001b[38;5;241m=\u001b[39m \u001b[38;5;28;01mNone\u001b[39;00m\n\u001b[1;32m   1403\u001b[0m \u001b[38;5;66;03m# now that things have been prepped, we do the systematic rewriting of `args`\u001b[39;00m\n\u001b[0;32m-> 1405\u001b[0m df_output, wide_id_vars \u001b[38;5;241m=\u001b[39m \u001b[43mprocess_args_into_dataframe\u001b[49m\u001b[43m(\u001b[49m\n\u001b[1;32m   1406\u001b[0m \u001b[43m    \u001b[49m\u001b[43margs\u001b[49m\u001b[43m,\u001b[49m\u001b[43m \u001b[49m\u001b[43mwide_mode\u001b[49m\u001b[43m,\u001b[49m\u001b[43m \u001b[49m\u001b[43mvar_name\u001b[49m\u001b[43m,\u001b[49m\u001b[43m \u001b[49m\u001b[43mvalue_name\u001b[49m\n\u001b[1;32m   1407\u001b[0m \u001b[43m\u001b[49m\u001b[43m)\u001b[49m\n\u001b[1;32m   1409\u001b[0m \u001b[38;5;66;03m# now that `df_output` exists and `args` contains only references, we complete\u001b[39;00m\n\u001b[1;32m   1410\u001b[0m \u001b[38;5;66;03m# the special-case and wide-mode handling by further rewriting args and/or mutating\u001b[39;00m\n\u001b[1;32m   1411\u001b[0m \u001b[38;5;66;03m# df_output\u001b[39;00m\n\u001b[1;32m   1413\u001b[0m count_name \u001b[38;5;241m=\u001b[39m _escape_col_name(df_output, \u001b[38;5;124m\"\u001b[39m\u001b[38;5;124mcount\u001b[39m\u001b[38;5;124m\"\u001b[39m, [var_name, value_name])\n",
      "File \u001b[0;32m~/.local/lib/python3.10/site-packages/plotly/express/_core.py:1207\u001b[0m, in \u001b[0;36mprocess_args_into_dataframe\u001b[0;34m(args, wide_mode, var_name, value_name)\u001b[0m\n\u001b[1;32m   1205\u001b[0m         \u001b[38;5;28;01mif\u001b[39;00m argument \u001b[38;5;241m==\u001b[39m \u001b[38;5;124m\"\u001b[39m\u001b[38;5;124mindex\u001b[39m\u001b[38;5;124m\"\u001b[39m:\n\u001b[1;32m   1206\u001b[0m             err_msg \u001b[38;5;241m+\u001b[39m\u001b[38;5;241m=\u001b[39m \u001b[38;5;124m\"\u001b[39m\u001b[38;5;130;01m\\n\u001b[39;00m\u001b[38;5;124m To use the index, pass it in directly as `df.index`.\u001b[39m\u001b[38;5;124m\"\u001b[39m\n\u001b[0;32m-> 1207\u001b[0m         \u001b[38;5;28;01mraise\u001b[39;00m \u001b[38;5;167;01mValueError\u001b[39;00m(err_msg)\n\u001b[1;32m   1208\u001b[0m \u001b[38;5;28;01melif\u001b[39;00m length \u001b[38;5;129;01mand\u001b[39;00m \u001b[38;5;28mlen\u001b[39m(df_input[argument]) \u001b[38;5;241m!=\u001b[39m length:\n\u001b[1;32m   1209\u001b[0m     \u001b[38;5;28;01mraise\u001b[39;00m \u001b[38;5;167;01mValueError\u001b[39;00m(\n\u001b[1;32m   1210\u001b[0m         \u001b[38;5;124m\"\u001b[39m\u001b[38;5;124mAll arguments should have the same length. \u001b[39m\u001b[38;5;124m\"\u001b[39m\n\u001b[1;32m   1211\u001b[0m         \u001b[38;5;124m\"\u001b[39m\u001b[38;5;124mThe length of column argument `df[\u001b[39m\u001b[38;5;132;01m%s\u001b[39;00m\u001b[38;5;124m]` is \u001b[39m\u001b[38;5;132;01m%d\u001b[39;00m\u001b[38;5;124m, whereas the \u001b[39m\u001b[38;5;124m\"\u001b[39m\n\u001b[0;32m   (...)\u001b[0m\n\u001b[1;32m   1218\u001b[0m         )\n\u001b[1;32m   1219\u001b[0m     )\n",
      "\u001b[0;31mValueError\u001b[0m: Value of 'color' is not the name of a column in 'data_frame'. Expected one of ['opendate', 'date_super', 'conversion', 'st', 'county', 'streetaddr', 'strcity', 'strstate', 'zipcode', 'type_store', 'lat', 'lon', 'month', 'day', 'year', 'fips'] but received: storenum"
     ]
    }
   ],
   "source": [
    "# Add your implementation here.\n",
    "fig = px.choropleth(df, locations=\"fips\", color=\"storenum\",\n",
    "                    projection=\"albers usa\", locationmode=\"USA-states\",\n",
    "                    color_continuous_scale=px.colors.qualitative.Safe)\n",
    "fig.show()"
   ]
  },
  {
   "cell_type": "markdown",
   "id": "d1fd77a9",
   "metadata": {
    "deletable": false,
    "editable": false,
    "nbgrader": {
     "cell_type": "markdown",
     "checksum": "905c6481fc0a62cc67f3fb217487d5d6",
     "grade": false,
     "grade_id": "checklist",
     "locked": true,
     "schema_version": 3,
     "solution": false,
     "task": false
    },
    "tags": []
   },
   "source": [
    "## Submission Checklist\n",
    "\n",
    "- [ ] Your name, today's date, and the assignment title in the designated cell.\n",
    "- [ ] Your answers in the designated cells (if required).\n",
    "- [ ] Your code runs and produces the expected output.\n",
    "- [ ] The validity of your code is verified by autograders (if provided).\n",
    "- [ ] Restart the kernel and run all cells (in the menubar, select *Kernel*, then *Restart Kernel and Run All Cells*).\n",
    "- [ ] Save the notebook.\n",
    "- [ ] Submit the assignment.\n"
   ]
  }
 ],
 "metadata": {
  "kernelspec": {
   "display_name": "DS320 (Python3.10)",
   "language": "python",
   "name": "ds320"
  },
  "language_info": {
   "codemirror_mode": {
    "name": "ipython",
    "version": 3
   },
   "file_extension": ".py",
   "mimetype": "text/x-python",
   "name": "python",
   "nbconvert_exporter": "python",
   "pygments_lexer": "ipython3",
   "version": "3.10.8"
  }
 },
 "nbformat": 4,
 "nbformat_minor": 5
}
