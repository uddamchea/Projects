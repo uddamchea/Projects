{
 "cells": [
  {
   "cell_type": "code",
   "execution_count": null,
   "metadata": {},
   "outputs": [],
   "source": [
    "\n",
    "import types\n",
    "import pandas as pd\n",
    "from botocore.client import Config\n",
    "import ibm_boto3\n",
    "\n",
    "def __iter__(self): return 0\n",
    "\n",
    "# @hidden_cell\n",
    "# The following code accesses a file in your IBM Cloud Object Storage. It includes your credentials.\n",
    "# You might want to remove those credentials before you share the notebook.\n",
    "client_502779f5d92d4e2788b57800a11e2285 = ibm_boto3.client(service_name='s3',\n",
    "    ibm_api_key_id='JO8DPwPDKE1FAzPFJBhcg30fdL1Pn6o7TUeWaM1GAQYp',\n",
    "    ibm_auth_endpoint=\"https://iam.ng.bluemix.net/oidc/token\",\n",
    "    config=Config(signature_version='oauth'),\n",
    "    endpoint_url='https://s3-api.us-geo.objectstorage.service.networklayer.com')\n",
    "\n",
    "body = client_502779f5d92d4e2788b57800a11e2285.get_object(Bucket='ds239assignment-donotdelete-pr-symlcbcsovzyqm',Key='movie_metadata.csv')['Body']\n",
    "# add missing __iter__ method, so pandas accepts body as file-like object\n",
    "if not hasattr(body, \"__iter__\"): body.__iter__ = types.MethodType( __iter__, body )\n",
    "\n",
    "df = pd.read_csv(body)\n",
    "df.head()\n"
   ]
  },
  {
   "cell_type": "code",
   "execution_count": null,
   "metadata": {},
   "outputs": [],
   "source": [
    "#Printing data shape\n",
    "print(df.shape)"
   ]
  },
  {
   "cell_type": "code",
   "execution_count": null,
   "metadata": {},
   "outputs": [],
   "source": [
    "#Getting all the different attributes name\n",
    "print(df.columns)"
   ]
  },
  {
   "cell_type": "code",
   "execution_count": null,
   "metadata": {},
   "outputs": [],
   "source": [
    "#Delete attributes that are not useful\n",
    "clean_df=df.drop(['duration', 'director_facebook_likes', 'actor_3_facebook_likes', 'actor_2_name', 'cast_total_facebook_likes', 'actor_1_name', 'actor_3_name', 'actor_2_facebook_likes', 'facenumber_in_poster', \n",
    "       'actor_1_facebook_likes', 'plot_keywords', 'movie_imdb_link', 'movie_facebook_likes', 'aspect_ratio'], axis=1)\n",
    "print(clean_df.shape)\n",
    "print(clean_df.columns)"
   ]
  },
  {
   "cell_type": "code",
   "execution_count": null,
   "metadata": {},
   "outputs": [],
   "source": [
    "#Checking for null data\n",
    "null_data = clean_df[clean_df.isnull().any(axis=1)]\n",
    "print(null_data)"
   ]
  },
  {
   "cell_type": "code",
   "execution_count": null,
   "metadata": {},
   "outputs": [],
   "source": [
    "clean_df.head(5043)"
   ]
  },
  {
   "cell_type": "code",
   "execution_count": null,
   "metadata": {},
   "outputs": [],
   "source": [
    "#Drop rows that have missing values across the table\n",
    "clean_df.dropna(axis=0, how='any', thresh=None, subset=None, inplace=True)\n",
    "clean_df.head(5043)\n",
    "print(clean_df.shape)\n",
    "clean_df.head(3835)"
   ]
  },
  {
   "cell_type": "code",
   "execution_count": null,
   "metadata": {},
   "outputs": [],
   "source": [
    "#Check for total missing values\n",
    "print('Total missing values: ', clean_df.isnull().sum())\n",
    "print('Total missing values: ', clean_df.isnull().sum().sum())\n"
   ]
  },
  {
   "cell_type": "code",
   "execution_count": null,
   "metadata": {},
   "outputs": [],
   "source": [
    "#Finding duplicate rows\n",
    "dup_df=clean_df[clean_df.duplicated()]\n",
    "print('There are ', dup_df.shape, 'duplicate rows')"
   ]
  },
  {
   "cell_type": "code",
   "execution_count": null,
   "metadata": {},
   "outputs": [],
   "source": [
    "#Drop duplicate rows\n",
    "print('data shape with duplicated rows: ', clean_df.shape)\n",
    "print('data shape without duplicated rows: ', clean_df.drop_duplicates().shape)"
   ]
  },
  {
   "cell_type": "code",
   "execution_count": null,
   "metadata": {},
   "outputs": [],
   "source": [
    "#Bucketing attributes \n",
    "title_year_label = ['Very Old', 'Old', 'New']\n",
    "category = [1900,2000,2010,2020]\n",
    "clean_df['title_year_label'] = pd.cut(clean_df['title_year'], labels=title_year_label, bins=category, include_lowest = False)\n",
    "print(clean_df[['title_year','title_year_label']])"
   ]
  },
  {
   "cell_type": "code",
   "execution_count": null,
   "metadata": {},
   "outputs": [],
   "source": [
    "#Bucketing attributes \n",
    "imdb_score_label = ['High', 'Low']\n",
    "category = [0.0,6.0,10.0]\n",
    "clean_df['imdb_score_label'] = pd.cut(clean_df['imdb_score'], labels=imdb_score_label, bins=category, include_lowest = False)\n",
    "print(clean_df[['imdb_score','imdb_score_label']])"
   ]
  },
  {
   "cell_type": "code",
   "execution_count": null,
   "metadata": {},
   "outputs": [],
   "source": [
    "import numpy as np\n",
    "import seaborn as sns\n",
    "import matplotlib.pyplot as plt\n",
    "%matplotlib inline\n",
    "#Boxplot for attributes\n",
    "sns.boxplot(x=clean_df['imdb_score'], color='green')"
   ]
  },
  {
   "cell_type": "code",
   "execution_count": null,
   "metadata": {},
   "outputs": [],
   "source": [
    "#Boxplot for attributes\n",
    "sns.boxplot(x=clean_df['budget'], color='green')"
   ]
  },
  {
   "cell_type": "code",
   "execution_count": null,
   "metadata": {},
   "outputs": [],
   "source": [
    "#Checking data type to calculate z-score\n",
    "print(clean_df.dtypes)"
   ]
  },
  {
   "cell_type": "code",
   "execution_count": null,
   "metadata": {},
   "outputs": [],
   "source": [
    "#Creating new dataframe with only int or float attributes\n",
    "NOb_df=clean_df.select_dtypes(exclude=['object'])\n",
    "print(clean_df.shape)\n",
    "print(NOb_df.shape)"
   ]
  },
  {
   "cell_type": "code",
   "execution_count": null,
   "metadata": {},
   "outputs": [],
   "source": [
    "#Looking in to an attribute for outlier\n",
    "print(clean_df[['director_name', 'genres', 'movie_title', 'title_year', 'imdb_score']].iloc[clean_df['imdb_score'].idxmax()])"
   ]
  },
  {
   "cell_type": "code",
   "execution_count": null,
   "metadata": {},
   "outputs": [],
   "source": [
    "#Describe that attribute\n",
    "print(clean_df['imdb_score'].describe())"
   ]
  },
  {
   "cell_type": "code",
   "execution_count": null,
   "metadata": {},
   "outputs": [],
   "source": [
    "#Counting values for attributes with categorical data\n",
    "content_rating_count=clean_df[\"content_rating\"].value_counts()\n",
    "content_rating_count.rename(colunms={'content_rating':'value_counts'}, inplace=True)\n",
    "content_rating_count.index.name='content_rating'\n",
    "print(content_rating_count)"
   ]
  },
  {
   "cell_type": "code",
   "execution_count": null,
   "metadata": {},
   "outputs": [],
   "source": [
    "#Visualizing the boxplot\n",
    "sns.boxplot(x=\"content_rating\", y=\"imdb_score\", data=clean_df)"
   ]
  },
  {
   "cell_type": "code",
   "execution_count": null,
   "metadata": {},
   "outputs": [],
   "source": [
    "#Visualizing the boxplot\n",
    "sns.boxplot(x=\"num_voted_users\", y=\"imdb_score\", data=clean_df)"
   ]
  },
  {
   "cell_type": "code",
   "execution_count": null,
   "metadata": {},
   "outputs": [],
   "source": [
    "#Grouping of data and visualizationa as table\n",
    "new_df=clean_[['genres','content_rating','imdb_score']]\n",
    "df_grp=dftmp.groupby(['genres','content_rating'],as_index=False).mean()\n",
    "print(df_grp)"
   ]
  },
  {
   "cell_type": "code",
   "execution_count": null,
   "metadata": {},
   "outputs": [],
   "source": [
    "#Grouping of data and visualizationa as pivot table\n",
    "pivot_df=df_grp.pivot(index='genres',columns='content_rating')\n",
    "print(pivot_df)"
   ]
  },
  {
   "cell_type": "code",
   "execution_count": null,
   "metadata": {},
   "outputs": [],
   "source": [
    "#Heat map for pivot table\n",
    "plt.pcolor(pivot_df, cmap='RdBu')\n",
    "plt.colorbar()\n",
    "plt.show()"
   ]
  },
  {
   "cell_type": "code",
   "execution_count": null,
   "metadata": {},
   "outputs": [],
   "source": [
    "plt.bar(dfwh[\"genre\"],dfwh[\"imdb_score\"], align='center', alpha=0.5)\n",
    "plt.ylabel('imdb_score')\n",
    "plt.title('title')\n",
    "plt.ion()\n",
    "plt.show()"
   ]
  },
  {
   "cell_type": "code",
   "execution_count": null,
   "metadata": {},
   "outputs": [],
   "source": [
    "#Pearson coefficient\n",
    "pearson_coef, p_value = stat.pearsonr(clean_df['content_rating'], clean_df['imdb_score'])\n",
    "print(pearson_coef, p_value) \n",
    "\n",
    "print(\"This is correlation\")\n",
    "print(clean_df.corr())"
   ]
  },
  {
   "cell_type": "code",
   "execution_count": null,
   "metadata": {},
   "outputs": [],
   "source": []
  }
 ],
 "metadata": {
  "kernelspec": {
   "display_name": "Python 3",
   "language": "python",
   "name": "python3"
  },
  "language_info": {
   "codemirror_mode": {
    "name": "ipython",
    "version": 3
   },
   "file_extension": ".py",
   "mimetype": "text/x-python",
   "name": "python",
   "nbconvert_exporter": "python",
   "pygments_lexer": "ipython3",
   "version": "3.6.9"
  }
 },
 "nbformat": 4,
 "nbformat_minor": 1
}
