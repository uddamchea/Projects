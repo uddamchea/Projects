{
 "cells": [
  {
   "cell_type": "code",
   "execution_count": 3,
   "metadata": {},
   "outputs": [],
   "source": [
    "import pandas as pd\n",
    "import numpy as np\n",
    "import matplotlib.pyplot as plt\n",
    "import seaborn as sb\n",
    "import scipy.stats as stat\n",
    "import sklearn as sk\n",
    "from sklearn.linear_model import LinearRegression\n",
    "from sklearn.preprocessing import PolynomialFeatures\n",
    "from sklearn.preprocessing import StandardScaler\n",
    "from sklearn.pipeline import Pipeline\n",
    "from sklearn.metrics import mean_squared_error\n",
    "#defined file path\n",
    "url=\"https://archive.ics.uci.edu/ml/machine-learning-databases/autos/imports-85.data\""
   ]
  },
  {
   "cell_type": "code",
   "execution_count": 4,
   "metadata": {},
   "outputs": [
    {
     "name": "stdout",
     "output_type": "stream",
     "text": [
      "symboling              int64\n",
      "normalized-losses     object\n",
      "make                  object\n",
      "fuel-type             object\n",
      "aspiration            object\n",
      "num-of-doors          object\n",
      "body-style            object\n",
      "drive-wheels          object\n",
      "engine-location       object\n",
      "wheel-base           float64\n",
      "length               float64\n",
      "width                float64\n",
      "height               float64\n",
      "curb-weight            int64\n",
      "engine-type           object\n",
      "num-of-cylinders      object\n",
      "engine-size            int64\n",
      "fuel-system           object\n",
      "bore                  object\n",
      "stroke                object\n",
      "compression-ratio    float64\n",
      "horsepower            object\n",
      "peak-rpm              object\n",
      "city-mpg               int64\n",
      "highway-mpg            int64\n",
      "price                 object\n",
      "dtype: object\n",
      "        symboling  wheel-base      length       width      height  \\\n",
      "count  205.000000  205.000000  205.000000  205.000000  205.000000   \n",
      "mean     0.834146   98.756585  174.049268   65.907805   53.724878   \n",
      "std      1.245307    6.021776   12.337289    2.145204    2.443522   \n",
      "min     -2.000000   86.600000  141.100000   60.300000   47.800000   \n",
      "25%      0.000000   94.500000  166.300000   64.100000   52.000000   \n",
      "50%      1.000000   97.000000  173.200000   65.500000   54.100000   \n",
      "75%      2.000000  102.400000  183.100000   66.900000   55.500000   \n",
      "max      3.000000  120.900000  208.100000   72.300000   59.800000   \n",
      "\n",
      "       curb-weight  engine-size  compression-ratio    city-mpg  highway-mpg  \n",
      "count   205.000000   205.000000         205.000000  205.000000   205.000000  \n",
      "mean   2555.565854   126.907317          10.142537   25.219512    30.751220  \n",
      "std     520.680204    41.642693           3.972040    6.542142     6.886443  \n",
      "min    1488.000000    61.000000           7.000000   13.000000    16.000000  \n",
      "25%    2145.000000    97.000000           8.600000   19.000000    25.000000  \n",
      "50%    2414.000000   120.000000           9.000000   24.000000    30.000000  \n",
      "75%    2935.000000   141.000000           9.400000   30.000000    34.000000  \n",
      "max    4066.000000   326.000000          23.000000   49.000000    54.000000  \n",
      "         symboling normalized-losses    make fuel-type aspiration  \\\n",
      "count   205.000000               205     205       205        205   \n",
      "unique         NaN                52      22         2          2   \n",
      "top            NaN                 ?  toyota       gas        std   \n",
      "freq           NaN                41      32       185        168   \n",
      "mean      0.834146               NaN     NaN       NaN        NaN   \n",
      "std       1.245307               NaN     NaN       NaN        NaN   \n",
      "min      -2.000000               NaN     NaN       NaN        NaN   \n",
      "25%       0.000000               NaN     NaN       NaN        NaN   \n",
      "50%       1.000000               NaN     NaN       NaN        NaN   \n",
      "75%       2.000000               NaN     NaN       NaN        NaN   \n",
      "max       3.000000               NaN     NaN       NaN        NaN   \n",
      "\n",
      "       num-of-doors body-style drive-wheels engine-location  wheel-base  ...  \\\n",
      "count           205        205          205             205  205.000000  ...   \n",
      "unique            3          5            3               2         NaN  ...   \n",
      "top            four      sedan          fwd           front         NaN  ...   \n",
      "freq            114         96          120             202         NaN  ...   \n",
      "mean            NaN        NaN          NaN             NaN   98.756585  ...   \n",
      "std             NaN        NaN          NaN             NaN    6.021776  ...   \n",
      "min             NaN        NaN          NaN             NaN   86.600000  ...   \n",
      "25%             NaN        NaN          NaN             NaN   94.500000  ...   \n",
      "50%             NaN        NaN          NaN             NaN   97.000000  ...   \n",
      "75%             NaN        NaN          NaN             NaN  102.400000  ...   \n",
      "max             NaN        NaN          NaN             NaN  120.900000  ...   \n",
      "\n",
      "        engine-size  fuel-system  bore  stroke compression-ratio horsepower  \\\n",
      "count    205.000000          205   205     205        205.000000        205   \n",
      "unique          NaN            8    39      37               NaN         60   \n",
      "top             NaN         mpfi  3.62    3.40               NaN         68   \n",
      "freq            NaN           94    23      20               NaN         19   \n",
      "mean     126.907317          NaN   NaN     NaN         10.142537        NaN   \n",
      "std       41.642693          NaN   NaN     NaN          3.972040        NaN   \n",
      "min       61.000000          NaN   NaN     NaN          7.000000        NaN   \n",
      "25%       97.000000          NaN   NaN     NaN          8.600000        NaN   \n",
      "50%      120.000000          NaN   NaN     NaN          9.000000        NaN   \n",
      "75%      141.000000          NaN   NaN     NaN          9.400000        NaN   \n",
      "max      326.000000          NaN   NaN     NaN         23.000000        NaN   \n",
      "\n",
      "        peak-rpm    city-mpg highway-mpg price  \n",
      "count        205  205.000000  205.000000   205  \n",
      "unique        24         NaN         NaN   187  \n",
      "top         5500         NaN         NaN     ?  \n",
      "freq          37         NaN         NaN     4  \n",
      "mean         NaN   25.219512   30.751220   NaN  \n",
      "std          NaN    6.542142    6.886443   NaN  \n",
      "min          NaN   13.000000   16.000000   NaN  \n",
      "25%          NaN   19.000000   25.000000   NaN  \n",
      "50%          NaN   24.000000   30.000000   NaN  \n",
      "75%          NaN   30.000000   34.000000   NaN  \n",
      "max          NaN   49.000000   54.000000   NaN  \n",
      "\n",
      "[11 rows x 26 columns]\n",
      "<bound method DataFrame.info of      symboling normalized-losses         make fuel-type aspiration  \\\n",
      "0            3                 ?  alfa-romero       gas        std   \n",
      "1            3                 ?  alfa-romero       gas        std   \n",
      "2            1                 ?  alfa-romero       gas        std   \n",
      "3            2               164         audi       gas        std   \n",
      "4            2               164         audi       gas        std   \n",
      "..         ...               ...          ...       ...        ...   \n",
      "200         -1                95        volvo       gas        std   \n",
      "201         -1                95        volvo       gas      turbo   \n",
      "202         -1                95        volvo       gas        std   \n",
      "203         -1                95        volvo    diesel      turbo   \n",
      "204         -1                95        volvo       gas      turbo   \n",
      "\n",
      "    num-of-doors   body-style drive-wheels engine-location  wheel-base  ...  \\\n",
      "0            two  convertible          rwd           front        88.6  ...   \n",
      "1            two  convertible          rwd           front        88.6  ...   \n",
      "2            two    hatchback          rwd           front        94.5  ...   \n",
      "3           four        sedan          fwd           front        99.8  ...   \n",
      "4           four        sedan          4wd           front        99.4  ...   \n",
      "..           ...          ...          ...             ...         ...  ...   \n",
      "200         four        sedan          rwd           front       109.1  ...   \n",
      "201         four        sedan          rwd           front       109.1  ...   \n",
      "202         four        sedan          rwd           front       109.1  ...   \n",
      "203         four        sedan          rwd           front       109.1  ...   \n",
      "204         four        sedan          rwd           front       109.1  ...   \n",
      "\n",
      "     engine-size  fuel-system  bore  stroke compression-ratio horsepower  \\\n",
      "0            130         mpfi  3.47    2.68               9.0        111   \n",
      "1            130         mpfi  3.47    2.68               9.0        111   \n",
      "2            152         mpfi  2.68    3.47               9.0        154   \n",
      "3            109         mpfi  3.19    3.40              10.0        102   \n",
      "4            136         mpfi  3.19    3.40               8.0        115   \n",
      "..           ...          ...   ...     ...               ...        ...   \n",
      "200          141         mpfi  3.78    3.15               9.5        114   \n",
      "201          141         mpfi  3.78    3.15               8.7        160   \n",
      "202          173         mpfi  3.58    2.87               8.8        134   \n",
      "203          145          idi  3.01    3.40              23.0        106   \n",
      "204          141         mpfi  3.78    3.15               9.5        114   \n",
      "\n",
      "     peak-rpm city-mpg highway-mpg  price  \n",
      "0        5000       21          27  13495  \n",
      "1        5000       21          27  16500  \n",
      "2        5000       19          26  16500  \n",
      "3        5500       24          30  13950  \n",
      "4        5500       18          22  17450  \n",
      "..        ...      ...         ...    ...  \n",
      "200      5400       23          28  16845  \n",
      "201      5300       19          25  19045  \n",
      "202      5500       18          23  21485  \n",
      "203      4800       26          27  22470  \n",
      "204      5400       19          25  22625  \n",
      "\n",
      "[205 rows x 26 columns]>\n",
      "     symboling normalized-losses         make fuel-type aspiration  \\\n",
      "0            3                 ?  alfa-romero       gas        std   \n",
      "1            3                 ?  alfa-romero       gas        std   \n",
      "2            1                 ?  alfa-romero       gas        std   \n",
      "3            2               164         audi       gas        std   \n",
      "4            2               164         audi       gas        std   \n",
      "..         ...               ...          ...       ...        ...   \n",
      "200         -1                95        volvo       gas        std   \n",
      "201         -1                95        volvo       gas      turbo   \n",
      "202         -1                95        volvo       gas        std   \n",
      "203         -1                95        volvo    diesel      turbo   \n",
      "204         -1                95        volvo       gas      turbo   \n",
      "\n",
      "    num-of-doors   body-style drive-wheels engine-location  wheel-base  ...  \\\n",
      "0            two  convertible          rwd           front        88.6  ...   \n",
      "1            two  convertible          rwd           front        88.6  ...   \n",
      "2            two    hatchback          rwd           front        94.5  ...   \n",
      "3           four        sedan          fwd           front        99.8  ...   \n",
      "4           four        sedan          4wd           front        99.4  ...   \n",
      "..           ...          ...          ...             ...         ...  ...   \n",
      "200         four        sedan          rwd           front       109.1  ...   \n",
      "201         four        sedan          rwd           front       109.1  ...   \n",
      "202         four        sedan          rwd           front       109.1  ...   \n",
      "203         four        sedan          rwd           front       109.1  ...   \n",
      "204         four        sedan          rwd           front       109.1  ...   \n",
      "\n",
      "     engine-size  fuel-system  bore  stroke compression-ratio horsepower  \\\n",
      "0            130         mpfi  3.47    2.68               9.0        111   \n",
      "1            130         mpfi  3.47    2.68               9.0        111   \n",
      "2            152         mpfi  2.68    3.47               9.0        154   \n",
      "3            109         mpfi  3.19    3.40              10.0        102   \n",
      "4            136         mpfi  3.19    3.40               8.0        115   \n",
      "..           ...          ...   ...     ...               ...        ...   \n",
      "200          141         mpfi  3.78    3.15               9.5        114   \n",
      "201          141         mpfi  3.78    3.15               8.7        160   \n",
      "202          173         mpfi  3.58    2.87               8.8        134   \n",
      "203          145          idi  3.01    3.40              23.0        106   \n",
      "204          141         mpfi  3.78    3.15               9.5        114   \n",
      "\n",
      "     peak-rpm city-mpg highway-mpg  price  \n",
      "0        5000       21          27  13495  \n",
      "1        5000       21          27  16500  \n",
      "2        5000       19          26  16500  \n",
      "3        5500       24          30  13950  \n",
      "4        5500       18          22  17450  \n",
      "..        ...      ...         ...    ...  \n",
      "200      5400       23          28  16845  \n",
      "201      5300       19          25  19045  \n",
      "202      5500       18          23  21485  \n",
      "203      4800       26          27  22470  \n",
      "204      5400       19          25  22625  \n",
      "\n",
      "[205 rows x 26 columns]\n"
     ]
    }
   ],
   "source": [
    "#everything in file\n",
    "df=pd.read_csv(url)\n",
    "#Without header\n",
    "dfwh=pd.read_csv(url,header= None )\n",
    "#add headers in list\n",
    "headers=[\"symboling\",\"normalized-losses\",\"make\",\"fuel-type\",\"aspiration\",\"num-of-doors\",\"body-style\",\"drive-wheels\",\n",
    "         \"engine-location\",\"wheel-base\",\"length\",\"width\",\"height\",\"curb-weight\",\"engine-type\",\"num-of-cylinders\",\n",
    "         \"engine-size\",\"fuel-system\",\"bore\",\"stroke\",\"compression-ratio\",\"horsepower\",\"peak-rpm\",\"city-mpg\",\"highway-mpg\",\"price\"]\n",
    "#assign list of header as data frame column names\n",
    "dfwh.columns=headers\n",
    "#prints dataframe attributes data types in series\n",
    "print(dfwh.dtypes)\n",
    "#Statistical analysis of data distribution\n",
    "print(dfwh.describe())\n",
    "#for all attributes including non numeric\n",
    "print(dfwh.describe(include=\"all\"))\n",
    "#It describes top to and bottom 30 rows each for sample\n",
    "print(dfwh.info)\n",
    "print(dfwh)"
   ]
  },
  {
   "cell_type": "code",
   "execution_count": 5,
   "metadata": {},
   "outputs": [],
   "source": [
    "\n",
    "dfwh[\"price\"].replace(\"?\",\"0\",inplace=True)\n",
    "dfwh[\"price\"]=pd.to_numeric(dfwh[\"price\"])\n",
    "dfwh[\"horsepower\"].replace(\"?\",\"0\",inplace=True)\n",
    "dfwh[\"horsepower\"]=pd.to_numeric(dfwh[\"horsepower\"])\n",
    "dfwh[\"highway-mpg\"].replace(\"?\",\"0\",inplace=True)\n",
    "dfwh[\"highway-mpg\"]=pd.to_numeric(dfwh[\"highway-mpg\"])\n",
    "dfwh[\"curb-weight\"].replace(\"?\",\"0\",inplace=True)\n",
    "dfwh[\"curb-weight\"]=pd.to_numeric(dfwh[\"curb-weight\"])\n",
    "dfwh[\"engine-size\"].replace(\"?\",\"0\",inplace=True)\n",
    "dfwh[\"engine-size\"]=pd.to_numeric(dfwh[\"engine-size\"])\n"
   ]
  },
  {
   "cell_type": "code",
   "execution_count": 6,
   "metadata": {},
   "outputs": [
    {
     "name": "stdout",
     "output_type": "stream",
     "text": [
      "[15975.79026479 15975.79026479 16782.55750053 13555.48855758\n",
      " 20009.62644348 17589.32473626 17589.32473626 17589.32473626\n",
      " 21623.16091495 20009.62644348 14362.25579332 14362.25579332\n",
      " 15169.02302905 15169.02302905 17589.32473626 20009.62644348\n",
      " 20009.62644348 21623.16091495 -5000.15786438  3067.51449299\n",
      "  3067.51449299  4681.04896447  7101.35067168 13555.48855758\n",
      "  7101.35067168  7101.35067168  7101.35067168 13555.48855758\n",
      " 13555.48855758 18396.091972   -5806.92510011  7101.35067168\n",
      "  3874.28172873 10328.41961463 10328.41961463 10328.41961463\n",
      " 10328.41961463 11135.18685037 11135.18685037 11135.18685037\n",
      " 11135.18685037 15169.02302905 12748.72132184 14362.25579332\n",
      "  3067.51449299  3067.51449299 14362.25579332 22429.92815069\n",
      " 22429.92815069 24043.46262216 12748.72132184  7101.35067168\n",
      "  7101.35067168  7101.35067168  7101.35067168 19202.85920774\n",
      " 19202.85920774 19202.85920774 19202.85920774 11941.9540861\n",
      " 11941.9540861  11941.9540861  11941.9540861   3874.28172873\n",
      " 11941.9540861  15975.79026479  6294.58343594 17589.32473626\n",
      " 17589.32473626 17589.32473626 17589.32473626 23236.69538642\n",
      " 23236.69538642 24850.2298579  24850.2298579  18396.091972\n",
      "  4681.04896447  7101.35067168  7101.35067168 13555.48855758\n",
      " 13555.48855758 11941.9540861  18396.091972   18396.091972\n",
      " 18396.091972   11941.9540861  11941.9540861  13555.48855758\n",
      " 13555.48855758  7908.11790742 -2579.85615717  7908.11790742\n",
      "  7908.11790742  7908.11790742  7908.11790742  7908.11790742\n",
      "  7908.11790742  7908.11790742  7908.11790742 10328.41961463\n",
      " 10328.41961463 20009.62644348 20009.62644348 17589.32473626\n",
      " 17589.32473626 19202.85920774 17589.32473626 18396.091972\n",
      " 11135.18685037 18396.091972   17589.32473626 18396.091972\n",
      " 11135.18685037 18396.091972   17589.32473626 18396.091972\n",
      " 11135.18685037 18396.091972    4681.04896447 13555.48855758\n",
      "  7101.35067168  7101.35067168  7101.35067168 13555.48855758\n",
      " 18396.091972   15975.79026479 17589.32473626 17589.32473626\n",
      " 17589.32473626 15169.02302905 12748.72132184 12748.72132184\n",
      " 15169.02302905 15169.02302905 15169.02302905 15169.02302905\n",
      " 16782.55750053 16782.55750053  8714.88514316 12748.72132184\n",
      " 12748.72132184  7908.11790742 11135.18685037 11941.9540861\n",
      " 17589.32473626 14362.25579332 11941.9540861  12748.72132184\n",
      " 14362.25579332 19202.85920774  6294.58343594  7101.35067168\n",
      "  7101.35067168  7908.11790742 11941.9540861  11941.9540861\n",
      "  7908.11790742  7908.11790742  8714.88514316  -159.55444995\n",
      "  -159.55444995 10328.41961463 10328.41961463 10328.41961463\n",
      " 10328.41961463 14362.25579332 14362.25579332 13555.48855758\n",
      " 13555.48855758 13555.48855758 13555.48855758 13555.48855758\n",
      " 13555.48855758 10328.41961463 11135.18685037 11941.9540861\n",
      " 11941.9540861  11941.9540861  18396.091972   18396.091972\n",
      " 18396.091972   18396.091972     647.21278578 10328.41961463\n",
      "   647.21278578 10328.41961463 10328.41961463  3874.28172873\n",
      " 11941.9540861  14362.25579332 14362.25579332 18396.091972\n",
      "  7101.35067168 12748.72132184 15169.02302905 15169.02302905\n",
      " 15169.02302905 15169.02302905 20009.62644348 20009.62644348\n",
      " 15169.02302905 17589.32473626 19202.85920774 15975.79026479\n",
      " 17589.32473626]\n",
      "Intercept= 37758.505629693725\n",
      "Slope= [-806.76723574]\n"
     ]
    }
   ],
   "source": [
    "#*************************************************************************\n",
    "#******************* Model building ***************************\n",
    "#*************************************************************************\n",
    "#importing linear model from scikit\n",
    "lm=LinearRegression()\n",
    "#prepare variables for model, make sure [highway] is read as data frame (2D array) rather 1D\n",
    "x=dfwh[['highway-mpg']]\n",
    "y=dfwh['price']\n",
    "#Model fitting\n",
    "lm.fit(x,y)\n",
    "#prediction\n",
    "yhat=lm.predict(x)\n",
    "print(yhat)\n",
    "#intercept\n",
    "print(\"Intercept=\",lm.intercept_)\n",
    "print(\"Slope=\",lm.coef_)"
   ]
  },
  {
   "cell_type": "code",
   "execution_count": 11,
   "metadata": {
    "scrolled": true
   },
   "outputs": [
    {
     "name": "stdout",
     "output_type": "stream",
     "text": [
      "[13896.49032606 13896.49032606 17227.23244169 10375.21137424\n",
      " 16290.42510874 14803.20232557 15851.4869507  16193.65700638\n",
      " 16774.35165898 16232.01250439 10621.32269212 10621.32269212\n",
      " 18036.9536937  18208.03872154 19633.90021086 25530.04045633\n",
      " 25996.6359868  26734.65012691 -1481.28889727  4655.05455499\n",
      "  4763.92684543  5019.51072075  5543.28751782  8477.43453608\n",
      "  5826.35547297  5894.78948411  5894.78948411  8673.40465888\n",
      " 12528.96986454 18033.50821987  2514.87539344  5556.62590679\n",
      "  3512.15132738  6631.38203079  6681.15222071  6849.12661168\n",
      "  6892.67552786  9723.08620511  9887.94995921  9934.60951226\n",
      " 10146.1328194  11240.50567186 10186.22451351 10885.2541009\n",
      "  4655.05455499  4763.92684543 12973.25930694 34239.19102087\n",
      " 34239.19102087 41551.14469471  6922.40536039  5731.36586927\n",
      "  5746.91905362  5871.34452841  5886.89771276  7312.14020322\n",
      "  7312.14020322  7327.69338757  8665.79116232 11731.29052399\n",
      " 11809.05644574 11731.29052399 11809.05644574 10256.28841207\n",
      " 11855.71599879 15369.49206704 12904.37424102 23210.78107532\n",
      " 23941.78073972 23148.56833792 24003.99347712 30772.59085594\n",
      " 30601.5058281  39881.55398387 38852.39389664 16390.93679496\n",
      "  5377.00360244  5981.65695812  6168.29517031  8530.31536287\n",
      " 10527.93293297 11535.88350111 18101.942231   18375.67827555\n",
      " 18391.2314599  11650.9770653  11775.40254009 10630.58394967\n",
      " 10630.58394967  6547.75434854  5420.10733796  6637.96281776\n",
      "  6700.17555516  6967.69032596  6740.61383447  6980.13287344\n",
      "  6802.82657186  7008.12860527  6917.92013605 10906.68366617\n",
      " 10838.24965504 22070.01402446 22695.2520353  21437.36493695\n",
      " 21435.38049992 21815.08112543 21646.90380707 14817.60958445\n",
      " 17435.45041038 15470.84332711 19556.96692656 14997.74497294\n",
      " 17606.53543822 15650.9787156  19728.0519544  14988.69461229\n",
      " 17606.53543822 16544.06945759  5150.15746928  8477.43453608\n",
      "  5826.35547297  5894.78948411  7430.52266444 12528.96986454\n",
      " 18055.28267796 16849.01543386 21717.34627615 21717.34627615\n",
      " 21854.21429843 23745.32596253 14023.69215555 13653.52636804\n",
      " 13047.78569717 13162.87926135 13200.20690379 13358.84938415\n",
      " 13637.30674275 13758.62158067  7223.15915027  9543.41807066\n",
      "  9916.69449504  8532.90377535  9371.25149724  9958.1371295\n",
      " 11374.56381236 10933.7941289   9856.90744991 10490.45263522\n",
      " 10785.06704005 12416.8368848   5961.75188605  6307.42917958\n",
      "  6229.66325783  7228.57429402  8132.64199116 10683.36422441\n",
      "  7253.8945138   7340.99234615  9456.37965573  7535.86473316\n",
      "  5548.41013622  7905.20742252  7961.19888618  8051.40735541\n",
      "  8160.27964585  9032.93224968  9141.80454013 15139.97159767\n",
      " 15127.52905019 15174.18860324 15572.35012257 15681.22241302\n",
      " 16493.09863604 11162.3769747  10540.90894558 11785.29755062\n",
      " 11785.29755062 11922.16557289 20175.70641686 20300.13189166\n",
      " 20680.48103331 19608.46310492  6210.50893845  9355.60885768\n",
      "  6219.84084906  9364.94076829  9560.91089109  7016.89205444\n",
      "  9919.98363933 10345.92294364 10243.27192693 15456.83266921\n",
      "  8524.02670335 10966.97556569 16088.24807238 16467.74577049\n",
      " 16159.79272038 16492.63086545 16084.65398221 16433.04531163\n",
      " 16212.67354717 16830.02382564 20811.30761181 17701.47829228\n",
      " 17078.62039991]\n",
      "MLR Intercept= -3558.1248837676612\n",
      "MLR Slope= [-174.59226569    3.11063687  113.42306658   -4.52518033]\n"
     ]
    }
   ],
   "source": [
    "#Multiple linear regression\n",
    "z=dfwh[['highway-mpg','curb-weight','engine-size','horsepower']]\n",
    "lm.fit(z,dfwh['price'])\n",
    "yhatm=lm.predict(z)\n",
    "print(yhatm)\n",
    "print(\"MLR Intercept=\",lm.intercept_)\n",
    "print(\"MLR Slope=\",lm.coef_)"
   ]
  },
  {
   "cell_type": "code",
   "execution_count": 12,
   "metadata": {},
   "outputs": [
    {
     "data": {
      "image/png": "[encoded data removed]",
      "text/plain": [
       "<Figure size 432x288 with 1 Axes>"
      ]
     },
     "metadata": {
      "needs_background": "light"
     },
     "output_type": "display_data"
    }
   ],
   "source": [
    "#Model visualization \n",
    "#Residual plot\n",
    "plt=sb.residplot(dfwh['highway-mpg'],dfwh['price'])\n",
    " \n"
   ]
  },
  {
   "cell_type": "code",
   "execution_count": 13,
   "metadata": {},
   "outputs": [
    {
     "data": {
      "text/plain": [
       "<matplotlib.axes._subplots.AxesSubplot at 0x7fe022517810>"
      ]
     },
     "execution_count": 13,
     "metadata": {},
     "output_type": "execute_result"
    },
    {
     "data": {
      "image/png": "[encoded data removed]",
      "text/plain": [
       "<Figure size 432x288 with 1 Axes>"
      ]
     },
     "metadata": {
      "needs_background": "light"
     },
     "output_type": "display_data"
    }
   ],
   "source": [
    "#Distribution plot\n",
    "ax1=sb.distplot(dfwh['price'],hist=False,color=\"r\",label=\"Actual vlues\")\n",
    "sb.distplot(yhatm,hist=False,color='b',label=\"Fitted values\",ax=ax1)"
   ]
  },
  {
   "cell_type": "code",
   "execution_count": 14,
   "metadata": {},
   "outputs": [
    {
     "name": "stdout",
     "output_type": "stream",
     "text": [
      "MSE= 17092937.937706746\n",
      "R Square= 0.47289700751877217\n"
     ]
    }
   ],
   "source": [
    "#Evaluating model\n",
    "#MSE\n",
    "MSE=mean_squared_error(dfwh['price'],yhatm)\n",
    "print(\"MSE=\",MSE)\n",
    "#R square\n",
    "lm2=LinearRegression()\n",
    "lm2.fit(x,y)\n",
    "R=lm2.score(x,y)\n",
    "print(\"R Square=\",R)"
   ]
  },
  {
   "cell_type": "code",
   "execution_count": 20,
   "metadata": {},
   "outputs": [
    {
     "name": "stdout",
     "output_type": "stream",
     "text": [
      "[ 1.33336088e+04  1.33336088e+04  1.67285876e+04  1.21825496e+04\n",
      "  1.68668652e+04  1.62856988e+04  1.62040344e+04  1.60884375e+04\n",
      "  1.69062906e+04  1.41935861e+04  1.23977400e+04  1.11025019e+04\n",
      "  1.83851044e+04  1.83273060e+04  2.00194398e+04  2.60788004e+04\n",
      "  2.53620833e+04  2.68325418e+04 -2.03274548e+03  3.98897912e+03\n",
      "  3.36851267e+03  4.05737211e+03  5.14641646e+03  8.07577709e+03\n",
      "  5.00074429e+03  4.97762491e+03  4.97762491e+03  7.95952959e+03\n",
      "  1.32014834e+04  1.79706707e+04  2.19279722e+01  4.91759684e+03\n",
      "  2.77914981e+03  6.62587375e+03  6.60905965e+03  7.03434016e+03\n",
      "  7.84798441e+03  9.10992020e+03  9.05422350e+03  9.41279177e+03\n",
      "  9.78544368e+03  1.07589910e+04  9.77725030e+03  1.04743219e+04\n",
      "  3.98897912e+03  3.30457923e+03  1.18140721e+04  3.23810526e+04\n",
      "  3.23810526e+04  4.02542759e+04  7.61667420e+03  5.86748624e+03\n",
      "  5.86223183e+03  5.98995090e+03  5.98469649e+03  8.00575122e+03\n",
      "  8.00575122e+03  8.00049681e+03  9.49378499e+03  1.16964698e+04\n",
      "  1.14729566e+04  1.16964698e+04  1.14729566e+04  1.18355465e+04\n",
      "  1.14571934e+04  1.57632009e+04  1.45024012e+04  2.42147278e+04\n",
      "  2.45182327e+04  2.39851634e+04  2.46420326e+04  3.00898901e+04\n",
      "  2.85827961e+04  4.14821675e+04  4.01111047e+04  1.69392929e+04\n",
      "  4.81046446e+03  5.87473144e+03  5.81167858e+03  7.96820421e+03\n",
      "  1.08469554e+04  1.18021858e+04  1.79475513e+04  1.78550737e+04\n",
      "  1.78498193e+04  1.10052995e+04  1.09632642e+04  1.00542725e+04\n",
      "  8.75903441e+03  7.46364519e+03  7.15696959e+03  7.43316964e+03\n",
      "  7.41215202e+03  7.17959175e+03  7.39849057e+03  7.02393457e+03\n",
      "  7.37747295e+03  7.16593030e+03  7.69891648e+03  1.05712976e+04\n",
      "  1.05944169e+04  2.19959384e+04  2.20988547e+04  2.12537901e+04\n",
      "  2.02010832e+04  2.07777811e+04  2.00187618e+04  1.43454063e+04\n",
      "  1.86476943e+04  1.57014738e+04  2.20821338e+04  1.42700949e+04\n",
      "  1.85898958e+04  1.51257424e+04  2.20243354e+04  1.42876079e+04\n",
      "  1.85898958e+04  1.59397063e+04  4.01068957e+03  8.07577709e+03\n",
      "  5.00074429e+03  5.24812705e+03  6.03923850e+03  1.32014834e+04\n",
      "  1.79633145e+04  1.66754195e+04  2.35078623e+04  2.35078623e+04\n",
      "  2.34616235e+04  2.26329613e+04  1.19260405e+04  1.20502817e+04\n",
      "  1.50896588e+04  1.44006116e+04  1.50356201e+04  1.43344061e+04\n",
      "  1.58943026e+04  1.52056991e+04  7.65766688e+03  1.04199815e+04\n",
      "  1.06969093e+04  7.73389625e+03  8.89333243e+03  9.07736445e+03\n",
      "  1.11506050e+04  9.98426437e+03  9.03301005e+03  9.39073777e+03\n",
      "  1.03905917e+04  1.15089047e+04  5.88597694e+03  6.31640546e+03\n",
      "  6.34267749e+03  7.04954660e+03  8.48526323e+03  7.62354077e+03\n",
      "  6.41062185e+03  6.33115519e+03  1.10164973e+04  8.08323221e+03\n",
      "  3.50450952e+03  7.16035627e+03  7.14144041e+03  7.61127988e+03\n",
      "  7.57449904e+03  9.36403339e+03  9.32725256e+03  1.58892743e+04\n",
      "  1.58934778e+04  1.58777146e+04  1.57432018e+04  1.57064210e+04\n",
      "  1.56823510e+04  1.06063019e+04  1.24631737e+04  1.08669773e+04\n",
      "  1.11171873e+04  1.08207386e+04  2.16862778e+04  2.17064244e+04\n",
      "  1.98863456e+04  1.86732730e+04  9.02537695e+03  1.08061270e+04\n",
      "  9.02222430e+03  1.08029744e+04  1.07367689e+04  1.00625282e+04\n",
      "  1.16375795e+04  1.22636139e+04  1.14214028e+04  1.56106790e+04\n",
      "  9.90504968e+03  1.02762053e+04  1.46769246e+04  1.55216091e+04\n",
      "  1.45905725e+04  1.54510202e+04  1.48787892e+04  1.57339825e+04\n",
      "  1.54428753e+04  1.65237702e+04  2.08987295e+04  1.90854697e+04\n",
      "  1.62945046e+04]\n",
      "MLR Intercept= -14469.859104312167\n",
      "MLR Slope= [ 647.61904984  128.15414465   22.04601423 -164.48585974  250.20997035\n",
      "   -1.05088105  125.42367873  254.55414548    8.75649621  -62.18184044\n",
      " -239.49961591]\n"
     ]
    }
   ],
   "source": [
    "#Multiple linear regression\n",
    "z=dfwh[['symboling', 'wheel-base', 'length', 'width', 'height', 'curb-weight', 'engine-size', 'compression-ratio', 'horsepower', 'city-mpg', 'highway-mpg']]\n",
    "lm.fit(z,dfwh['price'])\n",
    "yhatm=lm.predict(z)\n",
    "print(yhatm)\n",
    "print(\"MLR Intercept=\",lm.intercept_)\n",
    "print(\"MLR Slope=\",lm.coef_)"
   ]
  },
  {
   "cell_type": "code",
   "execution_count": 23,
   "metadata": {},
   "outputs": [
    {
     "data": {
      "image/png": "[encoded data removed]",
      "text/plain": [
       "<Figure size 432x288 with 1 Axes>"
      ]
     },
     "metadata": {
      "needs_background": "light"
     },
     "output_type": "display_data"
    }
   ],
   "source": [
    "#Model visualization \n",
    "#Residual plot\n",
    "plt=sb.residplot(dfwh['highway-mpg'],dfwh['price'])"
   ]
  },
  {
   "cell_type": "code",
   "execution_count": 22,
   "metadata": {},
   "outputs": [
    {
     "data": {
      "image/png": "[encoded data removed]",
      "text/plain": [
       "<Figure size 432x288 with 1 Axes>"
      ]
     },
     "metadata": {
      "needs_background": "light"
     },
     "output_type": "display_data"
    }
   ],
   "source": [
    "plt=sb.residplot(dfwh['city-mpg'],dfwh['price'])"
   ]
  },
  {
   "cell_type": "code",
   "execution_count": 24,
   "metadata": {},
   "outputs": [
    {
     "data": {
      "text/plain": [
       "<matplotlib.axes._subplots.AxesSubplot at 0x7fe020145ed0>"
      ]
     },
     "execution_count": 24,
     "metadata": {},
     "output_type": "execute_result"
    },
    {
     "data": {
      "image/png": "[encoded data removed]",
      "text/plain": [
       "<Figure size 432x288 with 1 Axes>"
      ]
     },
     "metadata": {
      "needs_background": "light"
     },
     "output_type": "display_data"
    }
   ],
   "source": [
    "#Distribution plot\n",
    "ax1=sb.distplot(dfwh['price'],hist=False,color=\"r\",label=\"Actual values\")\n",
    "sb.distplot(yhatm,hist=False,color='b',label=\"Fitted values\",ax=ax1)"
   ]
  },
  {
   "cell_type": "code",
   "execution_count": null,
   "metadata": {},
   "outputs": [],
   "source": []
  }
 ],
 "metadata": {
  "kernelspec": {
   "display_name": "Python 3",
   "language": "python",
   "name": "python3"
  },
  "language_info": {
   "codemirror_mode": {
    "name": "ipython",
    "version": 3
   },
   "file_extension": ".py",
   "mimetype": "text/x-python",
   "name": "python",
   "nbconvert_exporter": "python",
   "pygments_lexer": "ipython3",
   "version": "3.7.6"
  }
 },
 "nbformat": 4,
 "nbformat_minor": 2
}
